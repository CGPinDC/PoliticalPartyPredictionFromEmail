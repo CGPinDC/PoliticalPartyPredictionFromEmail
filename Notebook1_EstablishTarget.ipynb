{
 "cells": [
  {
   "cell_type": "markdown",
   "metadata": {},
   "source": [
    "# Capstone Proposal\n",
    "[Link to Capstone Proposal](https://docs.google.com/document/d/1mas-YDI0C1bP-O6wKjwplSKIP6eb1z0eGJJ3U1x1kGo/edit?usp=sharing)"
   ]
  },
  {
   "cell_type": "markdown",
   "metadata": {},
   "source": [
    "# Imports"
   ]
  },
  {
   "cell_type": "code",
   "execution_count": 136,
   "metadata": {},
   "outputs": [],
   "source": [
    "import pandas as pd\n",
    "pd.set_option('display.max_columns', None)\n",
    "\n",
    "import numpy as np\n",
    "import re\n",
    "\n",
    "import matplotlib.pyplot as plt\n",
    "\n",
    "from wordcloud import WordCloud\n",
    "from PIL import Image\n",
    "from os import path"
   ]
  },
  {
   "cell_type": "markdown",
   "metadata": {},
   "source": [
    "# Princeton Corpus of Political Emails \n",
    "[Documentation](https://electionemails2020.org/assets/corpus_documentation_v1.0.pdf)"
   ]
  },
  {
   "cell_type": "code",
   "execution_count": 4,
   "metadata": {},
   "outputs": [],
   "source": [
    "corpus = pd.read_csv('corpus_v1.0/corpus_v1.0.csv', low_memory=False)"
   ]
  },
  {
   "cell_type": "code",
   "execution_count": 5,
   "metadata": {},
   "outputs": [
    {
     "data": {
      "text/html": [
       "<div>\n",
       "<style scoped>\n",
       "    .dataframe tbody tr th:only-of-type {\n",
       "        vertical-align: middle;\n",
       "    }\n",
       "\n",
       "    .dataframe tbody tr th {\n",
       "        vertical-align: top;\n",
       "    }\n",
       "\n",
       "    .dataframe thead th {\n",
       "        text-align: right;\n",
       "    }\n",
       "</style>\n",
       "<table border=\"1\" class=\"dataframe\">\n",
       "  <thead>\n",
       "    <tr style=\"text-align: right;\">\n",
       "      <th></th>\n",
       "      <th>from_name</th>\n",
       "      <th>from_address</th>\n",
       "      <th>subject</th>\n",
       "      <th>body_text</th>\n",
       "      <th>name</th>\n",
       "      <th>office_sought</th>\n",
       "      <th>party_affiliation</th>\n",
       "      <th>office_level</th>\n",
       "      <th>district_type</th>\n",
       "      <th>final_website</th>\n",
       "      <th>crawl_date</th>\n",
       "      <th>source</th>\n",
       "      <th>state</th>\n",
       "      <th>type</th>\n",
       "      <th>subtype</th>\n",
       "      <th>date</th>\n",
       "      <th>hour</th>\n",
       "      <th>day</th>\n",
       "      <th>uid_email</th>\n",
       "      <th>uid_inbox</th>\n",
       "      <th>incumbent</th>\n",
       "    </tr>\n",
       "  </thead>\n",
       "  <tbody>\n",
       "    <tr>\n",
       "      <th>0</th>\n",
       "      <td>Kathleen Williams</td>\n",
       "      <td>info@kathleenformontana.com</td>\n",
       "      <td>Welcome to the team!</td>\n",
       "      <td>Thanks for joining the team! My name is Kathle...</td>\n",
       "      <td>Kathleen Williams</td>\n",
       "      <td>U.S. House Montana At-large District</td>\n",
       "      <td>Democratic Party</td>\n",
       "      <td>Federal</td>\n",
       "      <td>Congress</td>\n",
       "      <td>https://kathleenformontana.com/</td>\n",
       "      <td>12-02-2019</td>\n",
       "      <td>ballotpedia-campaign</td>\n",
       "      <td>NaN</td>\n",
       "      <td>NaN</td>\n",
       "      <td>NaN</td>\n",
       "      <td>2019-12-05</td>\n",
       "      <td>19</td>\n",
       "      <td>Thu</td>\n",
       "      <td>7182e4e604717330ecaf2699be61b200</td>\n",
       "      <td>08f13962c5b2090e32c902552a4ff634</td>\n",
       "      <td>No</td>\n",
       "    </tr>\n",
       "    <tr>\n",
       "      <th>1</th>\n",
       "      <td>Goal Update -- via Team Kathleen</td>\n",
       "      <td>info@kathleenformontana.com</td>\n",
       "      <td>Quickly closing in</td>\n",
       "      <td>We’re just 5 days away from our June 30th FEC ...</td>\n",
       "      <td>Kathleen Williams</td>\n",
       "      <td>U.S. House Montana At-large District</td>\n",
       "      <td>Democratic Party</td>\n",
       "      <td>Federal</td>\n",
       "      <td>Congress</td>\n",
       "      <td>https://kathleenformontana.com/</td>\n",
       "      <td>12-02-2019</td>\n",
       "      <td>ballotpedia-campaign</td>\n",
       "      <td>NaN</td>\n",
       "      <td>NaN</td>\n",
       "      <td>NaN</td>\n",
       "      <td>2020-06-25</td>\n",
       "      <td>14</td>\n",
       "      <td>Thu</td>\n",
       "      <td>00768081c0a2487180314475ed1121d1</td>\n",
       "      <td>08f13962c5b2090e32c902552a4ff634</td>\n",
       "      <td>No</td>\n",
       "    </tr>\n",
       "    <tr>\n",
       "      <th>2</th>\n",
       "      <td>Kathleen Williams</td>\n",
       "      <td>info@kathleenformontana.com</td>\n",
       "      <td>Welcome to the team!</td>\n",
       "      <td>Thanks for joining the team! My name is Kathle...</td>\n",
       "      <td>Kathleen Williams</td>\n",
       "      <td>U.S. House Montana At-large District</td>\n",
       "      <td>Democratic Party</td>\n",
       "      <td>Federal</td>\n",
       "      <td>Congress</td>\n",
       "      <td>https://kathleenformontana.com/</td>\n",
       "      <td>12-02-2019</td>\n",
       "      <td>ballotpedia-campaign</td>\n",
       "      <td>NaN</td>\n",
       "      <td>NaN</td>\n",
       "      <td>NaN</td>\n",
       "      <td>2019-12-03</td>\n",
       "      <td>19</td>\n",
       "      <td>Tue</td>\n",
       "      <td>54f56022dcd037ccb583f65a5668a073</td>\n",
       "      <td>08f13962c5b2090e32c902552a4ff634</td>\n",
       "      <td>No</td>\n",
       "    </tr>\n",
       "    <tr>\n",
       "      <th>3</th>\n",
       "      <td>Kathleen Williams</td>\n",
       "      <td>teamwilliams@kathleenformontana.com</td>\n",
       "      <td>Remembering Dr. King</td>\n",
       "      <td>Today we remember and honor the legacy of Dr. ...</td>\n",
       "      <td>Kathleen Williams</td>\n",
       "      <td>U.S. House Montana At-large District</td>\n",
       "      <td>Democratic Party</td>\n",
       "      <td>Federal</td>\n",
       "      <td>Congress</td>\n",
       "      <td>https://kathleenformontana.com/</td>\n",
       "      <td>12-02-2019</td>\n",
       "      <td>ballotpedia-campaign</td>\n",
       "      <td>NaN</td>\n",
       "      <td>NaN</td>\n",
       "      <td>NaN</td>\n",
       "      <td>2020-01-20</td>\n",
       "      <td>12</td>\n",
       "      <td>Mon</td>\n",
       "      <td>ff3fc8ba9b209b771a73ef831a4117b5</td>\n",
       "      <td>08f13962c5b2090e32c902552a4ff634</td>\n",
       "      <td>No</td>\n",
       "    </tr>\n",
       "    <tr>\n",
       "      <th>4</th>\n",
       "      <td>Jeff Allen</td>\n",
       "      <td>teamwilliams@kathleenformontana.com</td>\n",
       "      <td>We need to close the gap fast</td>\n",
       "      <td>Here’s the truth,summer is the most difficult ...</td>\n",
       "      <td>Kathleen Williams</td>\n",
       "      <td>U.S. House Montana At-large District</td>\n",
       "      <td>Democratic Party</td>\n",
       "      <td>Federal</td>\n",
       "      <td>Congress</td>\n",
       "      <td>https://kathleenformontana.com/</td>\n",
       "      <td>12-02-2019</td>\n",
       "      <td>ballotpedia-campaign</td>\n",
       "      <td>NaN</td>\n",
       "      <td>NaN</td>\n",
       "      <td>NaN</td>\n",
       "      <td>2020-07-27</td>\n",
       "      <td>17</td>\n",
       "      <td>Mon</td>\n",
       "      <td>36e237928f238bf5fab8d5a5462d9a04</td>\n",
       "      <td>08f13962c5b2090e32c902552a4ff634</td>\n",
       "      <td>No</td>\n",
       "    </tr>\n",
       "  </tbody>\n",
       "</table>\n",
       "</div>"
      ],
      "text/plain": [
       "                          from_name                         from_address  \\\n",
       "0                 Kathleen Williams          info@kathleenformontana.com   \n",
       "1  Goal Update -- via Team Kathleen          info@kathleenformontana.com   \n",
       "2                 Kathleen Williams          info@kathleenformontana.com   \n",
       "3                 Kathleen Williams  teamwilliams@kathleenformontana.com   \n",
       "4                        Jeff Allen  teamwilliams@kathleenformontana.com   \n",
       "\n",
       "                         subject  \\\n",
       "0           Welcome to the team!   \n",
       "1             Quickly closing in   \n",
       "2           Welcome to the team!   \n",
       "3           Remembering Dr. King   \n",
       "4  We need to close the gap fast   \n",
       "\n",
       "                                           body_text               name  \\\n",
       "0  Thanks for joining the team! My name is Kathle...  Kathleen Williams   \n",
       "1  We’re just 5 days away from our June 30th FEC ...  Kathleen Williams   \n",
       "2  Thanks for joining the team! My name is Kathle...  Kathleen Williams   \n",
       "3  Today we remember and honor the legacy of Dr. ...  Kathleen Williams   \n",
       "4  Here’s the truth,summer is the most difficult ...  Kathleen Williams   \n",
       "\n",
       "                          office_sought party_affiliation office_level  \\\n",
       "0  U.S. House Montana At-large District  Democratic Party      Federal   \n",
       "1  U.S. House Montana At-large District  Democratic Party      Federal   \n",
       "2  U.S. House Montana At-large District  Democratic Party      Federal   \n",
       "3  U.S. House Montana At-large District  Democratic Party      Federal   \n",
       "4  U.S. House Montana At-large District  Democratic Party      Federal   \n",
       "\n",
       "  district_type                    final_website  crawl_date  \\\n",
       "0      Congress  https://kathleenformontana.com/  12-02-2019   \n",
       "1      Congress  https://kathleenformontana.com/  12-02-2019   \n",
       "2      Congress  https://kathleenformontana.com/  12-02-2019   \n",
       "3      Congress  https://kathleenformontana.com/  12-02-2019   \n",
       "4      Congress  https://kathleenformontana.com/  12-02-2019   \n",
       "\n",
       "                 source state type subtype        date  hour  day  \\\n",
       "0  ballotpedia-campaign   NaN  NaN     NaN  2019-12-05    19  Thu   \n",
       "1  ballotpedia-campaign   NaN  NaN     NaN  2020-06-25    14  Thu   \n",
       "2  ballotpedia-campaign   NaN  NaN     NaN  2019-12-03    19  Tue   \n",
       "3  ballotpedia-campaign   NaN  NaN     NaN  2020-01-20    12  Mon   \n",
       "4  ballotpedia-campaign   NaN  NaN     NaN  2020-07-27    17  Mon   \n",
       "\n",
       "                          uid_email                         uid_inbox  \\\n",
       "0  7182e4e604717330ecaf2699be61b200  08f13962c5b2090e32c902552a4ff634   \n",
       "1  00768081c0a2487180314475ed1121d1  08f13962c5b2090e32c902552a4ff634   \n",
       "2  54f56022dcd037ccb583f65a5668a073  08f13962c5b2090e32c902552a4ff634   \n",
       "3  ff3fc8ba9b209b771a73ef831a4117b5  08f13962c5b2090e32c902552a4ff634   \n",
       "4  36e237928f238bf5fab8d5a5462d9a04  08f13962c5b2090e32c902552a4ff634   \n",
       "\n",
       "  incumbent  \n",
       "0        No  \n",
       "1        No  \n",
       "2        No  \n",
       "3        No  \n",
       "4        No  "
      ]
     },
     "execution_count": 5,
     "metadata": {},
     "output_type": "execute_result"
    }
   ],
   "source": [
    "corpus.head()"
   ]
  },
  {
   "cell_type": "code",
   "execution_count": 6,
   "metadata": {},
   "outputs": [
    {
     "name": "stdout",
     "output_type": "stream",
     "text": [
      "<class 'pandas.core.frame.DataFrame'>\n",
      "RangeIndex: 317366 entries, 0 to 317365\n",
      "Data columns (total 21 columns):\n",
      " #   Column             Non-Null Count   Dtype \n",
      "---  ------             --------------   ----- \n",
      " 0   from_name          317364 non-null  object\n",
      " 1   from_address       317359 non-null  object\n",
      " 2   subject            317351 non-null  object\n",
      " 3   body_text          316790 non-null  object\n",
      " 4   name               317366 non-null  object\n",
      " 5   office_sought      198972 non-null  object\n",
      " 6   party_affiliation  220390 non-null  object\n",
      " 7   office_level       198972 non-null  object\n",
      " 8   district_type      198972 non-null  object\n",
      " 9   final_website      317366 non-null  object\n",
      " 10  crawl_date         317366 non-null  object\n",
      " 11  source             317366 non-null  object\n",
      " 12  state              11175 non-null   object\n",
      " 13  type               118394 non-null  object\n",
      " 14  subtype            67441 non-null   object\n",
      " 15  date               317366 non-null  object\n",
      " 16  hour               317366 non-null  int64 \n",
      " 17  day                317366 non-null  object\n",
      " 18  uid_email          317366 non-null  object\n",
      " 19  uid_inbox          317366 non-null  object\n",
      " 20  incumbent          188690 non-null  object\n",
      "dtypes: int64(1), object(20)\n",
      "memory usage: 50.8+ MB\n"
     ]
    }
   ],
   "source": [
    "corpus.info()"
   ]
  },
  {
   "cell_type": "markdown",
   "metadata": {},
   "source": [
    "# Target investigation: \n",
    "* The target variable for this dataset is `party_affiliation`\n",
    "* 96,976 emails that are not labled with a polticial `party_affiliation`\n",
    "* If an email originates from a organization the organization it was not assigned a `party_affiliation` and I will need to establish the organization's party affilation"
   ]
  },
  {
   "cell_type": "code",
   "execution_count": 7,
   "metadata": {},
   "outputs": [],
   "source": [
    "#create target\n",
    "corpus['target'] = corpus['party_affiliation']"
   ]
  },
  {
   "cell_type": "code",
   "execution_count": 8,
   "metadata": {},
   "outputs": [
    {
     "data": {
      "text/plain": [
       "96976"
      ]
     },
     "execution_count": 8,
     "metadata": {},
     "output_type": "execute_result"
    }
   ],
   "source": [
    "#number of target nulls\n",
    "corpus['target'].isna().sum()"
   ]
  },
  {
   "cell_type": "code",
   "execution_count": 9,
   "metadata": {},
   "outputs": [
    {
     "data": {
      "text/plain": [
       "Democratic Party                              175234\n",
       "Republican Party                               42208\n",
       "Nonpartisan                                      653\n",
       "Independent                                      556\n",
       "Libertarian Party                                488\n",
       "Working Families Party                           465\n",
       "Green Party                                      381\n",
       "Serve America Movement Party                     203\n",
       "Maine Green Independent Party                     87\n",
       "Independence Party                                48\n",
       "United Utah Party                                 26\n",
       "Constitution Party                                23\n",
       "None                                               4\n",
       "SAM Party of New York                              4\n",
       "Alliance Party of South Carolina                   3\n",
       "Democratic-Farmer-Labor Party of Minnesota         2\n",
       "Unaffiliated                                       2\n",
       "Unity Party                                        1\n",
       "Reform Party                                       1\n",
       "Citizens' Party                                    1\n",
       "Name: target, dtype: int64"
      ]
     },
     "execution_count": 9,
     "metadata": {},
     "output_type": "execute_result"
    }
   ],
   "source": [
    "corpus['target'].value_counts()"
   ]
  },
  {
   "cell_type": "code",
   "execution_count": 10,
   "metadata": {},
   "outputs": [
    {
     "data": {
      "text/plain": [
       "ballotpedia-campaign    198972\n",
       "orgs                    118394\n",
       "Name: source, dtype: int64"
      ]
     },
     "execution_count": 10,
     "metadata": {},
     "output_type": "execute_result"
    }
   ],
   "source": [
    "#Sources: “ballotpedia-campaign” if the email was from a candidate running for office and “orgs” if the email was from an organization.\n",
    "corpus['source'].value_counts()"
   ]
  },
  {
   "cell_type": "markdown",
   "metadata": {},
   "source": [
    "118,394 emails in the corpus originate from organizations"
   ]
  },
  {
   "cell_type": "markdown",
   "metadata": {},
   "source": [
    "# OpenSecrets Data Imports\n",
    "Data from 2020 campaign cycle: [Data Dictionary](https://www.opensecrets.org/resources/datadictionary/Data%20Dictionary%20Candidates%20Data.htm), \n",
    "[Bulk Data Documentation](https://www.opensecrets.org/open-data/bulk-data-documentation)\n",
    "\n",
    "This data was downloaded from OpenSecrets.org which originates from the FEC, the regulating body for campaigns in the United States. \n",
    " \n",
    "Data from OpenSecrets is imported in five tables and covers: \n",
    "1. information about the candidates and the committees (such as organizations and PACs). This information is found in `cands20` and `cmtes20`. They are high-level information including names, unique IDs, and when possible party affiliation. \n",
    "2. information about contributions. Contributions are in the form of organization to candidate and organization to organization. \n",
    "3. organization [outside spending by viewpoint](https://www.opensecrets.org/outsidespending/summ.php?cycle=2020&chrt=V&disp=O&type=A) establishes a liberal, conservative, or other viewpoint."
   ]
  },
  {
   "cell_type": "code",
   "execution_count": 11,
   "metadata": {},
   "outputs": [],
   "source": [
    "#Candidates - cands20 import (Candidate Information)\n",
    "cands20 = pd.read_csv('CampaignFin20/cands20.txt', delimiter=\",\", quotechar=\"|\", header=None)\n",
    "cands20.columns = ['Cycle', 'FECCandID', 'CID', 'FirstLastP', 'Party', 'DistIDRunFor',\n",
    "    'DistIDCurr', 'CurrCand', 'CycleCand','CRPICO', 'RecipCode', 'NoPacs']\n",
    "\n",
    "#FEC Committees - cmtes20 import (PACs and Candidate and Party Committees Information) \n",
    "cmtes20 = pd.read_csv('CampaignFin20/cmtes20.txt', delimiter=\",\", quotechar=\"|\", header=None)\n",
    "cmtes20.columns = ['Cycle', 'CmteID', 'PACShort', 'Affiliate', 'Ultorg', 'RecipID', \n",
    "    'RecipCode', 'FECCandID', 'Party', 'PrimCode', 'Source', 'Sensitive', 'Foreign', 'Active']\n",
    "\n",
    "#PAC - pacs20 import (Contributions from PACs to Canidates)\n",
    "pacs = pd.read_csv('CampaignFin20/pacs20.txt', delimiter=\",\", quotechar=\"|\", header=None)\n",
    "pacs.columns = ['Cycle', 'FECRecNo', 'PACID', 'CID', 'Amount', 'Date', 'RealCode', 'Type', 'DI', 'FECCandID']\n",
    "\n",
    "#Other - pac_other20 import (Contribution from PACs to other PACs or other organizations)\n",
    "pac_other = pd.read_csv('CampaignFin20/pac_other20.txt', delimiter=\",\", quotechar=\"|\", header=None, low_memory=False)\n",
    "pac_other.columns= ['Cycle', 'FECRecNo', 'Filerid', 'DonorCmte', 'ContribLendTrans', 'City', 'State', 'Zip',\n",
    "    'FECOccEMP', 'Primcode', 'Date', 'Amount', 'RecipID', 'Party', 'OtherID', 'RecipCode', 'RecipPrimcode', \n",
    "    'Amend', 'Report', 'PG', 'Microfilm', 'Type', 'RealCode', 'Source']\n",
    "\n",
    "#Views - OpenSecrets outsidespending by PAC with poltical view of PAC\n",
    "views = pd.read_csv('OpenSecret_PAC.csv', encoding = \"ISO-8859-1\")"
   ]
  },
  {
   "cell_type": "markdown",
   "metadata": {},
   "source": [
    "Review the `Party` columns where applicable. "
   ]
  },
  {
   "cell_type": "code",
   "execution_count": 12,
   "metadata": {},
   "outputs": [
    {
     "data": {
      "text/plain": [
       "D    3073\n",
       "R    2963\n",
       "I     803\n",
       "3     790\n",
       "L     324\n",
       "U     107\n",
       "Name: Party, dtype: int64"
      ]
     },
     "execution_count": 12,
     "metadata": {},
     "output_type": "execute_result"
    }
   ],
   "source": [
    "cands20['Party'].value_counts()"
   ]
  },
  {
   "cell_type": "code",
   "execution_count": 13,
   "metadata": {},
   "outputs": [
    {
     "data": {
      "text/plain": [
       "D    4032\n",
       "R    3818\n",
       "     1815\n",
       "I     578\n",
       "3     518\n",
       "L     209\n",
       "U      81\n",
       "r       3\n",
       "d       2\n",
       "Name: Party, dtype: int64"
      ]
     },
     "execution_count": 13,
     "metadata": {},
     "output_type": "execute_result"
    }
   ],
   "source": [
    "cmtes20['Party'].value_counts()"
   ]
  },
  {
   "cell_type": "code",
   "execution_count": 14,
   "metadata": {},
   "outputs": [],
   "source": [
    "#reformat lowercase letters and change blanks to NaN\n",
    "cmtes20['Party'] = cmtes20['Party'].replace({'r': 'R', 'd':'D', ' ': np.nan})"
   ]
  },
  {
   "cell_type": "code",
   "execution_count": 15,
   "metadata": {},
   "outputs": [
    {
     "data": {
      "text/plain": [
       "R    761461\n",
       "D     76652\n",
       "       8283\n",
       "I       570\n",
       "L       385\n",
       "3       135\n",
       "d        27\n",
       "U         8\n",
       "r         5\n",
       "Name: Party, dtype: int64"
      ]
     },
     "execution_count": 15,
     "metadata": {},
     "output_type": "execute_result"
    }
   ],
   "source": [
    "pac_other['Party'].value_counts()"
   ]
  },
  {
   "cell_type": "code",
   "execution_count": 16,
   "metadata": {},
   "outputs": [],
   "source": [
    "#reformat lowercase letters and change blanks to NaN\n",
    "pac_other['Party'] = pac_other['Party'].replace({'r': 'R', 'd':'D', ' ': np.nan})"
   ]
  },
  {
   "cell_type": "code",
   "execution_count": 17,
   "metadata": {},
   "outputs": [
    {
     "data": {
      "text/plain": [
       "L    593\n",
       "C    396\n",
       "X     71\n",
       "Name: View, dtype: int64"
      ]
     },
     "execution_count": 17,
     "metadata": {},
     "output_type": "execute_result"
    }
   ],
   "source": [
    "views['View'].value_counts()"
   ]
  },
  {
   "cell_type": "markdown",
   "metadata": {},
   "source": [
    "# Addressing Missing Target Variables\n",
    "Within the dataset organizations are missing the the target variable. To determine an organization's political affiliation I conducted research and found [this dissertation](https://repository.library.georgetown.edu/bitstream/handle/10822/1054947/Koch_georgetown_0076D_14174.pdf?sequence=1&isAllowed=y) who tackeled the same problem. I will the best-practices in the methodolgy of this paper to estabish poltiical affilition of the organizations in the dataset. \n",
    "The steps will be: \n",
    "1. Establish a key to best reference between the Princeton Email Corpus and OpenSecrets.org data. \n",
    "2. Classify organization by `Party` given in OpenSecrets data\n",
    "3. Classify organization by `Views` of the [organization's independent expenditures](https://www.opensecrets.org/outsidespending/summ.php?cycle=2020&disp=O&type=A&chrt=V). This step was established trough the methodology of the disscertation. \n",
    "4. Classifiy organizaion by their industry code. \n",
    "5. Classify organzation by the party of the recipients of thier contributions. "
   ]
  },
  {
   "cell_type": "markdown",
   "metadata": {},
   "source": [
    "### Step 1: Create a `key` for the organization names\n",
    "* Use organzaiton name from all the tables\n",
    "* Standardize name by removing all special characters, spaces, and all letters to lowercase"
   ]
  },
  {
   "cell_type": "code",
   "execution_count": 18,
   "metadata": {},
   "outputs": [],
   "source": [
    "corpus['key'] = corpus['name'].apply(lambda x: re.sub('\\W+','', x.lower()))\n",
    "\n",
    "cands20['key'] = cands20['FirstLastP'].apply(lambda x: re.sub('\\W+','', x[:-4].lower())) #also removes party from name\n",
    "\n",
    "cmtes20['key'] = cmtes20['PACShort'].apply(lambda x: re.sub('\\W+','', x.lower()))\n",
    "\n",
    "pac_other['key'] = pac_other['DonorCmte'].apply(lambda x: re.sub('\\W+','', str(x))).str.lower()\n",
    "\n",
    "views['key'] = views['Group'].apply(lambda x: re.sub('\\W+','', x.lower()))"
   ]
  },
  {
   "cell_type": "code",
   "execution_count": 19,
   "metadata": {},
   "outputs": [],
   "source": [
    "#before processing, create function to evaluate pre-processing steps\n",
    "\n",
    "def target_variable_status():\n",
    "    '''\n",
    "    Evaluates progress of filling missing target variables\n",
    "    '''\n",
    "    null_count = corpus['target'].isna().sum()\n",
    "    print('Target Nulls: ', null_count)\n",
    "\n",
    "    orgs = [org for org in list(corpus['key'].loc[(corpus['source']=='orgs') & (corpus['target'].isna())].unique())]\n",
    "    print(f'Organizations without target: {len(orgs)}')\n",
    "\n",
    "    print(f'Percentage of nulls classified: {(96976- null_count)/96976}')"
   ]
  },
  {
   "cell_type": "markdown",
   "metadata": {},
   "source": [
    "### Step 2: Classify organizaiton by `Party` in OpenSecrets data"
   ]
  },
  {
   "cell_type": "code",
   "execution_count": 20,
   "metadata": {},
   "outputs": [
    {
     "name": "stdout",
     "output_type": "stream",
     "text": [
      "Target Nulls:  96976\n",
      "Organizations without target: 290\n",
      "Percentage of nulls classified: 0.0\n"
     ]
    }
   ],
   "source": [
    "target_variable_status()"
   ]
  },
  {
   "cell_type": "code",
   "execution_count": 21,
   "metadata": {},
   "outputs": [],
   "source": [
    "#find remaining organizations missing target \n",
    "orgs = [org for org in list(corpus['key'].loc[(corpus['source']=='orgs') \n",
    "                            & (corpus['target'].isna())].unique())]\n",
    "for org in orgs: \n",
    "\n",
    "    #determine if org appears\n",
    "    if org in list(cmtes20['key'].unique()):\n",
    "\n",
    "        #find org name in dataframe: \n",
    "        org_party = cmtes20['Party'].loc[cmtes20['key']== org].values[0]\n",
    "\n",
    "        #assign the party to the target variable: \n",
    "        corpus.loc[(corpus['key'] == org), 'target'] = org_party\n",
    "\n",
    "    else:\n",
    "        continue"
   ]
  },
  {
   "cell_type": "code",
   "execution_count": 22,
   "metadata": {},
   "outputs": [
    {
     "name": "stdout",
     "output_type": "stream",
     "text": [
      "Target Nulls:  81875\n",
      "Organizations without target: 271\n",
      "Percentage of nulls classified: 0.15571894076885\n"
     ]
    }
   ],
   "source": [
    "target_variable_status()"
   ]
  },
  {
   "cell_type": "markdown",
   "metadata": {},
   "source": [
    "### Step 3: Classify organization by `Views` in OpenSecrets Data"
   ]
  },
  {
   "cell_type": "code",
   "execution_count": 23,
   "metadata": {},
   "outputs": [],
   "source": [
    "#find remaining organizations missing target \n",
    "orgs = [org for org in list(corpus['key'].loc[(corpus['source']=='orgs') & (corpus['target'].isna())].unique())]"
   ]
  },
  {
   "cell_type": "code",
   "execution_count": 24,
   "metadata": {},
   "outputs": [],
   "source": [
    "for org in orgs: \n",
    "\n",
    "    #determine if org appears\n",
    "    if org in list(views['key'].unique()):\n",
    "\n",
    "        #find org name in dataframe: \n",
    "        org_view = views['View'].loc[views['key']== org].values[0]\n",
    "\n",
    "        #assign the party to the target variable: \n",
    "        corpus.loc[(corpus['key'] == org), 'target'] = org_view\n",
    "\n",
    "    else:\n",
    "        continue"
   ]
  },
  {
   "cell_type": "code",
   "execution_count": 25,
   "metadata": {},
   "outputs": [
    {
     "name": "stdout",
     "output_type": "stream",
     "text": [
      "Target Nulls:  33743\n",
      "Organizations without target: 177\n",
      "Percentage of nulls classified: 0.65204792938459\n"
     ]
    }
   ],
   "source": [
    "target_variable_status()"
   ]
  },
  {
   "cell_type": "markdown",
   "metadata": {},
   "source": [
    "### Step 4: Classify organizations by industry codes\n",
    "* Organizations are assigned a code for their industry. [OpenSecrets explains the codes](https://www.opensecrets.org/resources/ftm/ch12p1.php) by \"The coding system is hierarchical. At the very highest level, there are five super-categories: Business, Labor, Ideological/Single-Issue, Other and Unknown. Below that top level there are 13 \"sectors,\" about 100 \"industries\" and in all, some 400 categories.\" For example, code J1200 is \"Democratic/Liberal\"\n",
    "* I will categorize by the political/partisan industry codes. "
   ]
  },
  {
   "cell_type": "code",
   "execution_count": 26,
   "metadata": {},
   "outputs": [
    {
     "data": {
      "text/plain": [
       "177"
      ]
     },
     "execution_count": 26,
     "metadata": {},
     "output_type": "execute_result"
    }
   ],
   "source": [
    "#organizations that still need target\n",
    "orgs = [org for org in list(corpus['key'].loc[(corpus['source']=='orgs') & (corpus['target'].isna())].unique())]\n",
    "len(orgs)"
   ]
  },
  {
   "cell_type": "code",
   "execution_count": 27,
   "metadata": {},
   "outputs": [],
   "source": [
    "#bring in table to interpret 'PrimCode' in cmtes20\n",
    "cat_codes = pd.read_csv('category_codes.csv')\n",
    "\n",
    "#Create a dictionary of 'PrimCode' and the interpretable name\n",
    "codes = list(cat_codes['Catcode']) \n",
    "cat_view = list(cat_codes['View'])\n",
    "cat_dict = dict(zip(codes, cat_view))\n",
    "\n",
    "def find_category_view(code):\n",
    "    '''\n",
    "    converts 'PrimCode' to interpretable category\n",
    "    '''\n",
    "    try: \n",
    "        category = cat_dict[code]\n",
    "        return category\n",
    "    except: \n",
    "        return np.NaN"
   ]
  },
  {
   "cell_type": "code",
   "execution_count": 28,
   "metadata": {},
   "outputs": [],
   "source": [
    "#add category column along with category for each organization using the `PrimCode` \n",
    "cmtes20['category'] = cmtes20['PrimCode'].apply(lambda x: find_category_view(x))"
   ]
  },
  {
   "cell_type": "code",
   "execution_count": 29,
   "metadata": {},
   "outputs": [],
   "source": [
    "for org in orgs: \n",
    "\n",
    "    #determine if org appears\n",
    "    if org in list(cmtes20['key'].unique()):\n",
    "\n",
    "        #find org name in dataframe: \n",
    "        org_industry = cmtes20['category'].loc[cmtes20['key']== org].values[0]\n",
    "\n",
    "        #assign the party to the target variable: \n",
    "        corpus.loc[(corpus['key'] == org), 'target'] = org_industry\n",
    "\n",
    "    else:\n",
    "        continue"
   ]
  },
  {
   "cell_type": "code",
   "execution_count": 30,
   "metadata": {},
   "outputs": [
    {
     "name": "stdout",
     "output_type": "stream",
     "text": [
      "Target Nulls:  19389\n",
      "Organizations without target: 99\n",
      "Percentage of nulls classified: 0.8000639333443326\n"
     ]
    }
   ],
   "source": [
    "target_variable_status()"
   ]
  },
  {
   "cell_type": "markdown",
   "metadata": {},
   "source": [
    "### Step 5: Classify organizations by contributions\n",
    "Next I will search the organization's contributions to candidates, using the methodology described above to determine their political affiliation. \n",
    "\n",
    "In order to accomplish this I will: \n",
    "1. Combine the pacs data frame of contributions with the cand20 data frame which contains the candidate's party\n",
    "2. Iterate through the organizations without targets and locate their contributions within the dataframe\n",
    "3. Calculate the rate of donation by party\n",
    "4. Assign the targe variable"
   ]
  },
  {
   "cell_type": "code",
   "execution_count": 31,
   "metadata": {},
   "outputs": [
    {
     "data": {
      "text/html": [
       "<div>\n",
       "<style scoped>\n",
       "    .dataframe tbody tr th:only-of-type {\n",
       "        vertical-align: middle;\n",
       "    }\n",
       "\n",
       "    .dataframe tbody tr th {\n",
       "        vertical-align: top;\n",
       "    }\n",
       "\n",
       "    .dataframe thead th {\n",
       "        text-align: right;\n",
       "    }\n",
       "</style>\n",
       "<table border=\"1\" class=\"dataframe\">\n",
       "  <thead>\n",
       "    <tr style=\"text-align: right;\">\n",
       "      <th></th>\n",
       "      <th>Cycle</th>\n",
       "      <th>FECRecNo</th>\n",
       "      <th>PACID</th>\n",
       "      <th>CID</th>\n",
       "      <th>Amount</th>\n",
       "      <th>Date</th>\n",
       "      <th>RealCode</th>\n",
       "      <th>Type</th>\n",
       "      <th>DI</th>\n",
       "      <th>FECCandID</th>\n",
       "      <th>Cycle_cand</th>\n",
       "      <th>FECCandID_cand</th>\n",
       "      <th>FirstLastP</th>\n",
       "      <th>Party</th>\n",
       "      <th>DistIDRunFor</th>\n",
       "      <th>DistIDCurr</th>\n",
       "      <th>CurrCand</th>\n",
       "      <th>CycleCand</th>\n",
       "      <th>CRPICO</th>\n",
       "      <th>RecipCode</th>\n",
       "      <th>NoPacs</th>\n",
       "      <th>key</th>\n",
       "    </tr>\n",
       "  </thead>\n",
       "  <tbody>\n",
       "    <tr>\n",
       "      <th>0</th>\n",
       "      <td>2020</td>\n",
       "      <td>1011020200194684263</td>\n",
       "      <td>C00429241</td>\n",
       "      <td>N00033395</td>\n",
       "      <td>250</td>\n",
       "      <td>08/19/2019</td>\n",
       "      <td>H5100</td>\n",
       "      <td>24K</td>\n",
       "      <td>D</td>\n",
       "      <td>H2MI05119</td>\n",
       "      <td>2020</td>\n",
       "      <td>H2MI05119</td>\n",
       "      <td>Dan Kildee (D)</td>\n",
       "      <td>D</td>\n",
       "      <td>MI05</td>\n",
       "      <td>MI05</td>\n",
       "      <td>Y</td>\n",
       "      <td>Y</td>\n",
       "      <td>I</td>\n",
       "      <td>DW</td>\n",
       "      <td></td>\n",
       "      <td>dankildee</td>\n",
       "    </tr>\n",
       "    <tr>\n",
       "      <th>77</th>\n",
       "      <td>2020</td>\n",
       "      <td>1103120190194676681</td>\n",
       "      <td>C00429241</td>\n",
       "      <td>N00033395</td>\n",
       "      <td>100</td>\n",
       "      <td>03/25/2019</td>\n",
       "      <td>H5100</td>\n",
       "      <td>24K</td>\n",
       "      <td>D</td>\n",
       "      <td>H2MI05119</td>\n",
       "      <td>2020</td>\n",
       "      <td>H2MI05119</td>\n",
       "      <td>Dan Kildee (D)</td>\n",
       "      <td>D</td>\n",
       "      <td>MI05</td>\n",
       "      <td>MI05</td>\n",
       "      <td>Y</td>\n",
       "      <td>Y</td>\n",
       "      <td>I</td>\n",
       "      <td>DW</td>\n",
       "      <td></td>\n",
       "      <td>dankildee</td>\n",
       "    </tr>\n",
       "  </tbody>\n",
       "</table>\n",
       "</div>"
      ],
      "text/plain": [
       "    Cycle             FECRecNo      PACID        CID  Amount        Date  \\\n",
       "0    2020  1011020200194684263  C00429241  N00033395     250  08/19/2019   \n",
       "77   2020  1103120190194676681  C00429241  N00033395     100  03/25/2019   \n",
       "\n",
       "   RealCode Type DI  FECCandID  Cycle_cand FECCandID_cand      FirstLastP  \\\n",
       "0     H5100  24K  D  H2MI05119        2020      H2MI05119  Dan Kildee (D)   \n",
       "77    H5100  24K  D  H2MI05119        2020      H2MI05119  Dan Kildee (D)   \n",
       "\n",
       "   Party DistIDRunFor DistIDCurr CurrCand CycleCand CRPICO RecipCode NoPacs  \\\n",
       "0      D         MI05       MI05        Y         Y      I        DW          \n",
       "77     D         MI05       MI05        Y         Y      I        DW          \n",
       "\n",
       "          key  \n",
       "0   dankildee  \n",
       "77  dankildee  "
      ]
     },
     "execution_count": 31,
     "metadata": {},
     "output_type": "execute_result"
    }
   ],
   "source": [
    "contributions = pacs.join(cands20.set_index('CID'), on='CID', how='inner', rsuffix='_cand')\n",
    "contributions.head(2)"
   ]
  },
  {
   "cell_type": "code",
   "execution_count": 32,
   "metadata": {},
   "outputs": [],
   "source": [
    "#orgs that still need target\n",
    "orgs = [org for org in list(corpus['key'].loc[(corpus['source']=='orgs') & (corpus['target'].isna())].unique())]\n",
    "\n",
    "#Finds party affiliation of the candidates that an organization has contributed to. \n",
    "for org in orgs:\n",
    "    \n",
    "    if org in list(cmtes20['key'].unique()):\n",
    "\n",
    "        #locate name in cmtes20 and find unique PACID\n",
    "        pacid = cmtes20['CmteID'].loc[cmtes20['key'] == org].values[0]\n",
    "        \n",
    "        #locate all donations from PACID and and find rate of donations by party\n",
    "        find_party = contributions['Party'].loc[contributions['PACID'] == pacid].value_counts(normalize=True)\n",
    "                \n",
    "        #calculate the target variable >65% assigned to same political party, <65% categorized as nonpartisan\n",
    "        if len(find_party != 0):\n",
    "            if find_party[0] > 0.65:\n",
    "                corpus.loc[(corpus['key']== org), 'target'] = find_party.index[0]\n",
    "                \n",
    "            else:\n",
    "                corpus.loc[(corpus['key']== org), 'target'] = 'Nonpartisan*'"
   ]
  },
  {
   "cell_type": "code",
   "execution_count": 33,
   "metadata": {},
   "outputs": [
    {
     "name": "stdout",
     "output_type": "stream",
     "text": [
      "Target Nulls:  7734\n",
      "Organizations without target: 64\n",
      "Percentage of nulls classified: 0.9202483088599241\n"
     ]
    }
   ],
   "source": [
    "target_variable_status()"
   ]
  },
  {
   "cell_type": "markdown",
   "metadata": {},
   "source": [
    "I have reduced the number of nulls from 96976. There are still organizations without an affiliation after this process. I will do a manual check of the final organizations to find their affiliation."
   ]
  },
  {
   "cell_type": "markdown",
   "metadata": {},
   "source": [
    "### Step 6: Categorize remaining organizaitons through informed research\n",
    "The methodolgy to define the target variable for organizations was to use OpenSecrets.org `Party` affiliation, then by the OpenSecrets `View` classification, folowed by political industry codes, then by ther contributions. Since I am using organzation names collected from Princetion Email Corpus and OpenSecrets there may be slight discrepancies that prevented this process from catching all of the organizations. For example, if an organization was misspelled, did not contribute to candidates but other PACs, did not have an FEC commitee ID number. To capture the political affiliation of the final organzations I will conduct research trough OpenSecrets.org and assign them a target variable."
   ]
  },
  {
   "cell_type": "code",
   "execution_count": 34,
   "metadata": {},
   "outputs": [
    {
     "data": {
      "text/plain": [
       "Let America Vote Victory Fund        4959\n",
       "Catholicvote.Org Candidate Fund       353\n",
       "The Action PAC                        297\n",
       "Campaign For American Principles      234\n",
       "Blue Future                           220\n",
       "                                     ... \n",
       "Il Citizens Ignited                     1\n",
       "Middle Resolution Federal Pac Inc       1\n",
       "I Am Dyslexia                           1\n",
       "Leadership Alliance                     1\n",
       "Students for Trump                      1\n",
       "Name: name, Length: 66, dtype: int64"
      ]
     },
     "execution_count": 34,
     "metadata": {},
     "output_type": "execute_result"
    }
   ],
   "source": [
    "corpus['name'].loc[corpus['target'].isna()].value_counts()"
   ]
  },
  {
   "cell_type": "code",
   "execution_count": 35,
   "metadata": {},
   "outputs": [],
   "source": [
    "#Let America Vote Victory Fund: https://www.opensecrets.org/outsidespending/detail.php?cycle=2020&cmte=C00647529\n",
    "corpus.loc[corpus['name']=='Let America Vote Victory Fund', 'target'] = 'Democratic/Liberal'\n",
    "\n",
    "#Catholicvote.org: (https://www.opensecrets.org/outsidespending/detail.php?cmte=C00494021&cycle=2020)\n",
    "corpus.loc[corpus['name']=='Catholicvote.Org Candidate Fund', 'target'] = 'Republican/Conservative'\n",
    "\n",
    "#The Action PAC: https://www.opensecrets.org/outsidespending/detail.php?cycle=2020&cmte=C00569996\n",
    "corpus.loc[corpus['name']=='The Action PAC', 'target'] = 'Republican/Conservative'\n",
    "\n",
    "#American Principles: https://www.opensecrets.org/outsidespending/detail.php?cmte=C00544387&cycle=2020\n",
    "corpus.loc[corpus['name']=='Campaign For American Principles', 'target'] = 'Republican/Conservative'\n",
    "\n",
    "#BlueFuture: https://www.opensecrets.org/outsidespending/detail.php?cmte=C00659409&cycle=2020 \n",
    "corpus.loc[corpus['name']=='Blue Future', 'target'] = 'Democratic/Liberal'\n",
    "\n",
    "#Higer Heights: https://www.opensecrets.org/outsidespending/detail.php?cmte=C00688200&cycle=2020 \n",
    "corpus.loc[corpus['name']=='Higher Hieghts Political Fund', 'target'] = 'Democratic/Liberal'\n",
    "\n",
    "#Colition for a Prosp: https://www.opensecrets.org/federal-lobbying/industries/summary?cycle=2020&id=N00 \n",
    "corpus.loc[corpus['name']=='Coalition For A Prosperous America', 'target'] = 'Nonpartisan'\n",
    "\n",
    "#JDCA PAC: https://www.opensecrets.org/outsidespending/detail.php?cmte=C00684969&cycle=2020\n",
    "corpus.loc[corpus['name']=='Jdca PAC', 'target'] = 'Democratic/Liberal'\n",
    "\n",
    "#Boundary Waters PAC: $0 https://www.opensecrets.org/outsidespending/detail.php?cmte=C00689406&cycle=2020\n",
    "corpus.loc[corpus['name']=='Coalition For A Prosperous America', 'target'] = 'Nonpartisan'\n",
    "\n",
    "#Common Purpose PAC: https://www.opensecrets.org/outsidespending/detail.php?cycle=2020&cmte=C00682211\n",
    "corpus.loc[corpus['name']=='Common Purpose PAC', 'target'] = 'Democratic/Liberal'\n",
    "\n",
    "#Personal PAC: unclear - mostly used by different donors as their \"personal\" PAC.\n",
    "\n",
    "#Common Purpose PAC: https://www.opensecrets.org/political-action-committees-pacs/courage-campaign-super-pac/C00523498/independent-expenditures/2014\n",
    "corpus.loc[corpus['name']=='Courage Campaign Super PAC', 'target'] = 'Democratic/Liberal'\n",
    "\n",
    "#Clearpath Action: https://www.opensecrets.org/outsidespending/detail.php?cycle=2020&cmte=C00608943\n",
    "corpus.loc[corpus['name']=='Clearpath Action, Inc', 'target'] = 'Republican/Conservative'\n",
    "\n",
    "#Run Woemn Run: https://www.opensecrets.org/donor-lookup/results?cand=planned+parenthood&order=desc&page=7&sort=D\n",
    "corpus.loc[corpus['name']=='Run Women Run', 'target'] = 'Democratic/Liberal'\n",
    "\n",
    "#Monroe County For Bernie Sanders: https://www.opensecrets.org/search?q=monroe+county+for+bernie+sanders\n",
    "corpus.loc[corpus['name']=='monroe county for bernie sanders', 'target'] = 'Democratic/Liberal'\n",
    "\n",
    "#Patriot Voices PAC: https://www.opensecrets.org/political-action-committees-pacs/patriot-voices-pac/C00528307/summary/2020\n",
    "corpus.loc[corpus['name']=='Patriot Voices PAC', 'target'] = 'Republican/Conservative'"
   ]
  },
  {
   "cell_type": "markdown",
   "metadata": {},
   "source": [
    "### Step 7: Evaluate Target and Drop Nulls"
   ]
  },
  {
   "cell_type": "code",
   "execution_count": 36,
   "metadata": {},
   "outputs": [
    {
     "name": "stdout",
     "output_type": "stream",
     "text": [
      "Target Nulls:  865\n",
      "Organizations without target: 50\n",
      "Percentage of nulls classified: 0.9910802672826267\n"
     ]
    }
   ],
   "source": [
    "target_variable_status()"
   ]
  },
  {
   "cell_type": "markdown",
   "metadata": {},
   "source": [
    "I have now decreated the number of null values and have classified more than 99% of the nulls. I will drop the remaining nulls from the dataset. "
   ]
  },
  {
   "cell_type": "code",
   "execution_count": 37,
   "metadata": {},
   "outputs": [],
   "source": [
    "corpus.dropna(subset=['target'], inplace=True)"
   ]
  },
  {
   "cell_type": "markdown",
   "metadata": {},
   "source": [
    "### Step 8: Liberal, Center, Conservative Leaning Categories\n",
    "Now that each email has an established target, the target will be described in terms of 'liberal', 'center', or 'conservative' views. To correctly classify the categories I used the following sources to establish the category: \n",
    "* [Third Parties in the United States](https://en.wikipedia.org/wiki/Third_party_(United_States)#Smaller_parties_by_ideology)\n",
    "* [List of Political Parties in the United States with ideology](https://en.wikipedia.org/wiki/List_of_political_parties_in_the_United_States)"
   ]
  },
  {
   "cell_type": "code",
   "execution_count": 38,
   "metadata": {},
   "outputs": [
    {
     "data": {
      "text/plain": [
       "29"
      ]
     },
     "execution_count": 38,
     "metadata": {},
     "output_type": "execute_result"
    }
   ],
   "source": [
    "len(corpus['target'].value_counts())"
   ]
  },
  {
   "cell_type": "code",
   "execution_count": 39,
   "metadata": {},
   "outputs": [
    {
     "data": {
      "text/plain": [
       "Democratic Party                              175234\n",
       "Republican Party                               42208\n",
       "L                                              26997\n",
       "D                                              25136\n",
       "C                                              20987\n",
       "Democratic/Liberal                             19373\n",
       "Republican/Conservative                         1700\n",
       "R                                               1409\n",
       "Nonpartisan                                      802\n",
       "Independent                                      556\n",
       "Libertarian Party                                488\n",
       "Working Families Party                           465\n",
       "Green Party                                      381\n",
       "Nonpartisan*                                     211\n",
       "Serve America Movement Party                     203\n",
       "X                                                148\n",
       "Maine Green Independent Party                     87\n",
       "Independence Party                                48\n",
       "United Utah Party                                 26\n",
       "Constitution Party                                23\n",
       "None                                               4\n",
       "SAM Party of New York                              4\n",
       "Alliance Party of South Carolina                   3\n",
       "Democratic-Farmer-Labor Party of Minnesota         2\n",
       "Unaffiliated                                       2\n",
       "Unity Party                                        1\n",
       "Third-Party                                        1\n",
       "Reform Party                                       1\n",
       "Citizens' Party                                    1\n",
       "Name: target, dtype: int64"
      ]
     },
     "execution_count": 39,
     "metadata": {},
     "output_type": "execute_result"
    }
   ],
   "source": [
    "corpus['target'].value_counts()"
   ]
  },
  {
   "cell_type": "code",
   "execution_count": 40,
   "metadata": {},
   "outputs": [],
   "source": [
    "target_dict = {}\n",
    "\n",
    "target_dict['Liberal-Leaning'] = ['Democratic Party','L', 'D', 'Democratic/Liberal',  'Working Families Party', 'Green Party', 'Maine Green Independent Party', 'Democratic-Farmer-Labor Party of Minnesota', 'Citizens\\' Party']\n",
    "target_dict['Center'] = ['Nonpartisan', 'Independent', 'Nonpartisan*', 'X', 'Independence Party', 'Serve America Movement Party', 'United Utah Party', 'SAM Party of New York', 'None', 'Alliance Party of South Carolina', 'Unaffiliated','Third-Party', 'Unity Party', 'Reform Party']\n",
    "target_dict['Conservative-Leaning'] = ['Republican Party', 'C', 'Republican/Conservative', 'R', 'Libertarian Party', 'Constitution Party']"
   ]
  },
  {
   "cell_type": "code",
   "execution_count": 41,
   "metadata": {},
   "outputs": [],
   "source": [
    "def categorize_target(target): \n",
    "    if target in target_dict['Liberal-Leaning']: \n",
    "        return 'Liberal'\n",
    "    elif target in target_dict['Center']:\n",
    "        return 'Center'\n",
    "    elif target in target_dict['Conservative-Leaning']:\n",
    "        return 'Conservative'\n"
   ]
  },
  {
   "cell_type": "code",
   "execution_count": 42,
   "metadata": {},
   "outputs": [],
   "source": [
    "corpus['target'] = corpus['target'].apply(lambda x: categorize_target(x))"
   ]
  },
  {
   "cell_type": "code",
   "execution_count": 43,
   "metadata": {},
   "outputs": [
    {
     "data": {
      "text/plain": [
       "Liberal         247676\n",
       "Conservative     66815\n",
       "Center            2010\n",
       "Name: target, dtype: int64"
      ]
     },
     "execution_count": 43,
     "metadata": {},
     "output_type": "execute_result"
    }
   ],
   "source": [
    "corpus['target'].value_counts()"
   ]
  },
  {
   "cell_type": "markdown",
   "metadata": {},
   "source": [
    "# Exploratory Data Analysis"
   ]
  },
  {
   "cell_type": "markdown",
   "metadata": {},
   "source": [
    "### Target Variable"
   ]
  },
  {
   "cell_type": "markdown",
   "metadata": {},
   "source": [
    "What is the distribution of the viewpoints? "
   ]
  },
  {
   "cell_type": "code",
   "execution_count": 44,
   "metadata": {},
   "outputs": [
    {
     "data": {
      "text/plain": [
       "Liberal         0.782544\n",
       "Conservative    0.211105\n",
       "Center          0.006351\n",
       "Name: target, dtype: float64"
      ]
     },
     "execution_count": 44,
     "metadata": {},
     "output_type": "execute_result"
    }
   ],
   "source": [
    "corpus['target'].value_counts(normalize=True)"
   ]
  },
  {
   "cell_type": "code",
   "execution_count": 45,
   "metadata": {},
   "outputs": [
    {
     "data": {
      "image/png": "[encoded data removed]",
      "text/plain": [
       "<Figure size 432x288 with 1 Axes>"
      ]
     },
     "metadata": {
      "needs_background": "light"
     },
     "output_type": "display_data"
    }
   ],
   "source": [
    "corpus['target'].value_counts().plot(kind='bar', title='Frequency of Viewpoint in Corpus');"
   ]
  },
  {
   "cell_type": "markdown",
   "metadata": {},
   "source": [
    "There is quite an imbalance in viewpoints within the Princeton Corpus of Poltiical Emails. Liberal viewpoints are represented almost 4 times more than conservative viewpoints and over 100 times more than 'center' viewpoints. "
   ]
  },
  {
   "cell_type": "markdown",
   "metadata": {},
   "source": [
    "How are the number of campaigns and organzations represented within each viewpoint? "
   ]
  },
  {
   "cell_type": "code",
   "execution_count": 46,
   "metadata": {},
   "outputs": [],
   "source": [
    "corpus['date'] = pd.to_datetime(corpus['date'])\n",
    "corpus['crawl_date'] = pd.to_datetime(corpus['crawl_date'])\n",
    "corpus['target'] = corpus['target'].astype('category')"
   ]
  },
  {
   "cell_type": "code",
   "execution_count": 80,
   "metadata": {},
   "outputs": [
    {
     "data": {
      "image/png": "[encoded data removed]",
      "text/plain": [
       "<Figure size 432x288 with 1 Axes>"
      ]
     },
     "metadata": {
      "needs_background": "light"
     },
     "output_type": "display_data"
    }
   ],
   "source": [
    "corpus.groupby('source').target.value_counts().unstack(0).plot.barh();"
   ]
  },
  {
   "cell_type": "markdown",
   "metadata": {},
   "source": [
    "Within the liberal viewpoint more emails originate from campains than organziations. In the conservative viewpoint there is a balance between campains and organizations. "
   ]
  },
  {
   "cell_type": "code",
   "execution_count": 79,
   "metadata": {},
   "outputs": [
    {
     "data": {
      "image/png": "[encoded data removed]",
      "text/plain": [
       "<Figure size 432x288 with 1 Axes>"
      ]
     },
     "metadata": {
      "needs_background": "light"
     },
     "output_type": "display_data"
    }
   ],
   "source": [
    "corpus.groupby('office_level').target.value_counts().unstack(0).plot.bar();"
   ]
  },
  {
   "cell_type": "code",
   "execution_count": 87,
   "metadata": {},
   "outputs": [
    {
     "data": {
      "text/plain": [
       "President of the United States     8831\n",
       "U.S. House New York District 18    7988\n",
       "U.S. House Illinois District 3     6042\n",
       "U.S. House Texas District 2        5935\n",
       "U.S. House Oregon District 4       4905\n",
       "Name: office_sought, dtype: int64"
      ]
     },
     "execution_count": 87,
     "metadata": {},
     "output_type": "execute_result"
    }
   ],
   "source": [
    "#Which elections for office sent the most email? \n",
    "corpus['office_sought'].value_counts()[:5]"
   ]
  },
  {
   "cell_type": "code",
   "execution_count": 111,
   "metadata": {},
   "outputs": [
    {
     "data": {
      "text/plain": [
       "Donald Trump      2236\n",
       "Joe Biden         1275\n",
       "Michael Bennet     901\n",
       "Pete Buttigieg     533\n",
       "Steve Bullock      499\n",
       "Name: name, dtype: int64"
      ]
     },
     "execution_count": 111,
     "metadata": {},
     "output_type": "execute_result"
    }
   ],
   "source": [
    "corpus['name'].loc[corpus['office_sought']=='President of the United States'].value_counts()[:5]"
   ]
  },
  {
   "cell_type": "code",
   "execution_count": 71,
   "metadata": {},
   "outputs": [],
   "source": [
    "#create dataframe by viewpoint\n",
    "liberal = corpus.loc[corpus['target']=='Liberal']\n",
    "conservative = corpus.loc[corpus['target']=='Conservative']\n",
    "center = corpus.loc[corpus['target']=='Center']"
   ]
  },
  {
   "cell_type": "code",
   "execution_count": 117,
   "metadata": {},
   "outputs": [
    {
     "data": {
      "text/plain": [
       "32"
      ]
     },
     "execution_count": 117,
     "metadata": {},
     "output_type": "execute_result"
    }
   ],
   "source": [
    "#number of candidates for president in the liberal viewpoint\n",
    "len(liberal.loc[liberal['office_sought']=='President of the United States'].name.unique())"
   ]
  },
  {
   "cell_type": "code",
   "execution_count": 118,
   "metadata": {},
   "outputs": [
    {
     "data": {
      "text/plain": [
       "21"
      ]
     },
     "execution_count": 118,
     "metadata": {},
     "output_type": "execute_result"
    }
   ],
   "source": [
    "#number of candidates for president in the conservative viewpoint\n",
    "len(conservative.loc[conservative['office_sought']=='President of the United States'].name.unique())"
   ]
  },
  {
   "cell_type": "markdown",
   "metadata": {},
   "source": [
    "Most emails were sent from campaigns for President of the United States. In 2020 the Democratic Party's presidential primaries had the [largest field of presidential candidates since 1972](https://en.wikipedia.org/wiki/2020_Democratic_Party_presidential_primaries). Therefore, most emails in the corpus were from Presidential Campaigns, where most of the candidates contained liberal viewpoints. "
   ]
  },
  {
   "cell_type": "markdown",
   "metadata": {},
   "source": [
    "Who sent the most email overall? "
   ]
  },
  {
   "cell_type": "code",
   "execution_count": 128,
   "metadata": {},
   "outputs": [
    {
     "data": {
      "image/png": "[encoded data removed]",
      "text/plain": [
       "<Figure size 432x288 with 1 Axes>"
      ]
     },
     "metadata": {
      "needs_background": "light"
     },
     "output_type": "display_data"
    }
   ],
   "source": [
    "plt.bar(corpus['name'].value_counts().index[:10], corpus['name'].value_counts()[:10])\n",
    "plt.xticks(rotation=85)\n",
    "plt.show();"
   ]
  },
  {
   "cell_type": "code",
   "execution_count": 129,
   "metadata": {},
   "outputs": [
    {
     "data": {
      "image/png": "[encoded data removed]",
      "text/plain": [
       "<Figure size 432x288 with 1 Axes>"
      ]
     },
     "metadata": {
      "needs_background": "light"
     },
     "output_type": "display_data"
    }
   ],
   "source": [
    "#liberal viewpoints most emails\n",
    "plt.bar(liberal['name'].value_counts().index[:10], liberal['name'].value_counts()[:10])\n",
    "plt.xticks(rotation=85)\n",
    "plt.show();"
   ]
  },
  {
   "cell_type": "code",
   "execution_count": 130,
   "metadata": {},
   "outputs": [
    {
     "data": {
      "image/png": "[encoded data removed]",
      "text/plain": [
       "<Figure size 432x288 with 1 Axes>"
      ]
     },
     "metadata": {
      "needs_background": "light"
     },
     "output_type": "display_data"
    }
   ],
   "source": [
    "#conservative viewpoints most emails\n",
    "plt.bar(conservative['name'].value_counts().index[:10], conservative['name'].value_counts()[:10])\n",
    "plt.xticks(rotation=85)\n",
    "plt.show();"
   ]
  },
  {
   "cell_type": "code",
   "execution_count": 131,
   "metadata": {},
   "outputs": [
    {
     "data": {
      "text/plain": [
       "Tea Party PAC                    0.219262\n",
       "Alek Skarlatos                   0.070044\n",
       "Great America PAC                0.043478\n",
       "Donald Trump                     0.033466\n",
       "Republican National Committee    0.029933\n",
       "Name: name, dtype: float64"
      ]
     },
     "execution_count": 131,
     "metadata": {},
     "output_type": "execute_result"
    }
   ],
   "source": [
    "conservative['name'].value_counts(normalize=True)[:5]"
   ]
  },
  {
   "cell_type": "markdown",
   "metadata": {},
   "source": [
    "Emails from Tea Party PAC contitutes approximately 22% of all emails from the 'conservative' viewpoint."
   ]
  },
  {
   "cell_type": "code",
   "execution_count": null,
   "metadata": {},
   "outputs": [],
   "source": []
  },
  {
   "cell_type": "code",
   "execution_count": null,
   "metadata": {},
   "outputs": [],
   "source": []
  },
  {
   "cell_type": "code",
   "execution_count": null,
   "metadata": {},
   "outputs": [],
   "source": []
  },
  {
   "cell_type": "code",
   "execution_count": 174,
   "metadata": {},
   "outputs": [
    {
     "data": {
      "text/html": [
       "<div>\n",
       "<style scoped>\n",
       "    .dataframe tbody tr th:only-of-type {\n",
       "        vertical-align: middle;\n",
       "    }\n",
       "\n",
       "    .dataframe tbody tr th {\n",
       "        vertical-align: top;\n",
       "    }\n",
       "\n",
       "    .dataframe thead th {\n",
       "        text-align: right;\n",
       "    }\n",
       "</style>\n",
       "<table border=\"1\" class=\"dataframe\">\n",
       "  <thead>\n",
       "    <tr style=\"text-align: right;\">\n",
       "      <th></th>\n",
       "      <th>from_name</th>\n",
       "      <th>from_address</th>\n",
       "      <th>subject</th>\n",
       "      <th>body_text</th>\n",
       "      <th>name</th>\n",
       "      <th>office_sought</th>\n",
       "      <th>party_affiliation</th>\n",
       "      <th>office_level</th>\n",
       "      <th>district_type</th>\n",
       "      <th>final_website</th>\n",
       "      <th>crawl_date</th>\n",
       "      <th>source</th>\n",
       "      <th>state</th>\n",
       "      <th>type</th>\n",
       "      <th>subtype</th>\n",
       "      <th>date</th>\n",
       "      <th>hour</th>\n",
       "      <th>day</th>\n",
       "      <th>uid_email</th>\n",
       "      <th>uid_inbox</th>\n",
       "      <th>incumbent</th>\n",
       "      <th>target</th>\n",
       "      <th>key</th>\n",
       "      <th>text</th>\n",
       "      <th>length</th>\n",
       "    </tr>\n",
       "  </thead>\n",
       "  <tbody>\n",
       "    <tr>\n",
       "      <th>175155</th>\n",
       "      <td>Trump-deadline@nrcc.org</td>\n",
       "      <td>news@libertybell.com</td>\n",
       "      <td>patriots needed before Trump takes the stage</td>\n",
       "      <td>Please DO NOT let President Trump and his alli...</td>\n",
       "      <td>Tea Party PAC</td>\n",
       "      <td>NaN</td>\n",
       "      <td>NaN</td>\n",
       "      <td>NaN</td>\n",
       "      <td>NaN</td>\n",
       "      <td>https://teapartypac.org/</td>\n",
       "      <td>2019-12-02</td>\n",
       "      <td>orgs</td>\n",
       "      <td>NaN</td>\n",
       "      <td>Super PAC</td>\n",
       "      <td>NaN</td>\n",
       "      <td>2020-09-09</td>\n",
       "      <td>9</td>\n",
       "      <td>Wed</td>\n",
       "      <td>cbd529eedf2598b64f8dfe0704a1fabc</td>\n",
       "      <td>a29669159cad2526ebfc10718b6b3eaf</td>\n",
       "      <td>NaN</td>\n",
       "      <td>Conservative</td>\n",
       "      <td>teapartypac</td>\n",
       "      <td>patriots needed before Trump takes the stage. ...</td>\n",
       "      <td>316501</td>\n",
       "    </tr>\n",
       "    <tr>\n",
       "      <th>175156</th>\n",
       "      <td>Trump-deadline@nrcc.org</td>\n",
       "      <td>news@libertybell.com</td>\n",
       "      <td>Your opt-in link will expire in less than 12 h...</td>\n",
       "      <td>Not interested? Unsubscribe Here\\nBy joining t...</td>\n",
       "      <td>Tea Party PAC</td>\n",
       "      <td>NaN</td>\n",
       "      <td>NaN</td>\n",
       "      <td>NaN</td>\n",
       "      <td>NaN</td>\n",
       "      <td>https://teapartypac.org/</td>\n",
       "      <td>2019-12-02</td>\n",
       "      <td>orgs</td>\n",
       "      <td>NaN</td>\n",
       "      <td>Super PAC</td>\n",
       "      <td>NaN</td>\n",
       "      <td>2020-09-09</td>\n",
       "      <td>11</td>\n",
       "      <td>Wed</td>\n",
       "      <td>37c6f814e074a849fed208a10b9cf9b3</td>\n",
       "      <td>a29669159cad2526ebfc10718b6b3eaf</td>\n",
       "      <td>NaN</td>\n",
       "      <td>Conservative</td>\n",
       "      <td>teapartypac</td>\n",
       "      <td>Your opt-in link will expire in less than 12 h...</td>\n",
       "      <td>316501</td>\n",
       "    </tr>\n",
       "    <tr>\n",
       "      <th>175157</th>\n",
       "      <td>Marco Rubio</td>\n",
       "      <td>marcorubio@thedailygrind.news</td>\n",
       "      <td>The Republican National Convention polls are i...</td>\n",
       "      <td>Fellow Conservative, The Republican National C...</td>\n",
       "      <td>Tea Party PAC</td>\n",
       "      <td>NaN</td>\n",
       "      <td>NaN</td>\n",
       "      <td>NaN</td>\n",
       "      <td>NaN</td>\n",
       "      <td>https://teapartypac.org/</td>\n",
       "      <td>2019-12-02</td>\n",
       "      <td>orgs</td>\n",
       "      <td>NaN</td>\n",
       "      <td>Super PAC</td>\n",
       "      <td>NaN</td>\n",
       "      <td>2020-08-26</td>\n",
       "      <td>17</td>\n",
       "      <td>Wed</td>\n",
       "      <td>a5293016b938f406d3704e773707b269</td>\n",
       "      <td>a29669159cad2526ebfc10718b6b3eaf</td>\n",
       "      <td>NaN</td>\n",
       "      <td>Conservative</td>\n",
       "      <td>teapartypac</td>\n",
       "      <td>The Republican National Convention polls are i...</td>\n",
       "      <td>316501</td>\n",
       "    </tr>\n",
       "    <tr>\n",
       "      <th>175158</th>\n",
       "      <td>Nikki Haley\" &lt;senate@@TheDailyGrind.news&gt;</td>\n",
       "      <td>NaN</td>\n",
       "      <td>The future of the America First agenda is in Y...</td>\n",
       "      <td>Republican Senate candidates in battleground s...</td>\n",
       "      <td>Tea Party PAC</td>\n",
       "      <td>NaN</td>\n",
       "      <td>NaN</td>\n",
       "      <td>NaN</td>\n",
       "      <td>NaN</td>\n",
       "      <td>https://teapartypac.org/</td>\n",
       "      <td>2019-12-02</td>\n",
       "      <td>orgs</td>\n",
       "      <td>NaN</td>\n",
       "      <td>Super PAC</td>\n",
       "      <td>NaN</td>\n",
       "      <td>2020-06-30</td>\n",
       "      <td>21</td>\n",
       "      <td>Tue</td>\n",
       "      <td>23b2e5f31b0a2d1e7b59ea9d6b4c380c</td>\n",
       "      <td>a29669159cad2526ebfc10718b6b3eaf</td>\n",
       "      <td>NaN</td>\n",
       "      <td>Conservative</td>\n",
       "      <td>teapartypac</td>\n",
       "      <td>The future of the America First agenda is in Y...</td>\n",
       "      <td>316501</td>\n",
       "    </tr>\n",
       "    <tr>\n",
       "      <th>175159</th>\n",
       "      <td>Ric Grennell</td>\n",
       "      <td>ric@thedailygrind.news</td>\n",
       "      <td>Remember me?</td>\n",
       "      <td>&amp;zw wnj;\\nMcSally for Senate\\nHi Fellow Conser...</td>\n",
       "      <td>Tea Party PAC</td>\n",
       "      <td>NaN</td>\n",
       "      <td>NaN</td>\n",
       "      <td>NaN</td>\n",
       "      <td>NaN</td>\n",
       "      <td>https://teapartypac.org/</td>\n",
       "      <td>2019-12-02</td>\n",
       "      <td>orgs</td>\n",
       "      <td>NaN</td>\n",
       "      <td>Super PAC</td>\n",
       "      <td>NaN</td>\n",
       "      <td>2020-08-09</td>\n",
       "      <td>7</td>\n",
       "      <td>Sun</td>\n",
       "      <td>4efb84c6a7c999ec74489e5a97b15264</td>\n",
       "      <td>a29669159cad2526ebfc10718b6b3eaf</td>\n",
       "      <td>NaN</td>\n",
       "      <td>Conservative</td>\n",
       "      <td>teapartypac</td>\n",
       "      <td>Remember me?. &amp;zw wnj;\\nMcSally for Senate\\nHi...</td>\n",
       "      <td>316501</td>\n",
       "    </tr>\n",
       "    <tr>\n",
       "      <th>...</th>\n",
       "      <td>...</td>\n",
       "      <td>...</td>\n",
       "      <td>...</td>\n",
       "      <td>...</td>\n",
       "      <td>...</td>\n",
       "      <td>...</td>\n",
       "      <td>...</td>\n",
       "      <td>...</td>\n",
       "      <td>...</td>\n",
       "      <td>...</td>\n",
       "      <td>...</td>\n",
       "      <td>...</td>\n",
       "      <td>...</td>\n",
       "      <td>...</td>\n",
       "      <td>...</td>\n",
       "      <td>...</td>\n",
       "      <td>...</td>\n",
       "      <td>...</td>\n",
       "      <td>...</td>\n",
       "      <td>...</td>\n",
       "      <td>...</td>\n",
       "      <td>...</td>\n",
       "      <td>...</td>\n",
       "      <td>...</td>\n",
       "      <td>...</td>\n",
       "    </tr>\n",
       "    <tr>\n",
       "      <th>189800</th>\n",
       "      <td>Tim Scott</td>\n",
       "      <td>timscott@thedailygrind.news</td>\n",
       "      <td>token</td>\n",
       "      <td>This is one of the hardest emails I have ever ...</td>\n",
       "      <td>Tea Party PAC</td>\n",
       "      <td>NaN</td>\n",
       "      <td>NaN</td>\n",
       "      <td>NaN</td>\n",
       "      <td>NaN</td>\n",
       "      <td>https://teapartypac.org/</td>\n",
       "      <td>2019-12-02</td>\n",
       "      <td>orgs</td>\n",
       "      <td>NaN</td>\n",
       "      <td>Super PAC</td>\n",
       "      <td>NaN</td>\n",
       "      <td>2020-06-23</td>\n",
       "      <td>11</td>\n",
       "      <td>Tue</td>\n",
       "      <td>be763364f88dfef98d99c41cc8c98545</td>\n",
       "      <td>a29669159cad2526ebfc10718b6b3eaf</td>\n",
       "      <td>NaN</td>\n",
       "      <td>Conservative</td>\n",
       "      <td>teapartypac</td>\n",
       "      <td>token. This is one of the hardest emails I hav...</td>\n",
       "      <td>316501</td>\n",
       "    </tr>\n",
       "    <tr>\n",
       "      <th>189801</th>\n",
       "      <td>Tim Scott</td>\n",
       "      <td>timscott@thedailygrind.news</td>\n",
       "      <td>Did you hear what Bernie said?</td>\n",
       "      <td>Last night at the Democrat convention, Sociali...</td>\n",
       "      <td>Tea Party PAC</td>\n",
       "      <td>NaN</td>\n",
       "      <td>NaN</td>\n",
       "      <td>NaN</td>\n",
       "      <td>NaN</td>\n",
       "      <td>https://teapartypac.org/</td>\n",
       "      <td>2019-12-02</td>\n",
       "      <td>orgs</td>\n",
       "      <td>NaN</td>\n",
       "      <td>Super PAC</td>\n",
       "      <td>NaN</td>\n",
       "      <td>2020-08-18</td>\n",
       "      <td>17</td>\n",
       "      <td>Tue</td>\n",
       "      <td>8f4b1d29450bb604349ce29745311d8f</td>\n",
       "      <td>a29669159cad2526ebfc10718b6b3eaf</td>\n",
       "      <td>NaN</td>\n",
       "      <td>Conservative</td>\n",
       "      <td>teapartypac</td>\n",
       "      <td>Did you hear what Bernie said?. Last night at ...</td>\n",
       "      <td>316501</td>\n",
       "    </tr>\n",
       "    <tr>\n",
       "      <th>189802</th>\n",
       "      <td>Tim Scott</td>\n",
       "      <td>timscott@thedailygrind.news</td>\n",
       "      <td>Defending the Second Amendment</td>\n",
       "      <td>The election is still more than two months awa...</td>\n",
       "      <td>Tea Party PAC</td>\n",
       "      <td>NaN</td>\n",
       "      <td>NaN</td>\n",
       "      <td>NaN</td>\n",
       "      <td>NaN</td>\n",
       "      <td>https://teapartypac.org/</td>\n",
       "      <td>2019-12-02</td>\n",
       "      <td>orgs</td>\n",
       "      <td>NaN</td>\n",
       "      <td>Super PAC</td>\n",
       "      <td>NaN</td>\n",
       "      <td>2020-08-13</td>\n",
       "      <td>16</td>\n",
       "      <td>Thu</td>\n",
       "      <td>f73531a28edf74e4483eb6ab676a29d8</td>\n",
       "      <td>a29669159cad2526ebfc10718b6b3eaf</td>\n",
       "      <td>NaN</td>\n",
       "      <td>Conservative</td>\n",
       "      <td>teapartypac</td>\n",
       "      <td>Defending the Second Amendment. The election i...</td>\n",
       "      <td>316501</td>\n",
       "    </tr>\n",
       "    <tr>\n",
       "      <th>189803</th>\n",
       "      <td>Tim Scott</td>\n",
       "      <td>timscott@thedailygrind.news</td>\n",
       "      <td>Less Government, More Freedom</td>\n",
       "      <td>As a proud conservative, I have always advocat...</td>\n",
       "      <td>Tea Party PAC</td>\n",
       "      <td>NaN</td>\n",
       "      <td>NaN</td>\n",
       "      <td>NaN</td>\n",
       "      <td>NaN</td>\n",
       "      <td>https://teapartypac.org/</td>\n",
       "      <td>2019-12-02</td>\n",
       "      <td>orgs</td>\n",
       "      <td>NaN</td>\n",
       "      <td>Super PAC</td>\n",
       "      <td>NaN</td>\n",
       "      <td>2020-08-03</td>\n",
       "      <td>18</td>\n",
       "      <td>Mon</td>\n",
       "      <td>b6ad4a6d901307ce6298314b4c9713b3</td>\n",
       "      <td>a29669159cad2526ebfc10718b6b3eaf</td>\n",
       "      <td>NaN</td>\n",
       "      <td>Conservative</td>\n",
       "      <td>teapartypac</td>\n",
       "      <td>Less Government, More Freedom. As a proud cons...</td>\n",
       "      <td>316501</td>\n",
       "    </tr>\n",
       "    <tr>\n",
       "      <th>189804</th>\n",
       "      <td>Tim Scott</td>\n",
       "      <td>timscott@thedailygrind.news</td>\n",
       "      <td>Why we need the Senate</td>\n",
       "      <td>We are at a crossroads: In less than 85 days t...</td>\n",
       "      <td>Tea Party PAC</td>\n",
       "      <td>NaN</td>\n",
       "      <td>NaN</td>\n",
       "      <td>NaN</td>\n",
       "      <td>NaN</td>\n",
       "      <td>https://teapartypac.org/</td>\n",
       "      <td>2019-12-02</td>\n",
       "      <td>orgs</td>\n",
       "      <td>NaN</td>\n",
       "      <td>Super PAC</td>\n",
       "      <td>NaN</td>\n",
       "      <td>2020-08-15</td>\n",
       "      <td>10</td>\n",
       "      <td>Sat</td>\n",
       "      <td>24968c0450e53cfb60ef9d7baa8a92c1</td>\n",
       "      <td>a29669159cad2526ebfc10718b6b3eaf</td>\n",
       "      <td>NaN</td>\n",
       "      <td>Conservative</td>\n",
       "      <td>teapartypac</td>\n",
       "      <td>Why we need the Senate. We are at a crossroads...</td>\n",
       "      <td>316501</td>\n",
       "    </tr>\n",
       "  </tbody>\n",
       "</table>\n",
       "<p>14650 rows × 25 columns</p>\n",
       "</div>"
      ],
      "text/plain": [
       "                                        from_name  \\\n",
       "175155                    Trump-deadline@nrcc.org   \n",
       "175156                    Trump-deadline@nrcc.org   \n",
       "175157                                Marco Rubio   \n",
       "175158  Nikki Haley\" <senate@@TheDailyGrind.news>   \n",
       "175159                               Ric Grennell   \n",
       "...                                           ...   \n",
       "189800                                  Tim Scott   \n",
       "189801                                  Tim Scott   \n",
       "189802                                  Tim Scott   \n",
       "189803                                  Tim Scott   \n",
       "189804                                  Tim Scott   \n",
       "\n",
       "                         from_address  \\\n",
       "175155           news@libertybell.com   \n",
       "175156           news@libertybell.com   \n",
       "175157  marcorubio@thedailygrind.news   \n",
       "175158                            NaN   \n",
       "175159         ric@thedailygrind.news   \n",
       "...                               ...   \n",
       "189800    timscott@thedailygrind.news   \n",
       "189801    timscott@thedailygrind.news   \n",
       "189802    timscott@thedailygrind.news   \n",
       "189803    timscott@thedailygrind.news   \n",
       "189804    timscott@thedailygrind.news   \n",
       "\n",
       "                                                  subject  \\\n",
       "175155       patriots needed before Trump takes the stage   \n",
       "175156  Your opt-in link will expire in less than 12 h...   \n",
       "175157  The Republican National Convention polls are i...   \n",
       "175158  The future of the America First agenda is in Y...   \n",
       "175159                                       Remember me?   \n",
       "...                                                   ...   \n",
       "189800                                              token   \n",
       "189801                     Did you hear what Bernie said?   \n",
       "189802                     Defending the Second Amendment   \n",
       "189803                      Less Government, More Freedom   \n",
       "189804                             Why we need the Senate   \n",
       "\n",
       "                                                body_text           name  \\\n",
       "175155  Please DO NOT let President Trump and his alli...  Tea Party PAC   \n",
       "175156  Not interested? Unsubscribe Here\\nBy joining t...  Tea Party PAC   \n",
       "175157  Fellow Conservative, The Republican National C...  Tea Party PAC   \n",
       "175158  Republican Senate candidates in battleground s...  Tea Party PAC   \n",
       "175159  &zw wnj;\\nMcSally for Senate\\nHi Fellow Conser...  Tea Party PAC   \n",
       "...                                                   ...            ...   \n",
       "189800  This is one of the hardest emails I have ever ...  Tea Party PAC   \n",
       "189801  Last night at the Democrat convention, Sociali...  Tea Party PAC   \n",
       "189802  The election is still more than two months awa...  Tea Party PAC   \n",
       "189803  As a proud conservative, I have always advocat...  Tea Party PAC   \n",
       "189804  We are at a crossroads: In less than 85 days t...  Tea Party PAC   \n",
       "\n",
       "       office_sought party_affiliation office_level district_type  \\\n",
       "175155           NaN               NaN          NaN           NaN   \n",
       "175156           NaN               NaN          NaN           NaN   \n",
       "175157           NaN               NaN          NaN           NaN   \n",
       "175158           NaN               NaN          NaN           NaN   \n",
       "175159           NaN               NaN          NaN           NaN   \n",
       "...              ...               ...          ...           ...   \n",
       "189800           NaN               NaN          NaN           NaN   \n",
       "189801           NaN               NaN          NaN           NaN   \n",
       "189802           NaN               NaN          NaN           NaN   \n",
       "189803           NaN               NaN          NaN           NaN   \n",
       "189804           NaN               NaN          NaN           NaN   \n",
       "\n",
       "                   final_website crawl_date source state       type subtype  \\\n",
       "175155  https://teapartypac.org/ 2019-12-02   orgs   NaN  Super PAC     NaN   \n",
       "175156  https://teapartypac.org/ 2019-12-02   orgs   NaN  Super PAC     NaN   \n",
       "175157  https://teapartypac.org/ 2019-12-02   orgs   NaN  Super PAC     NaN   \n",
       "175158  https://teapartypac.org/ 2019-12-02   orgs   NaN  Super PAC     NaN   \n",
       "175159  https://teapartypac.org/ 2019-12-02   orgs   NaN  Super PAC     NaN   \n",
       "...                          ...        ...    ...   ...        ...     ...   \n",
       "189800  https://teapartypac.org/ 2019-12-02   orgs   NaN  Super PAC     NaN   \n",
       "189801  https://teapartypac.org/ 2019-12-02   orgs   NaN  Super PAC     NaN   \n",
       "189802  https://teapartypac.org/ 2019-12-02   orgs   NaN  Super PAC     NaN   \n",
       "189803  https://teapartypac.org/ 2019-12-02   orgs   NaN  Super PAC     NaN   \n",
       "189804  https://teapartypac.org/ 2019-12-02   orgs   NaN  Super PAC     NaN   \n",
       "\n",
       "             date  hour  day                         uid_email  \\\n",
       "175155 2020-09-09     9  Wed  cbd529eedf2598b64f8dfe0704a1fabc   \n",
       "175156 2020-09-09    11  Wed  37c6f814e074a849fed208a10b9cf9b3   \n",
       "175157 2020-08-26    17  Wed  a5293016b938f406d3704e773707b269   \n",
       "175158 2020-06-30    21  Tue  23b2e5f31b0a2d1e7b59ea9d6b4c380c   \n",
       "175159 2020-08-09     7  Sun  4efb84c6a7c999ec74489e5a97b15264   \n",
       "...           ...   ...  ...                               ...   \n",
       "189800 2020-06-23    11  Tue  be763364f88dfef98d99c41cc8c98545   \n",
       "189801 2020-08-18    17  Tue  8f4b1d29450bb604349ce29745311d8f   \n",
       "189802 2020-08-13    16  Thu  f73531a28edf74e4483eb6ab676a29d8   \n",
       "189803 2020-08-03    18  Mon  b6ad4a6d901307ce6298314b4c9713b3   \n",
       "189804 2020-08-15    10  Sat  24968c0450e53cfb60ef9d7baa8a92c1   \n",
       "\n",
       "                               uid_inbox incumbent        target          key  \\\n",
       "175155  a29669159cad2526ebfc10718b6b3eaf       NaN  Conservative  teapartypac   \n",
       "175156  a29669159cad2526ebfc10718b6b3eaf       NaN  Conservative  teapartypac   \n",
       "175157  a29669159cad2526ebfc10718b6b3eaf       NaN  Conservative  teapartypac   \n",
       "175158  a29669159cad2526ebfc10718b6b3eaf       NaN  Conservative  teapartypac   \n",
       "175159  a29669159cad2526ebfc10718b6b3eaf       NaN  Conservative  teapartypac   \n",
       "...                                  ...       ...           ...          ...   \n",
       "189800  a29669159cad2526ebfc10718b6b3eaf       NaN  Conservative  teapartypac   \n",
       "189801  a29669159cad2526ebfc10718b6b3eaf       NaN  Conservative  teapartypac   \n",
       "189802  a29669159cad2526ebfc10718b6b3eaf       NaN  Conservative  teapartypac   \n",
       "189803  a29669159cad2526ebfc10718b6b3eaf       NaN  Conservative  teapartypac   \n",
       "189804  a29669159cad2526ebfc10718b6b3eaf       NaN  Conservative  teapartypac   \n",
       "\n",
       "                                                     text  length  \n",
       "175155  patriots needed before Trump takes the stage. ...  316501  \n",
       "175156  Your opt-in link will expire in less than 12 h...  316501  \n",
       "175157  The Republican National Convention polls are i...  316501  \n",
       "175158  The future of the America First agenda is in Y...  316501  \n",
       "175159  Remember me?. &zw wnj;\\nMcSally for Senate\\nHi...  316501  \n",
       "...                                                   ...     ...  \n",
       "189800  token. This is one of the hardest emails I hav...  316501  \n",
       "189801  Did you hear what Bernie said?. Last night at ...  316501  \n",
       "189802  Defending the Second Amendment. The election i...  316501  \n",
       "189803  Less Government, More Freedom. As a proud cons...  316501  \n",
       "189804  Why we need the Senate. We are at a crossroads...  316501  \n",
       "\n",
       "[14650 rows x 25 columns]"
      ]
     },
     "execution_count": 174,
     "metadata": {},
     "output_type": "execute_result"
    }
   ],
   "source": [
    "corpus.loc[corpus['key']=='teapartypac']"
   ]
  },
  {
   "cell_type": "markdown",
   "metadata": {},
   "source": [
    "# Data Cleaning"
   ]
  },
  {
   "cell_type": "code",
   "execution_count": 150,
   "metadata": {},
   "outputs": [],
   "source": [
    "corpus['text'] = corpus['subject'] +\". \"+ corpus['body_text']"
   ]
  },
  {
   "cell_type": "code",
   "execution_count": 179,
   "metadata": {},
   "outputs": [
    {
     "data": {
      "text/plain": [
       "'The future of the America First agenda is in YOUR hands. Republican Senate candidates in battleground states are counting on important resources from conservatives like YOU. That means Republicans must reach our fundraising goals before the end of this quarter. Donate to defend the Senate Majority and President Trump before midnight to be 5x matched >>\\nFellow Conservative,\\nPresident Trump and his allies in the Senate need your help. Democrats are now campaigning to:\\n* DISMANTLE and DEFUND local police departments and law enforcement,\\n* Look the other way to APPEASE CHINA, instead of holding its communist regime accountable for constant efforts to gain international influence,\\n* SUPPORT socialist ideas and policies that undermine America’s founding principles and would devastate our economy.\\nIt’s unreal to see such radical policies becoming a part of Democrats’ mainstream platform. That’s why it’s more important than ever for Republicans to rally together in 2020! Chip in now to defend President Trump and his Senate allies for your gift to be 5X-Matched >>\\nDemocrats are motivated, recent reports show them as favored to take back the Senate in November.\\nIt’s not too late to catch up, but we must turn things around starting TODAY. Will you help President Trump’s Senate allies reach their critical End of Quarter Goal before the deadline?\\nChip in $250 to STOP a blue wave! >>\\nChip in $100 to STOP a blue wave! >>\\nChip in $75 to STOP a blue wave! >>\\nChip in $35 to STOP a blue wave! >>\\n**5x MATCHING ON ALL GIFTS BEFORE 11:59 PM**\\nRepublican Senate candidates in battleground states are counting on important resources from conservatives like YOU. That means Republicans must reach our fundraising goals before the end of this quarter. Donate to defend the Senate Majority and President Trump before midnight to be 5x matched >>\\nThank you for dedicated support!\\nMy very best,\\nNikki Haley\\nDONATE NOW\\nIf you agree that President Trump and Republicans are MAKING AMERICA GREAT AGAIN, text MAGA to 55404 to receive mobile alerts! Message and data rates may apply. Text \"STOP\" to opt-out. T&C/Privacy Policy.\\nPaid for by the NRSC.\\nNot authorized by any candidate or candidate\\'s committee.\\n[[URL REDACTED]]\\u200borg\\nContributions to the NRSC are not deductible as charitable contributions for federal income tax purposes.\\nNRSC, 425 2nd Street NE, Washington D.C. 20002\\nThe Daily Grind News\\n6890 E. Sunrise Dr. Suite 120-137 Tucson, AZ. 85750\\nTo opt-out of email sponsored by the Daily Grind News, please, click here'"
      ]
     },
     "execution_count": 179,
     "metadata": {},
     "output_type": "execute_result"
    }
   ],
   "source": [
    "test_text = corpus['text'][175158]\n",
    "test_text"
   ]
  },
  {
   "cell_type": "code",
   "execution_count": 202,
   "metadata": {},
   "outputs": [],
   "source": [
    "import nltk\n",
    "from nltk.tokenize import word_tokenize, RegexpTokenizer\n",
    "from nltk.corpus import stopwords"
   ]
  },
  {
   "cell_type": "code",
   "execution_count": 194,
   "metadata": {},
   "outputs": [],
   "source": [
    "tokenizer = RegexpTokenizer('\\w+|\\$[\\d\\.]+|\\S+')"
   ]
  },
  {
   "cell_type": "code",
   "execution_count": 198,
   "metadata": {},
   "outputs": [],
   "source": [
    "corpus['tokens'] = corpus['text'].astype(str)"
   ]
  },
  {
   "cell_type": "code",
   "execution_count": 199,
   "metadata": {},
   "outputs": [],
   "source": [
    "corpus['tokens'] = corpus['tokens'].apply(tokenizer.tokenize)"
   ]
  },
  {
   "cell_type": "code",
   "execution_count": 203,
   "metadata": {},
   "outputs": [],
   "source": [
    "nltk_stopwords = stopwords.words('english')\n",
    "\n",
    "corpus['tokens'] = corpus['tokens'].apply(lambda x: [word for word in x if word not in nltk_stopwords])"
   ]
  }
 ],
 "metadata": {
  "kernelspec": {
   "display_name": "Python 3",
   "language": "python",
   "name": "python3"
  },
  "language_info": {
   "codemirror_mode": {
    "name": "ipython",
    "version": 3
   },
   "file_extension": ".py",
   "mimetype": "text/x-python",
   "name": "python",
   "nbconvert_exporter": "python",
   "pygments_lexer": "ipython3",
   "version": "3.8.5"
  }
 },
 "nbformat": 4,
 "nbformat_minor": 4
}
