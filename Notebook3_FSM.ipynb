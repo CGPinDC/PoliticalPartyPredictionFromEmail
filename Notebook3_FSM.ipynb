{
 "cells": [
  {
   "cell_type": "code",
   "execution_count": 25,
   "metadata": {},
   "outputs": [],
   "source": [
    "import pandas as pd\n",
    "from nltk.corpus import stopwords\n",
    "import string\n",
    "import re\n",
    "from nltk.tokenize.regexp import regexp_tokenize"
   ]
  },
  {
   "cell_type": "code",
   "execution_count": 2,
   "metadata": {},
   "outputs": [],
   "source": [
    "emails = pd.read_csv('email_df.csv', index_col=0)"
   ]
  },
  {
   "cell_type": "code",
   "execution_count": 128,
   "metadata": {},
   "outputs": [],
   "source": [
    "stop_words = stopwords.words('english')"
   ]
  },
  {
   "cell_type": "code",
   "execution_count": 116,
   "metadata": {},
   "outputs": [
    {
     "data": {
      "text/plain": [
       "'america is an idea im eager to move this country forward to help rebuild our communities from this devastating pandemic and to turn a new leaf after four years of stalled progress and devastation as we move forward we can change the priorities of our leaders together we can opt for decency over division love over hate hope over fear thats what this video is about  and thats what this election is about america is an idea i believe that america is an idea  a living idea shaped by every decision we make we the people have the power to choose im asking for your vote by tuesday november 3 together we can and we will build a better future jim express donate if youve stored your info with actblue express well process your contribution instantly 5 15 25 50 paid for and authorized by the reelect mcgovern committee this email was sent by jim mcgovern po box 60405 worcester ma 01606 email is an important way for jim mcgovern to keep supporters like you informed about critical issues and to build a winning grassroots campaign too much email switch to our less email option here this email was sent to emailredacted click here to change your email address if you no longer want to hear from jim mcgovern click here to get off all our lists instantly questions or concerns contact us here'"
      ]
     },
     "execution_count": 116,
     "metadata": {},
     "output_type": "execute_result"
    }
   ],
   "source": [
    "clean = test_email.lower().replace(\"\\n\", \" \").translate(str.maketrans(' ',' ', '!\"#$%&–\\'.()*+,-/:;<=>?@[\\]^_`{|}~'))\n",
    "clean"
   ]
  },
  {
   "cell_type": "code",
   "execution_count": 119,
   "metadata": {},
   "outputs": [
    {
     "data": {
      "text/plain": [
       "'america idea im eager move country forward help rebuild communities devastating pandemic turn new leaf four years stalled progress devastation move forward change priorities leaders together opt decency division love hate hope fear thats video thats election america idea believe america idea living idea shaped every decision make people power choose im asking vote tuesday november 3 together build better future jim express donate youve stored info actblue express well process contribution instantly 5 15 25 50 paid authorized reelect mcgovern committee email sent jim mcgovern po box 60405 worcester 01606 email important way jim mcgovern keep supporters like informed critical issues build winning grassroots campaign much email switch less email option email sent emailredacted click change email address longer want hear jim mcgovern click get lists instantly questions concerns contact us'"
      ]
     },
     "execution_count": 119,
     "metadata": {},
     "output_type": "execute_result"
    }
   ],
   "source": [
    "' '.join([word for word in regexp_tokenize(clean, pattern='\\w+') if word not in stop_words])"
   ]
  },
  {
   "cell_type": "code",
   "execution_count": 124,
   "metadata": {},
   "outputs": [],
   "source": [
    "t = str.maketrans(' ',' ', '!\"#$%&–\\'.()*+,-/:;<=>?@[\\]^_`{|}~')"
   ]
  },
  {
   "cell_type": "code",
   "execution_count": 129,
   "metadata": {},
   "outputs": [],
   "source": [
    "emails['clean'] = emails['text'].apply(lambda x: str(x).lower().replace(\"\\n\", \" \").translate(t))\n",
    "emails['clean'] = emails['clean'].apply(lambda x: ' '.join([word for word in regexp_tokenize(x, pattern='\\w+') if word not in stop_words]))"
   ]
  },
  {
   "cell_type": "markdown",
   "metadata": {},
   "source": [
    "# train, test, split"
   ]
  },
  {
   "cell_type": "code",
   "execution_count": 143,
   "metadata": {},
   "outputs": [
    {
     "data": {
      "text/plain": [
       "(25321,)"
      ]
     },
     "execution_count": 143,
     "metadata": {},
     "output_type": "execute_result"
    }
   ],
   "source": [
    "from sklearn.model_selection import train_test_split\n",
    "\n",
    "X = emails['clean']\n",
    "y = emails['target']\n",
    "\n",
    "X_train, X_test, y_train, y_test = train_test_split(X, y, random_state=42, test_size = 0.4, stratify=y)\n",
    "X_test, X_val, y_test, y_val = train_test_split(X_test, y_test, random_state=42, test_size=0.2, stratify=y_test)\n",
    "\n",
    "X_val.shape"
   ]
  },
  {
   "cell_type": "code",
   "execution_count": 145,
   "metadata": {},
   "outputs": [
    {
     "data": {
      "text/plain": [
       "Liberal         0.782543\n",
       "Conservative    0.211106\n",
       "Center          0.006351\n",
       "Name: target, dtype: float64"
      ]
     },
     "execution_count": 145,
     "metadata": {},
     "output_type": "execute_result"
    }
   ],
   "source": [
    "y_train.value_counts(normalize=True)"
   ]
  },
  {
   "cell_type": "code",
   "execution_count": 144,
   "metadata": {},
   "outputs": [
    {
     "data": {
      "text/plain": [
       "0.7891093996840443"
      ]
     },
     "execution_count": 144,
     "metadata": {},
     "output_type": "execute_result"
    }
   ],
   "source": [
    "from sklearn.feature_extraction.text import CountVectorizer\n",
    "\n",
    "ctv = CountVectorizer(max_df=0.98, min_df = 0.02)\n",
    "\n",
    "ctv.fit(X_train)\n",
    "\n",
    "X_train_vectorized = ctv.transform(X_train)\n",
    "X_test_vectorized = ctv.transform(X_test)\n",
    "\n",
    "from sklearn.naive_bayes import MultinomialNB\n",
    "clf = MultinomialNB()\n",
    "clf.fit(X_train_vectorized, y_train)\n",
    "\n",
    "clf.score(X_test_vectorized, y_test)\n",
    "\n"
   ]
  },
  {
   "cell_type": "code",
   "execution_count": 170,
   "metadata": {},
   "outputs": [],
   "source": [
    "from sklearn.metrics import accuracy_score, precision_score, f1_score, plot_confusion_matrix, roc_auc_score, plot_roc_curve"
   ]
  },
  {
   "cell_type": "code",
   "execution_count": 178,
   "metadata": {},
   "outputs": [
    {
     "data": {
      "text/plain": [
       "<sklearn.metrics._plot.confusion_matrix.ConfusionMatrixDisplay at 0x25c7e5a6fd0>"
      ]
     },
     "execution_count": 178,
     "metadata": {},
     "output_type": "execute_result"
    },
    {
     "data": {
      "image/png": "[encoded data removed]",
      "text/plain": [
       "<Figure size 432x288 with 2 Axes>"
      ]
     },
     "metadata": {
      "needs_background": "light"
     },
     "output_type": "display_data"
    }
   ],
   "source": [
    "plot_confusion_matrix(clf, X_test_vectorized, y_test, normalize='true')"
   ]
  },
  {
   "cell_type": "markdown",
   "metadata": {},
   "source": [
    "# binomial categories"
   ]
  },
  {
   "cell_type": "code",
   "execution_count": 148,
   "metadata": {},
   "outputs": [
    {
     "data": {
      "text/html": [
       "<div>\n",
       "<style scoped>\n",
       "    .dataframe tbody tr th:only-of-type {\n",
       "        vertical-align: middle;\n",
       "    }\n",
       "\n",
       "    .dataframe tbody tr th {\n",
       "        vertical-align: top;\n",
       "    }\n",
       "\n",
       "    .dataframe thead th {\n",
       "        text-align: right;\n",
       "    }\n",
       "</style>\n",
       "<table border=\"1\" class=\"dataframe\">\n",
       "  <thead>\n",
       "    <tr style=\"text-align: right;\">\n",
       "      <th></th>\n",
       "      <th>text</th>\n",
       "      <th>tokens</th>\n",
       "      <th>target</th>\n",
       "      <th>clean</th>\n",
       "    </tr>\n",
       "  </thead>\n",
       "  <tbody>\n",
       "    <tr>\n",
       "      <th>0</th>\n",
       "      <td>Welcome to the team!. Thanks for joining the t...</td>\n",
       "      <td>['Welcome', 'team', '!.', 'Thanks', 'joining',...</td>\n",
       "      <td>Liberal</td>\n",
       "      <td>welcome team thanks joining team name kathleen...</td>\n",
       "    </tr>\n",
       "    <tr>\n",
       "      <th>1</th>\n",
       "      <td>Quickly closing in. We’re just 5 days away fro...</td>\n",
       "      <td>['Quickly', 'closing', '.', 'We', '’re', '5', ...</td>\n",
       "      <td>Liberal</td>\n",
       "      <td>quickly closing 5 days away june 30th fec publ...</td>\n",
       "    </tr>\n",
       "    <tr>\n",
       "      <th>2</th>\n",
       "      <td>Welcome to the team!. Thanks for joining the t...</td>\n",
       "      <td>['Welcome', 'team', '!.', 'Thanks', 'joining',...</td>\n",
       "      <td>Liberal</td>\n",
       "      <td>welcome team thanks joining team name kathleen...</td>\n",
       "    </tr>\n",
       "    <tr>\n",
       "      <th>3</th>\n",
       "      <td>Remembering Dr. King. Today we remember and ho...</td>\n",
       "      <td>['Remembering', 'Dr', '.', 'King', '.', 'Today...</td>\n",
       "      <td>Liberal</td>\n",
       "      <td>remembering dr king today remember honor legac...</td>\n",
       "    </tr>\n",
       "    <tr>\n",
       "      <th>4</th>\n",
       "      <td>We need to close the gap fast. Here’s the trut...</td>\n",
       "      <td>['We', 'need', 'close', 'gap', 'fast', '.', 'H...</td>\n",
       "      <td>Liberal</td>\n",
       "      <td>need close gap fast truthsummer difficult fund...</td>\n",
       "    </tr>\n",
       "    <tr>\n",
       "      <th>...</th>\n",
       "      <td>...</td>\n",
       "      <td>...</td>\n",
       "      <td>...</td>\n",
       "      <td>...</td>\n",
       "    </tr>\n",
       "    <tr>\n",
       "      <th>317361</th>\n",
       "      <td>Help Lisa Win. HELP LISA PAVLOCK WIN!\\nThank y...</td>\n",
       "      <td>['Help', 'Lisa', 'Win', '.', 'HELP', 'LISA', '...</td>\n",
       "      <td>Liberal</td>\n",
       "      <td>help lisa win help lisa pavlock win thank much...</td>\n",
       "    </tr>\n",
       "    <tr>\n",
       "      <th>317362</th>\n",
       "      <td>[Valdez-Ortega for Congress] Democratic Debate...</td>\n",
       "      <td>['[Valdez-Ortega', 'Congress', ']', 'Democrati...</td>\n",
       "      <td>Liberal</td>\n",
       "      <td>valdezortega congress democratic debate invita...</td>\n",
       "    </tr>\n",
       "    <tr>\n",
       "      <th>317363</th>\n",
       "      <td>Election Day is Tomorrow. DM Campaign Logo \\(S...</td>\n",
       "      <td>['Election', 'Day', 'Tomorrow', '.', 'DM', 'Ca...</td>\n",
       "      <td>Conservative</td>\n",
       "      <td>election day tomorrow dm campaign logo solid p...</td>\n",
       "    </tr>\n",
       "    <tr>\n",
       "      <th>317364</th>\n",
       "      <td>Volunteer Opportunities. Hello,\\nI'm Bri Buent...</td>\n",
       "      <td>['Volunteer', 'Opportunities', '.', 'Hello', '...</td>\n",
       "      <td>Liberal</td>\n",
       "      <td>volunteer opportunities hello im bri buentello...</td>\n",
       "    </tr>\n",
       "    <tr>\n",
       "      <th>317365</th>\n",
       "      <td>Final Stretch - Phone Banking Volunteers Neede...</td>\n",
       "      <td>['Final', 'Stretch', '-', 'Phone', 'Banking', ...</td>\n",
       "      <td>Conservative</td>\n",
       "      <td>final stretch phone banking volunteers needed ...</td>\n",
       "    </tr>\n",
       "  </tbody>\n",
       "</table>\n",
       "<p>314491 rows × 4 columns</p>\n",
       "</div>"
      ],
      "text/plain": [
       "                                                     text  \\\n",
       "0       Welcome to the team!. Thanks for joining the t...   \n",
       "1       Quickly closing in. We’re just 5 days away fro...   \n",
       "2       Welcome to the team!. Thanks for joining the t...   \n",
       "3       Remembering Dr. King. Today we remember and ho...   \n",
       "4       We need to close the gap fast. Here’s the trut...   \n",
       "...                                                   ...   \n",
       "317361  Help Lisa Win. HELP LISA PAVLOCK WIN!\\nThank y...   \n",
       "317362  [Valdez-Ortega for Congress] Democratic Debate...   \n",
       "317363  Election Day is Tomorrow. DM Campaign Logo \\(S...   \n",
       "317364  Volunteer Opportunities. Hello,\\nI'm Bri Buent...   \n",
       "317365  Final Stretch - Phone Banking Volunteers Neede...   \n",
       "\n",
       "                                                   tokens        target  \\\n",
       "0       ['Welcome', 'team', '!.', 'Thanks', 'joining',...       Liberal   \n",
       "1       ['Quickly', 'closing', '.', 'We', '’re', '5', ...       Liberal   \n",
       "2       ['Welcome', 'team', '!.', 'Thanks', 'joining',...       Liberal   \n",
       "3       ['Remembering', 'Dr', '.', 'King', '.', 'Today...       Liberal   \n",
       "4       ['We', 'need', 'close', 'gap', 'fast', '.', 'H...       Liberal   \n",
       "...                                                   ...           ...   \n",
       "317361  ['Help', 'Lisa', 'Win', '.', 'HELP', 'LISA', '...       Liberal   \n",
       "317362  ['[Valdez-Ortega', 'Congress', ']', 'Democrati...       Liberal   \n",
       "317363  ['Election', 'Day', 'Tomorrow', '.', 'DM', 'Ca...  Conservative   \n",
       "317364  ['Volunteer', 'Opportunities', '.', 'Hello', '...       Liberal   \n",
       "317365  ['Final', 'Stretch', '-', 'Phone', 'Banking', ...  Conservative   \n",
       "\n",
       "                                                    clean  \n",
       "0       welcome team thanks joining team name kathleen...  \n",
       "1       quickly closing 5 days away june 30th fec publ...  \n",
       "2       welcome team thanks joining team name kathleen...  \n",
       "3       remembering dr king today remember honor legac...  \n",
       "4       need close gap fast truthsummer difficult fund...  \n",
       "...                                                   ...  \n",
       "317361  help lisa win help lisa pavlock win thank much...  \n",
       "317362  valdezortega congress democratic debate invita...  \n",
       "317363  election day tomorrow dm campaign logo solid p...  \n",
       "317364  volunteer opportunities hello im bri buentello...  \n",
       "317365  final stretch phone banking volunteers needed ...  \n",
       "\n",
       "[314491 rows x 4 columns]"
      ]
     },
     "execution_count": 148,
     "metadata": {},
     "output_type": "execute_result"
    }
   ],
   "source": [
    "emails2 = emails[emails['target'] != 'Center']\n",
    "emails2"
   ]
  },
  {
   "cell_type": "code",
   "execution_count": 153,
   "metadata": {},
   "outputs": [
    {
     "data": {
      "text/plain": [
       "Liberal         247676\n",
       "Conservative     66815\n",
       "Name: target, dtype: int64"
      ]
     },
     "execution_count": 153,
     "metadata": {},
     "output_type": "execute_result"
    }
   ],
   "source": [
    "emails2['target'].value_counts()"
   ]
  },
  {
   "cell_type": "code",
   "execution_count": 154,
   "metadata": {},
   "outputs": [
    {
     "data": {
      "text/plain": [
       "(25160,)"
      ]
     },
     "execution_count": 154,
     "metadata": {},
     "output_type": "execute_result"
    }
   ],
   "source": [
    "from sklearn.model_selection import train_test_split\n",
    "\n",
    "X = emails2['clean']\n",
    "y = emails2['target']\n",
    "\n",
    "X_train, X_test, y_train, y_test = train_test_split(X, y, random_state=42, test_size = 0.4, stratify=y)\n",
    "X_test, X_val, y_test, y_val = train_test_split(X_test, y_test, random_state=42, test_size=0.2, stratify=y_test)\n",
    "\n",
    "X_val.shape"
   ]
  },
  {
   "cell_type": "code",
   "execution_count": 155,
   "metadata": {},
   "outputs": [
    {
     "data": {
      "text/plain": [
       "0.8966582867136341"
      ]
     },
     "execution_count": 155,
     "metadata": {},
     "output_type": "execute_result"
    }
   ],
   "source": [
    "from sklearn.feature_extraction.text import CountVectorizer\n",
    "\n",
    "ctv = CountVectorizer(max_df=0.98, min_df = 0.02)\n",
    "\n",
    "ctv.fit(X_train)\n",
    "\n",
    "X_train_vectorized = ctv.transform(X_train)\n",
    "X_test_vectorized = ctv.transform(X_test)\n",
    "\n",
    "from sklearn.naive_bayes import MultinomialNB\n",
    "clf = MultinomialNB()\n",
    "clf.fit(X_train_vectorized, y_train)\n",
    "\n",
    "clf.score(X_test_vectorized, y_test)\n"
   ]
  },
  {
   "cell_type": "code",
   "execution_count": 160,
   "metadata": {},
   "outputs": [
    {
     "data": {
      "text/plain": [
       "<sklearn.metrics._plot.confusion_matrix.ConfusionMatrixDisplay at 0x25da13a2490>"
      ]
     },
     "execution_count": 160,
     "metadata": {},
     "output_type": "execute_result"
    },
    {
     "data": {
      "image/png": "[encoded data removed]",
      "text/plain": [
       "<Figure size 432x288 with 2 Axes>"
      ]
     },
     "metadata": {
      "needs_background": "light"
     },
     "output_type": "display_data"
    }
   ],
   "source": [
    "plot_confusion_matrix(clf, X_test_vectorized, y_test, normalize='true')"
   ]
  },
  {
   "cell_type": "code",
   "execution_count": 173,
   "metadata": {},
   "outputs": [
    {
     "data": {
      "text/plain": [
       "<sklearn.metrics._plot.roc_curve.RocCurveDisplay at 0x25c09a708e0>"
      ]
     },
     "execution_count": 173,
     "metadata": {},
     "output_type": "execute_result"
    },
    {
     "data": {
      "image/png": "[encoded data removed]",
      "text/plain": [
       "<Figure size 432x288 with 1 Axes>"
      ]
     },
     "metadata": {
      "needs_background": "light"
     },
     "output_type": "display_data"
    }
   ],
   "source": [
    "plot_roc_curve(clf, X_test_vectorized, y_test)"
   ]
  },
  {
   "cell_type": "code",
   "execution_count": 163,
   "metadata": {},
   "outputs": [
    {
     "data": {
      "text/plain": [
       "242922    False\n",
       "196239    False\n",
       "245824    False\n",
       "85966     False\n",
       "263206    False\n",
       "          ...  \n",
       "309279    False\n",
       "21569     False\n",
       "289361    False\n",
       "249183    False\n",
       "166645    False\n",
       "Name: target, Length: 100637, dtype: bool"
      ]
     },
     "execution_count": 163,
     "metadata": {},
     "output_type": "execute_result"
    }
   ],
   "source": [
    "clf.predict(X_test_vectorized) != y_test"
   ]
  },
  {
   "cell_type": "code",
   "execution_count": 169,
   "metadata": {},
   "outputs": [
    {
     "data": {
      "text/plain": [
       "'cnn bernie sanders drops 2020 race heres means 2020 democratic senatorial campaign committee important notice bernie sanders drops presidential race historic news need know vote november official general election poll participant id 11107196voting live biden trump team joe biden officially democratic nominee take trump historic showdown future america selected top democratic supporter take part brand new general election poll counting response keep voting open 1159 pm tonight still need 74 responses maine dont wait cast vote vote november participant user id 11107196 email emailredacted general election choice verification needed bidentrump youve recently submitted response done different email address thank online records may date dont worry responses recorded photo gage skidmore cc bysa 20 dscc committee solely dedicated supporting democrats us senate work relies grassroots supporters like youd like make contribution support us please click click receive fewer emails click unsubscribe paid dscc po box 96047 washington dc 20090 url redacted authorized candidate candidate committee contributions gifts dscc tax deductible'"
      ]
     },
     "execution_count": 169,
     "metadata": {},
     "output_type": "execute_result"
    }
   ],
   "source": [
    "emails2['clean'].iloc[21569]"
   ]
  },
  {
   "cell_type": "code",
   "execution_count": 182,
   "metadata": {},
   "outputs": [
    {
     "data": {
      "text/plain": [
       "array([[6.86942382e-51, 1.00000000e+00],\n",
       "       [5.92410269e-04, 9.99407590e-01],\n",
       "       [4.59075619e-55, 1.00000000e+00],\n",
       "       ...,\n",
       "       [6.57753908e-25, 1.00000000e+00],\n",
       "       [2.17885146e-89, 1.00000000e+00],\n",
       "       [4.60193146e-40, 1.00000000e+00]])"
      ]
     },
     "execution_count": 182,
     "metadata": {},
     "output_type": "execute_result"
    }
   ],
   "source": [
    "clf.predict_proba(X_test_vectorized)"
   ]
  },
  {
   "cell_type": "markdown",
   "metadata": {},
   "source": [
    "# Decision Trees"
   ]
  },
  {
   "cell_type": "code",
   "execution_count": null,
   "metadata": {},
   "outputs": [],
   "source": []
  }
 ],
 "metadata": {
  "interpreter": {
   "hash": "c273e92b90d28d3e4b67f22c19062817ead2d21a5feee39ce00d5f6ffaa4685b"
  },
  "kernelspec": {
   "display_name": "Python 3.8.5 64-bit ('learn-env': conda)",
   "language": "python",
   "name": "python3"
  },
  "language_info": {
   "codemirror_mode": {
    "name": "ipython",
    "version": 3
   },
   "file_extension": ".py",
   "mimetype": "text/x-python",
   "name": "python",
   "nbconvert_exporter": "python",
   "pygments_lexer": "ipython3",
   "version": "3.8.5"
  },
  "orig_nbformat": 4
 },
 "nbformat": 4,
 "nbformat_minor": 2
}
