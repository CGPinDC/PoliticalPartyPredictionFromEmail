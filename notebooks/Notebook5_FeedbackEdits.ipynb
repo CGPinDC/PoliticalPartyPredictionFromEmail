{
 "cells": [
  {
   "cell_type": "markdown",
   "metadata": {},
   "source": [
    "# Political Email Classification\n",
    "Create a classification model using Natural Language Processing (NLP) and machine learning techniques to answer the question: Can a model predict the political ideology of a U.S. campaign or political organization from an email?\n"
   ]
  },
  {
   "cell_type": "markdown",
   "metadata": {},
   "source": [
    "# Project Objective\n",
    "One way political campaigns and organizations contact voters is through email. A model that predicts the political ideology (liberal-leaning or conservative-leaning) of an email can act as a tool for voters, political campaigns and organizations alike. \n",
    "\n",
    "Voters would benefit from this tool by gaining insight to the ideology of a political email they receive. This would be helpful in situations where a political organization, such as a PAC, or a political campaign do not clearly state their political agenda or party affiliation but are asking for financial contributions. \n",
    "\n",
    "Political campaigns and organizations would be able to use this tool as a part of their strategic planning for upcoming email campaigns. The model would allow campaigns and organizations to assess if the “tone” of their political-ideology is coming across, or target a specific type of voter. For example, if an organization's goal is to reach a particular type of voter they can assess if their email matches the recipient’s political ideology as a persuasion tactic. \n"
   ]
  },
  {
   "cell_type": "markdown",
   "metadata": {},
   "source": [
    "# Data\n",
    "This project relies on data from Princeton Corpus of Political Emails and OpenSecrets.org. Explanation of the data and their value to the project are explained below. \n",
    "\n",
    "### Princeton Political Email Corpus\n",
    "The Princeton Political Email Corpus contains 317,366 emails from over 3000 political campaigns and organizations in the 2020 election cycle in the US. Documentation for the corpus can be found [here](https://electionemails2020.org/assets/corpus_documentation_v1.0.pdf). This dataset is ideal for this classification problem as it contains a wide range of political emails. Emails from local, state-wide, and federal campaigns are found in the corpus along with political organizations with special interests.\n",
    "1. `corpus`: [emails from the 2020 campaign cycle](https://electionemails2020.org/assets/corpus_documentation_v1.0.pdf) \n",
    "\n",
    "### OpenSecrets.org\n",
    "OpenSecrets.org is a resource for campaign contributions and lobbying data. This data is necessary for this project in order to determine the political ideology of organizations who, unlike candidates, do not always have a declared party-affiliation. \n",
    "\n",
    "Data from OpenSecrets is imported in five tables:\n",
    "1. `cands20`: high-level information about candidates for office\n",
    "2. `cmtes20`: high-level information about organizaitons (such as PACs) \n",
    "3. `pacs`: records of contributions from organizations to candidates\n",
    "4. `pac_other20`: records of contributions from one organzation to another \n",
    "5. `views`: [outside spending by viewpoint](https://www.opensecrets.org/outsidespending/summ.php?cycle=2020&chrt=V&disp=O&type=A) establishes a liberal, conservative, or other viewpoint based on spending. \n",
    "\n",
    "# Imports"
   ]
  },
  {
   "cell_type": "code",
   "execution_count": 2,
   "metadata": {},
   "outputs": [],
   "source": [
    "#Standard Imports\n",
    "import pandas as pd\n",
    "import numpy as np\n",
    "pd.set_option('display.max_columns', None)\n",
    "\n",
    "#Visualizations\n",
    "import matplotlib.pyplot as plt\n",
    "import seaborn as sns\n",
    "from wordcloud import WordCloud\n",
    "\n",
    "#Data Cleaning \n",
    "import re\n",
    "import string\n",
    "from nltk.corpus import stopwords\n",
    "from nltk import FreqDist\n",
    "\n",
    "#modeling\n",
    "from sklearn.model_selection import train_test_split\n",
    "from sklearn.preprocessing import LabelEncoder\n",
    "from sklearn.pipeline import Pipeline\n",
    "from sklearn.pipeline import make_pipeline\n",
    "from sklearn.model_selection import GridSearchCV\n",
    "from sklearn.feature_extraction.text import CountVectorizer\n",
    "from sklearn.naive_bayes import MultinomialNB\n",
    "from sklearn.tree import DecisionTreeClassifier\n",
    "from sklearn import tree\n",
    "from graphviz import *\n",
    "from sklearn.linear_model import SGDClassifier\n",
    "\n",
    "#Evaluation Imports\n",
    "from sklearn.model_selection import cross_val_score\n",
    "from sklearn.metrics import accuracy_score, precision_score, recall_score, f1_score, \\\n",
    "                            cohen_kappa_score, plot_confusion_matrix\n",
    "\n",
    "#custom functions\n",
    "from util import *"
   ]
  },
  {
   "cell_type": "code",
   "execution_count": 5,
   "metadata": {},
   "outputs": [],
   "source": [
    "#emails\n",
    "corpus = pd.read_csv('../data/corpus_v1.0.csv', low_memory=False)"
   ]
  },
  {
   "cell_type": "code",
   "execution_count": 6,
   "metadata": {},
   "outputs": [
    {
     "data": {
      "text/html": [
       "<div>\n",
       "<style scoped>\n",
       "    .dataframe tbody tr th:only-of-type {\n",
       "        vertical-align: middle;\n",
       "    }\n",
       "\n",
       "    .dataframe tbody tr th {\n",
       "        vertical-align: top;\n",
       "    }\n",
       "\n",
       "    .dataframe thead th {\n",
       "        text-align: right;\n",
       "    }\n",
       "</style>\n",
       "<table border=\"1\" class=\"dataframe\">\n",
       "  <thead>\n",
       "    <tr style=\"text-align: right;\">\n",
       "      <th></th>\n",
       "      <th>from_name</th>\n",
       "      <th>from_address</th>\n",
       "      <th>subject</th>\n",
       "      <th>body_text</th>\n",
       "      <th>name</th>\n",
       "      <th>office_sought</th>\n",
       "      <th>party_affiliation</th>\n",
       "      <th>office_level</th>\n",
       "      <th>district_type</th>\n",
       "      <th>final_website</th>\n",
       "      <th>crawl_date</th>\n",
       "      <th>source</th>\n",
       "      <th>state</th>\n",
       "      <th>type</th>\n",
       "      <th>subtype</th>\n",
       "      <th>date</th>\n",
       "      <th>hour</th>\n",
       "      <th>day</th>\n",
       "      <th>uid_email</th>\n",
       "      <th>uid_inbox</th>\n",
       "      <th>incumbent</th>\n",
       "    </tr>\n",
       "  </thead>\n",
       "  <tbody>\n",
       "    <tr>\n",
       "      <th>0</th>\n",
       "      <td>Kathleen Williams</td>\n",
       "      <td>info@kathleenformontana.com</td>\n",
       "      <td>Welcome to the team!</td>\n",
       "      <td>Thanks for joining the team! My name is Kathle...</td>\n",
       "      <td>Kathleen Williams</td>\n",
       "      <td>U.S. House Montana At-large District</td>\n",
       "      <td>Democratic Party</td>\n",
       "      <td>Federal</td>\n",
       "      <td>Congress</td>\n",
       "      <td>https://kathleenformontana.com/</td>\n",
       "      <td>12-02-2019</td>\n",
       "      <td>ballotpedia-campaign</td>\n",
       "      <td>NaN</td>\n",
       "      <td>NaN</td>\n",
       "      <td>NaN</td>\n",
       "      <td>2019-12-05</td>\n",
       "      <td>19</td>\n",
       "      <td>Thu</td>\n",
       "      <td>7182e4e604717330ecaf2699be61b200</td>\n",
       "      <td>08f13962c5b2090e32c902552a4ff634</td>\n",
       "      <td>No</td>\n",
       "    </tr>\n",
       "    <tr>\n",
       "      <th>1</th>\n",
       "      <td>Goal Update -- via Team Kathleen</td>\n",
       "      <td>info@kathleenformontana.com</td>\n",
       "      <td>Quickly closing in</td>\n",
       "      <td>We’re just 5 days away from our June 30th FEC ...</td>\n",
       "      <td>Kathleen Williams</td>\n",
       "      <td>U.S. House Montana At-large District</td>\n",
       "      <td>Democratic Party</td>\n",
       "      <td>Federal</td>\n",
       "      <td>Congress</td>\n",
       "      <td>https://kathleenformontana.com/</td>\n",
       "      <td>12-02-2019</td>\n",
       "      <td>ballotpedia-campaign</td>\n",
       "      <td>NaN</td>\n",
       "      <td>NaN</td>\n",
       "      <td>NaN</td>\n",
       "      <td>2020-06-25</td>\n",
       "      <td>14</td>\n",
       "      <td>Thu</td>\n",
       "      <td>00768081c0a2487180314475ed1121d1</td>\n",
       "      <td>08f13962c5b2090e32c902552a4ff634</td>\n",
       "      <td>No</td>\n",
       "    </tr>\n",
       "    <tr>\n",
       "      <th>2</th>\n",
       "      <td>Kathleen Williams</td>\n",
       "      <td>info@kathleenformontana.com</td>\n",
       "      <td>Welcome to the team!</td>\n",
       "      <td>Thanks for joining the team! My name is Kathle...</td>\n",
       "      <td>Kathleen Williams</td>\n",
       "      <td>U.S. House Montana At-large District</td>\n",
       "      <td>Democratic Party</td>\n",
       "      <td>Federal</td>\n",
       "      <td>Congress</td>\n",
       "      <td>https://kathleenformontana.com/</td>\n",
       "      <td>12-02-2019</td>\n",
       "      <td>ballotpedia-campaign</td>\n",
       "      <td>NaN</td>\n",
       "      <td>NaN</td>\n",
       "      <td>NaN</td>\n",
       "      <td>2019-12-03</td>\n",
       "      <td>19</td>\n",
       "      <td>Tue</td>\n",
       "      <td>54f56022dcd037ccb583f65a5668a073</td>\n",
       "      <td>08f13962c5b2090e32c902552a4ff634</td>\n",
       "      <td>No</td>\n",
       "    </tr>\n",
       "    <tr>\n",
       "      <th>3</th>\n",
       "      <td>Kathleen Williams</td>\n",
       "      <td>teamwilliams@kathleenformontana.com</td>\n",
       "      <td>Remembering Dr. King</td>\n",
       "      <td>Today we remember and honor the legacy of Dr. ...</td>\n",
       "      <td>Kathleen Williams</td>\n",
       "      <td>U.S. House Montana At-large District</td>\n",
       "      <td>Democratic Party</td>\n",
       "      <td>Federal</td>\n",
       "      <td>Congress</td>\n",
       "      <td>https://kathleenformontana.com/</td>\n",
       "      <td>12-02-2019</td>\n",
       "      <td>ballotpedia-campaign</td>\n",
       "      <td>NaN</td>\n",
       "      <td>NaN</td>\n",
       "      <td>NaN</td>\n",
       "      <td>2020-01-20</td>\n",
       "      <td>12</td>\n",
       "      <td>Mon</td>\n",
       "      <td>ff3fc8ba9b209b771a73ef831a4117b5</td>\n",
       "      <td>08f13962c5b2090e32c902552a4ff634</td>\n",
       "      <td>No</td>\n",
       "    </tr>\n",
       "    <tr>\n",
       "      <th>4</th>\n",
       "      <td>Jeff Allen</td>\n",
       "      <td>teamwilliams@kathleenformontana.com</td>\n",
       "      <td>We need to close the gap fast</td>\n",
       "      <td>Here’s the truth,summer is the most difficult ...</td>\n",
       "      <td>Kathleen Williams</td>\n",
       "      <td>U.S. House Montana At-large District</td>\n",
       "      <td>Democratic Party</td>\n",
       "      <td>Federal</td>\n",
       "      <td>Congress</td>\n",
       "      <td>https://kathleenformontana.com/</td>\n",
       "      <td>12-02-2019</td>\n",
       "      <td>ballotpedia-campaign</td>\n",
       "      <td>NaN</td>\n",
       "      <td>NaN</td>\n",
       "      <td>NaN</td>\n",
       "      <td>2020-07-27</td>\n",
       "      <td>17</td>\n",
       "      <td>Mon</td>\n",
       "      <td>36e237928f238bf5fab8d5a5462d9a04</td>\n",
       "      <td>08f13962c5b2090e32c902552a4ff634</td>\n",
       "      <td>No</td>\n",
       "    </tr>\n",
       "  </tbody>\n",
       "</table>\n",
       "</div>"
      ],
      "text/plain": [
       "                          from_name                         from_address  \\\n",
       "0                 Kathleen Williams          info@kathleenformontana.com   \n",
       "1  Goal Update -- via Team Kathleen          info@kathleenformontana.com   \n",
       "2                 Kathleen Williams          info@kathleenformontana.com   \n",
       "3                 Kathleen Williams  teamwilliams@kathleenformontana.com   \n",
       "4                        Jeff Allen  teamwilliams@kathleenformontana.com   \n",
       "\n",
       "                         subject  \\\n",
       "0           Welcome to the team!   \n",
       "1             Quickly closing in   \n",
       "2           Welcome to the team!   \n",
       "3           Remembering Dr. King   \n",
       "4  We need to close the gap fast   \n",
       "\n",
       "                                           body_text               name  \\\n",
       "0  Thanks for joining the team! My name is Kathle...  Kathleen Williams   \n",
       "1  We’re just 5 days away from our June 30th FEC ...  Kathleen Williams   \n",
       "2  Thanks for joining the team! My name is Kathle...  Kathleen Williams   \n",
       "3  Today we remember and honor the legacy of Dr. ...  Kathleen Williams   \n",
       "4  Here’s the truth,summer is the most difficult ...  Kathleen Williams   \n",
       "\n",
       "                          office_sought party_affiliation office_level  \\\n",
       "0  U.S. House Montana At-large District  Democratic Party      Federal   \n",
       "1  U.S. House Montana At-large District  Democratic Party      Federal   \n",
       "2  U.S. House Montana At-large District  Democratic Party      Federal   \n",
       "3  U.S. House Montana At-large District  Democratic Party      Federal   \n",
       "4  U.S. House Montana At-large District  Democratic Party      Federal   \n",
       "\n",
       "  district_type                    final_website  crawl_date  \\\n",
       "0      Congress  https://kathleenformontana.com/  12-02-2019   \n",
       "1      Congress  https://kathleenformontana.com/  12-02-2019   \n",
       "2      Congress  https://kathleenformontana.com/  12-02-2019   \n",
       "3      Congress  https://kathleenformontana.com/  12-02-2019   \n",
       "4      Congress  https://kathleenformontana.com/  12-02-2019   \n",
       "\n",
       "                 source state type subtype        date  hour  day  \\\n",
       "0  ballotpedia-campaign   NaN  NaN     NaN  2019-12-05    19  Thu   \n",
       "1  ballotpedia-campaign   NaN  NaN     NaN  2020-06-25    14  Thu   \n",
       "2  ballotpedia-campaign   NaN  NaN     NaN  2019-12-03    19  Tue   \n",
       "3  ballotpedia-campaign   NaN  NaN     NaN  2020-01-20    12  Mon   \n",
       "4  ballotpedia-campaign   NaN  NaN     NaN  2020-07-27    17  Mon   \n",
       "\n",
       "                          uid_email                         uid_inbox  \\\n",
       "0  7182e4e604717330ecaf2699be61b200  08f13962c5b2090e32c902552a4ff634   \n",
       "1  00768081c0a2487180314475ed1121d1  08f13962c5b2090e32c902552a4ff634   \n",
       "2  54f56022dcd037ccb583f65a5668a073  08f13962c5b2090e32c902552a4ff634   \n",
       "3  ff3fc8ba9b209b771a73ef831a4117b5  08f13962c5b2090e32c902552a4ff634   \n",
       "4  36e237928f238bf5fab8d5a5462d9a04  08f13962c5b2090e32c902552a4ff634   \n",
       "\n",
       "  incumbent  \n",
       "0        No  \n",
       "1        No  \n",
       "2        No  \n",
       "3        No  \n",
       "4        No  "
      ]
     },
     "execution_count": 6,
     "metadata": {},
     "output_type": "execute_result"
    }
   ],
   "source": [
    "corpus.head()"
   ]
  },
  {
   "cell_type": "code",
   "execution_count": 7,
   "metadata": {},
   "outputs": [
    {
     "name": "stdout",
     "output_type": "stream",
     "text": [
      "<class 'pandas.core.frame.DataFrame'>\n",
      "RangeIndex: 317366 entries, 0 to 317365\n",
      "Data columns (total 21 columns):\n",
      " #   Column             Non-Null Count   Dtype \n",
      "---  ------             --------------   ----- \n",
      " 0   from_name          317364 non-null  object\n",
      " 1   from_address       317359 non-null  object\n",
      " 2   subject            317351 non-null  object\n",
      " 3   body_text          316790 non-null  object\n",
      " 4   name               317366 non-null  object\n",
      " 5   office_sought      198972 non-null  object\n",
      " 6   party_affiliation  220390 non-null  object\n",
      " 7   office_level       198972 non-null  object\n",
      " 8   district_type      198972 non-null  object\n",
      " 9   final_website      317366 non-null  object\n",
      " 10  crawl_date         317366 non-null  object\n",
      " 11  source             317366 non-null  object\n",
      " 12  state              11175 non-null   object\n",
      " 13  type               118394 non-null  object\n",
      " 14  subtype            67441 non-null   object\n",
      " 15  date               317366 non-null  object\n",
      " 16  hour               317366 non-null  int64 \n",
      " 17  day                317366 non-null  object\n",
      " 18  uid_email          317366 non-null  object\n",
      " 19  uid_inbox          317366 non-null  object\n",
      " 20  incumbent          188690 non-null  object\n",
      "dtypes: int64(1), object(20)\n",
      "memory usage: 50.8+ MB\n"
     ]
    }
   ],
   "source": [
    "corpus.info()"
   ]
  },
  {
   "cell_type": "markdown",
   "metadata": {},
   "source": [
    "# Establish Target\n",
    "`party_affiliation` will be used as the target variable to classify the political ideology of an email. 96,976 emails are not labeled with a `party_affiliation`. If an email originated from an organization the organization it was not assigned a `party_affiliation` and one will need to be established for it."
   ]
  },
  {
   "cell_type": "code",
   "execution_count": 8,
   "metadata": {},
   "outputs": [],
   "source": [
    "#create target column\n",
    "corpus['target'] = corpus['party_affiliation']"
   ]
  },
  {
   "cell_type": "code",
   "execution_count": 9,
   "metadata": {},
   "outputs": [
    {
     "data": {
      "text/plain": [
       "96976"
      ]
     },
     "execution_count": 9,
     "metadata": {},
     "output_type": "execute_result"
    }
   ],
   "source": [
    "#number of target nulls\n",
    "corpus['target'].isna().sum()"
   ]
  },
  {
   "cell_type": "code",
   "execution_count": 10,
   "metadata": {},
   "outputs": [
    {
     "data": {
      "text/plain": [
       "Democratic Party                              175234\n",
       "Republican Party                               42208\n",
       "Nonpartisan                                      653\n",
       "Independent                                      556\n",
       "Libertarian Party                                488\n",
       "Working Families Party                           465\n",
       "Green Party                                      381\n",
       "Serve America Movement Party                     203\n",
       "Maine Green Independent Party                     87\n",
       "Independence Party                                48\n",
       "United Utah Party                                 26\n",
       "Constitution Party                                23\n",
       "SAM Party of New York                              4\n",
       "None                                               4\n",
       "Alliance Party of South Carolina                   3\n",
       "Unaffiliated                                       2\n",
       "Democratic-Farmer-Labor Party of Minnesota         2\n",
       "Reform Party                                       1\n",
       "Unity Party                                        1\n",
       "Citizens' Party                                    1\n",
       "Name: target, dtype: int64"
      ]
     },
     "execution_count": 10,
     "metadata": {},
     "output_type": "execute_result"
    }
   ],
   "source": [
    "corpus['target'].value_counts()"
   ]
  },
  {
   "cell_type": "code",
   "execution_count": 11,
   "metadata": {},
   "outputs": [
    {
     "data": {
      "text/plain": [
       "ballotpedia-campaign    198972\n",
       "orgs                    118394\n",
       "Name: source, dtype: int64"
      ]
     },
     "execution_count": 11,
     "metadata": {},
     "output_type": "execute_result"
    }
   ],
   "source": [
    "#Sources: “ballotpedia-campaign” if the email was from a candidate running for office and “orgs” if the email was from an organization.\n",
    "corpus['source'].value_counts()"
   ]
  },
  {
   "cell_type": "markdown",
   "metadata": {},
   "source": [
    "118,394 emails in the corpus originate from organizations"
   ]
  },
  {
   "cell_type": "markdown",
   "metadata": {},
   "source": [
    "# Addressing Missing Target Variables\n",
    "Organizations Within the dataset are missing their target variable. The author of [this dissertation](https://repository.library.georgetown.edu/bitstream/handle/10822/1054947/Koch_georgetown_0076D_14174.pdf?sequence=1&isAllowed=y) was able to establish the political ideology (liberal or conservative) of political organzations using capaign finance records from OpenSecrets.org.  To address the missing target variables of the organizations in this dataset I will follow their methodology (pg. 19).\n",
    "\n",
    "After reading in the OpenSecerets.org data: \n",
    "1. Establish a key to best reference between the Princeton Email Corpus and OpenSecrets.org data\n",
    "2. Classify organization by `Party` given in OpenSecrets data\n",
    "3. Classify organization by `Views` of the [organization's independent expenditures](https://www.opensecrets.org/outsidespending/summ.php?cycle=2020&disp=O&type=A&chrt=V). \n",
    "4. Classifiy organizaion by their industry code. \n",
    "5. Classify organization by the party of the recipients of thier contributions. \n",
    "6. Classify organization through informed research.\n",
    "\n",
    "Steps 3-6 were established trough the methodology of the disscertation. "
   ]
  },
  {
   "cell_type": "markdown",
   "metadata": {},
   "source": [
    "### OpenSecrets.Org Data"
   ]
  },
  {
   "cell_type": "code",
   "execution_count": 12,
   "metadata": {},
   "outputs": [],
   "source": [
    "#Candidates - cands20 import (Candidate Information)\n",
    "cands20 = pd.read_csv('../data/cands20.txt', delimiter=\",\", quotechar=\"|\", header=None)\n",
    "cands20.columns = ['Cycle', 'FECCandID', 'CID', 'FirstLastP', 'Party', 'DistIDRunFor',\n",
    "                   'DistIDCurr', 'CurrCand', 'CycleCand','CRPICO', 'RecipCode', 'NoPacs']\n",
    "\n",
    "#FEC Committees - cmtes20 import (PACs and Candidate and Party Committees Information) \n",
    "cmtes20 = pd.read_csv('../data/cmtes20.txt', delimiter=\",\", quotechar=\"|\", header=None)\n",
    "cmtes20.columns = ['Cycle', 'CmteID', 'PACShort', 'Affiliate', 'Ultorg', 'RecipID', \n",
    "                   'RecipCode', 'FECCandID', 'Party', 'PrimCode', 'Source', 'Sensitive', 'Foreign', 'Active']\n",
    "\n",
    "#PAC - pacs20 import (Contributions from PACs to Canidates)\n",
    "pacs = pd.read_csv('../data/pacs20.txt', delimiter=\",\", quotechar=\"|\", header=None)\n",
    "pacs.columns = ['Cycle', 'FECRecNo', 'PACID', 'CID', 'Amount', 'Date', 'RealCode', 'Type', 'DI', 'FECCandID']\n",
    "\n",
    "#Other - pac_other20 import (Contribution from PACs to other PACs or other organizations)\n",
    "pac_other = pd.read_csv('../data/pac_other20.txt', delimiter=\",\", quotechar=\"|\", header=None, low_memory=False)\n",
    "pac_other.columns= ['Cycle', 'FECRecNo', 'Filerid', 'DonorCmte', 'ContribLendTrans', 'City', 'State', 'Zip',\n",
    "            'FECOccEMP', 'Primcode', 'Date', 'Amount', 'RecipID', 'Party', 'OtherID', 'RecipCode', 'RecipPrimcode', \n",
    "            'Amend', 'Report', 'PG', 'Microfilm', 'Type', 'RealCode', 'Source']\n",
    "\n",
    "#Views - OpenSecrets outsidespending by PAC with poltical view of PAC\n",
    "views = pd.read_csv('../data/OpenSecret_PAC.csv', encoding = \"ISO-8859-1\")"
   ]
  },
  {
   "cell_type": "code",
   "execution_count": 13,
   "metadata": {},
   "outputs": [],
   "source": [
    "#reformat lowercase letters and change blanks to NaN\n",
    "cmtes20['Party'] = cmtes20['Party'].replace({'r': 'R', 'd':'D', ' ': np.nan})\n",
    "\n",
    "#reformat lowercase letters and change blanks to NaN\n",
    "pac_other['Party'] = pac_other['Party'].replace({'r': 'R', 'd':'D', ' ': np.nan})"
   ]
  },
  {
   "cell_type": "code",
   "execution_count": 19,
   "metadata": {},
   "outputs": [],
   "source": [
    "\n",
    "\n",
    "def find_org_target(data, column):\n",
    "    '''\n",
    "    Finds organizations missing target variables. \n",
    "    Searches for organization within the named DataFrame and assigns \n",
    "    value from named column as target in the corpus Dataframe. \n",
    "    \n",
    "    Input: data = name of Dataframe\n",
    "           column = column to search in given DataFrame\n",
    "    \n",
    "    Output: target_variable_status()\n",
    "    '''\n",
    "    #find organizations missing target \n",
    "    orgs = [org for org in list(corpus['key'].loc[(corpus['source']=='orgs') \n",
    "                                & (corpus['target'].isna())].unique())]\n",
    "    \n",
    "    for org in orgs: \n",
    "        #determine if org appears\n",
    "        if org in list(data['key'].unique()):\n",
    "            #find org name in dataframe: \n",
    "            targ = data[column].loc[data['key']== org].values[0]\n",
    "\n",
    "            #assign the party to the target variable: \n",
    "            corpus.loc[(corpus['key'] == org), 'target'] = targ\n",
    "\n",
    "        else:\n",
    "            continue\n",
    "\n",
    "    return null_status()\n"
   ]
  },
  {
   "cell_type": "markdown",
   "metadata": {},
   "source": [
    "### Step 1: Create a `key` for the organization names\n",
    "* Use `name` from all the tables\n",
    "* Standardize `name` by removing all special characters, spaces, and all letters to lowercase"
   ]
  },
  {
   "cell_type": "code",
   "execution_count": 20,
   "metadata": {},
   "outputs": [],
   "source": [
    "corpus['key'] = corpus['name'].apply(lambda x: re.sub('\\W+','', x.lower()))\n",
    "\n",
    "cands20['key'] = cands20['FirstLastP'].apply(lambda x: re.sub('\\W+','', x[:-4].lower())) #also removes party from name\n",
    "\n",
    "cmtes20['key'] = cmtes20['PACShort'].apply(lambda x: re.sub('\\W+','', x.lower()))\n",
    "\n",
    "pac_other['key'] = pac_other['DonorCmte'].apply(lambda x: re.sub('\\W+','', str(x))).str.lower()\n",
    "\n",
    "views['key'] = views['Group'].apply(lambda x: re.sub('\\W+','', x.lower()))"
   ]
  },
  {
   "cell_type": "markdown",
   "metadata": {},
   "source": [
    "### Step 2: Classify organizaiton by `Party` in OpenSecrets `cmtes20` data"
   ]
  },
  {
   "cell_type": "code",
   "execution_count": 21,
   "metadata": {},
   "outputs": [
    {
     "ename": "NameError",
     "evalue": "name 'null_status' is not defined",
     "output_type": "error",
     "traceback": [
      "\u001b[1;31m---------------------------------------------------------------------------\u001b[0m",
      "\u001b[1;31mNameError\u001b[0m                                 Traceback (most recent call last)",
      "\u001b[1;32m<ipython-input-21-cee0f5b96285>\u001b[0m in \u001b[0;36m<module>\u001b[1;34m\u001b[0m\n\u001b[1;32m----> 1\u001b[1;33m \u001b[0mfind_org_target\u001b[0m\u001b[1;33m(\u001b[0m\u001b[0mcmtes20\u001b[0m\u001b[1;33m,\u001b[0m \u001b[1;34m'Party'\u001b[0m\u001b[1;33m)\u001b[0m\u001b[1;33m\u001b[0m\u001b[1;33m\u001b[0m\u001b[0m\n\u001b[0m",
      "\u001b[1;32m<ipython-input-19-221c956e8924>\u001b[0m in \u001b[0;36mfind_org_target\u001b[1;34m(data, column)\u001b[0m\n\u001b[0;32m     26\u001b[0m             \u001b[1;32mcontinue\u001b[0m\u001b[1;33m\u001b[0m\u001b[1;33m\u001b[0m\u001b[0m\n\u001b[0;32m     27\u001b[0m \u001b[1;33m\u001b[0m\u001b[0m\n\u001b[1;32m---> 28\u001b[1;33m     \u001b[1;32mreturn\u001b[0m \u001b[0mnull_status\u001b[0m\u001b[1;33m(\u001b[0m\u001b[1;33m)\u001b[0m\u001b[1;33m\u001b[0m\u001b[1;33m\u001b[0m\u001b[0m\n\u001b[0m",
      "\u001b[1;31mNameError\u001b[0m: name 'null_status' is not defined"
     ]
    }
   ],
   "source": [
    "find_org_target(cmtes20, 'Party')"
   ]
  },
  {
   "cell_type": "markdown",
   "metadata": {},
   "source": [
    "### Step 3: Classify organization by `Views` in OpenSecrets `views` data"
   ]
  },
  {
   "cell_type": "code",
   "execution_count": 14,
   "metadata": {},
   "outputs": [
    {
     "name": "stdout",
     "output_type": "stream",
     "text": [
      "Target Nulls:  33743\n",
      "Organizations without target: 177\n",
      "Percentage of nulls classified: 0.65204792938459\n"
     ]
    }
   ],
   "source": [
    "find_org_target(views, 'View')"
   ]
  },
  {
   "cell_type": "markdown",
   "metadata": {},
   "source": [
    "### Step 4: Classify organizations by industry codes\n",
    "* Organizations are assigned a code for their industry. [OpenSecrets explains the codes](https://www.opensecrets.org/resources/ftm/ch12p1.php) by \"The coding system is hierarchical. At the very highest level, there are five super-categories: Business, Labor, Ideological/Single-Issue, Other and Unknown. Below that top level there are 13 \"sectors,\" about 100 \"industries\" and in all, some 400 categories.\" For example, code J1200 is \"Democratic/Liberal\"\n",
    "* I will categorize by the political/partisan industry codes. "
   ]
  },
  {
   "cell_type": "code",
   "execution_count": 16,
   "metadata": {},
   "outputs": [],
   "source": [
    "#bring in table to interpret 'PrimCode' in cmtes20\n",
    "cat_codes = pd.read_csv('data/category_codes.csv')\n",
    "\n",
    "#Create a dictionary of 'PrimCode' and the interpretable name\n",
    "codes = list(cat_codes['Catcode']) \n",
    "cat_view = list(cat_codes['View'])\n",
    "cat_dict = dict(zip(codes, cat_view))\n",
    "\n",
    "def find_category_view(code):\n",
    "    '''\n",
    "    converts 'PrimCode' to interpretable category\n",
    "    '''\n",
    "    try: \n",
    "        category = cat_dict[code]\n",
    "        return category\n",
    "    except: \n",
    "        return np.NaN\n",
    "        \n",
    "#add category column along with category for each organization using the `PrimCode` \n",
    "cmtes20['category'] = cmtes20['PrimCode'].apply(lambda x: find_category_view(x))"
   ]
  },
  {
   "cell_type": "code",
   "execution_count": 17,
   "metadata": {},
   "outputs": [
    {
     "name": "stdout",
     "output_type": "stream",
     "text": [
      "Target Nulls:  19389\n",
      "Organizations without target: 99\n",
      "Percentage of nulls classified: 0.8000639333443326\n"
     ]
    }
   ],
   "source": [
    "find_org_target(cmtes20, 'category')"
   ]
  },
  {
   "cell_type": "markdown",
   "metadata": {},
   "source": [
    "### Step 5: Classify organizations by contributions\n",
    "Next I will search the organization's contributions to candidates, using the methodology described within the referenced research.\n",
    "\n",
    "In order to accomplish this I will: \n",
    "1. Combine the pacs data frame of contributions with the cand20 data frame which contains the candidate's party\n",
    "2. Iterate through the organizations without targets and locate their contributions within the dataframe\n",
    "3. Calculate the rate of donation by party\n",
    "4. Assign the target variable to the party that recieved the greatest rate of contributions"
   ]
  },
  {
   "cell_type": "code",
   "execution_count": 18,
   "metadata": {},
   "outputs": [
    {
     "data": {
      "text/html": [
       "<div>\n",
       "<style scoped>\n",
       "    .dataframe tbody tr th:only-of-type {\n",
       "        vertical-align: middle;\n",
       "    }\n",
       "\n",
       "    .dataframe tbody tr th {\n",
       "        vertical-align: top;\n",
       "    }\n",
       "\n",
       "    .dataframe thead th {\n",
       "        text-align: right;\n",
       "    }\n",
       "</style>\n",
       "<table border=\"1\" class=\"dataframe\">\n",
       "  <thead>\n",
       "    <tr style=\"text-align: right;\">\n",
       "      <th></th>\n",
       "      <th>Cycle</th>\n",
       "      <th>FECRecNo</th>\n",
       "      <th>PACID</th>\n",
       "      <th>CID</th>\n",
       "      <th>Amount</th>\n",
       "      <th>Date</th>\n",
       "      <th>RealCode</th>\n",
       "      <th>Type</th>\n",
       "      <th>DI</th>\n",
       "      <th>FECCandID</th>\n",
       "      <th>Cycle_cand</th>\n",
       "      <th>FECCandID_cand</th>\n",
       "      <th>FirstLastP</th>\n",
       "      <th>Party</th>\n",
       "      <th>DistIDRunFor</th>\n",
       "      <th>DistIDCurr</th>\n",
       "      <th>CurrCand</th>\n",
       "      <th>CycleCand</th>\n",
       "      <th>CRPICO</th>\n",
       "      <th>RecipCode</th>\n",
       "      <th>NoPacs</th>\n",
       "      <th>key</th>\n",
       "    </tr>\n",
       "  </thead>\n",
       "  <tbody>\n",
       "    <tr>\n",
       "      <th>0</th>\n",
       "      <td>2020</td>\n",
       "      <td>1011020200194684263</td>\n",
       "      <td>C00429241</td>\n",
       "      <td>N00033395</td>\n",
       "      <td>250</td>\n",
       "      <td>08/19/2019</td>\n",
       "      <td>H5100</td>\n",
       "      <td>24K</td>\n",
       "      <td>D</td>\n",
       "      <td>H2MI05119</td>\n",
       "      <td>2020</td>\n",
       "      <td>H2MI05119</td>\n",
       "      <td>Dan Kildee (D)</td>\n",
       "      <td>D</td>\n",
       "      <td>MI05</td>\n",
       "      <td>MI05</td>\n",
       "      <td>Y</td>\n",
       "      <td>Y</td>\n",
       "      <td>I</td>\n",
       "      <td>DW</td>\n",
       "      <td></td>\n",
       "      <td>dankildee</td>\n",
       "    </tr>\n",
       "    <tr>\n",
       "      <th>77</th>\n",
       "      <td>2020</td>\n",
       "      <td>1103120190194676681</td>\n",
       "      <td>C00429241</td>\n",
       "      <td>N00033395</td>\n",
       "      <td>100</td>\n",
       "      <td>03/25/2019</td>\n",
       "      <td>H5100</td>\n",
       "      <td>24K</td>\n",
       "      <td>D</td>\n",
       "      <td>H2MI05119</td>\n",
       "      <td>2020</td>\n",
       "      <td>H2MI05119</td>\n",
       "      <td>Dan Kildee (D)</td>\n",
       "      <td>D</td>\n",
       "      <td>MI05</td>\n",
       "      <td>MI05</td>\n",
       "      <td>Y</td>\n",
       "      <td>Y</td>\n",
       "      <td>I</td>\n",
       "      <td>DW</td>\n",
       "      <td></td>\n",
       "      <td>dankildee</td>\n",
       "    </tr>\n",
       "  </tbody>\n",
       "</table>\n",
       "</div>"
      ],
      "text/plain": [
       "    Cycle             FECRecNo      PACID        CID  Amount        Date  \\\n",
       "0    2020  1011020200194684263  C00429241  N00033395     250  08/19/2019   \n",
       "77   2020  1103120190194676681  C00429241  N00033395     100  03/25/2019   \n",
       "\n",
       "   RealCode Type DI  FECCandID  Cycle_cand FECCandID_cand      FirstLastP  \\\n",
       "0     H5100  24K  D  H2MI05119        2020      H2MI05119  Dan Kildee (D)   \n",
       "77    H5100  24K  D  H2MI05119        2020      H2MI05119  Dan Kildee (D)   \n",
       "\n",
       "   Party DistIDRunFor DistIDCurr CurrCand CycleCand CRPICO RecipCode NoPacs  \\\n",
       "0      D         MI05       MI05        Y         Y      I        DW          \n",
       "77     D         MI05       MI05        Y         Y      I        DW          \n",
       "\n",
       "          key  \n",
       "0   dankildee  \n",
       "77  dankildee  "
      ]
     },
     "execution_count": 18,
     "metadata": {},
     "output_type": "execute_result"
    }
   ],
   "source": [
    "contributions = pacs.join(cands20.set_index('CID'), on='CID', how='inner', rsuffix='_cand')\n",
    "contributions.head(2)"
   ]
  },
  {
   "cell_type": "code",
   "execution_count": 19,
   "metadata": {},
   "outputs": [],
   "source": [
    "#orgs that still need target\n",
    "orgs = [org for org in list(corpus['key'].loc[(corpus['source']=='orgs') & (corpus['target'].isna())].unique())]\n",
    "\n",
    "#Finds party affiliation of the candidates that an organization has contributed to. \n",
    "for org in orgs:\n",
    "    \n",
    "    if org in list(cmtes20['key'].unique()):\n",
    "\n",
    "        #locate name in cmtes20 and find unique PACID\n",
    "        pacid = cmtes20['CmteID'].loc[cmtes20['key'] == org].values[0]\n",
    "        \n",
    "        #locate all donations from PACID and and find rate of donations by party\n",
    "        find_party = contributions['Party'].loc[contributions['PACID'] == pacid].value_counts(normalize=True)\n",
    "                \n",
    "        #calculate the target variable >65% assigned to same political party, <65% categorized as nonpartisan\n",
    "        if len(find_party != 0):\n",
    "            if find_party[0] > 0.65:\n",
    "                corpus.loc[(corpus['key']== org), 'target'] = find_party.index[0]\n",
    "                \n",
    "            else:\n",
    "                corpus.loc[(corpus['key']== org), 'target'] = 'Nonpartisan*'"
   ]
  },
  {
   "cell_type": "code",
   "execution_count": 20,
   "metadata": {},
   "outputs": [
    {
     "name": "stdout",
     "output_type": "stream",
     "text": [
      "Target Nulls:  7734\n",
      "Organizations without target: 64\n",
      "Percentage of nulls classified: 0.9202483088599241\n"
     ]
    }
   ],
   "source": [
    "target_variable_status()"
   ]
  },
  {
   "cell_type": "markdown",
   "metadata": {},
   "source": [
    "I have reduced the number of nulls from 96976 to 7734, classifying 92% of the nulls. There are 64 organizations without an affiliation. Following the methodolgy of the research paper, I will do a manual check of the final organizations to find their affiliation.\n",
    "\n",
    "### Step 6: Categorize remaining organizaitons through informed research\n",
    "It is possible for there to be discrepancies between organzation names in the Princetion Email Corpus and OpenSecrets.For example, if an organization was misspelled. If an organization did not contribute to candidates or, did not have an FEC commitee ID number it would be missed by the previous steps. To capture the political affiliation of the final organzations I will conduct research trough OpenSecrets.org and manually assign a target variable."
   ]
  },
  {
   "cell_type": "code",
   "execution_count": 21,
   "metadata": {},
   "outputs": [
    {
     "data": {
      "text/plain": [
       "Let America Vote Victory Fund       4959\n",
       "Catholicvote.Org Candidate Fund      353\n",
       "The Action PAC                       297\n",
       "Campaign For American Principles     234\n",
       "Blue Future                          220\n",
       "                                    ... \n",
       "Black Conservatives Fund               1\n",
       "save our senate llc                    1\n",
       "American Sovereignty PAC               1\n",
       "CAUSES TO BELIEVE IN                   1\n",
       "Students for Trump                     1\n",
       "Name: name, Length: 66, dtype: int64"
      ]
     },
     "execution_count": 21,
     "metadata": {},
     "output_type": "execute_result"
    }
   ],
   "source": [
    "corpus['name'].loc[corpus['target'].isna()].value_counts()"
   ]
  },
  {
   "cell_type": "code",
   "execution_count": 22,
   "metadata": {},
   "outputs": [],
   "source": [
    "#Let America Vote Victory Fund: https://www.opensecrets.org/outsidespending/detail.php?cycle=2020&cmte=C00647529\n",
    "corpus.loc[corpus['name']=='Let America Vote Victory Fund', 'target'] = 'Democratic/Liberal'\n",
    "\n",
    "#Catholicvote.org: (https://www.opensecrets.org/outsidespending/detail.php?cmte=C00494021&cycle=2020)\n",
    "corpus.loc[corpus['name']=='Catholicvote.Org Candidate Fund', 'target'] = 'Republican/Conservative'\n",
    "\n",
    "#The Action PAC: https://www.opensecrets.org/outsidespending/detail.php?cycle=2020&cmte=C00569996\n",
    "corpus.loc[corpus['name']=='The Action PAC', 'target'] = 'Republican/Conservative'\n",
    "\n",
    "#American Principles: https://www.opensecrets.org/outsidespending/detail.php?cmte=C00544387&cycle=2020\n",
    "corpus.loc[corpus['name']=='Campaign For American Principles', 'target'] = 'Republican/Conservative'\n",
    "\n",
    "#BlueFuture: https://www.opensecrets.org/outsidespending/detail.php?cmte=C00659409&cycle=2020 \n",
    "corpus.loc[corpus['name']=='Blue Future', 'target'] = 'Democratic/Liberal'\n",
    "\n",
    "#Higer Heights: https://www.opensecrets.org/outsidespending/detail.php?cmte=C00688200&cycle=2020 \n",
    "corpus.loc[corpus['name']=='Higher Hieghts Political Fund', 'target'] = 'Democratic/Liberal'\n",
    "\n",
    "#Colition for a Prosp: https://www.opensecrets.org/federal-lobbying/industries/summary?cycle=2020&id=N00 \n",
    "corpus.loc[corpus['name']=='Coalition For A Prosperous America', 'target'] = 'Nonpartisan'\n",
    "\n",
    "#JDCA PAC: https://www.opensecrets.org/outsidespending/detail.php?cmte=C00684969&cycle=2020\n",
    "corpus.loc[corpus['name']=='Jdca PAC', 'target'] = 'Democratic/Liberal'\n",
    "\n",
    "#Boundary Waters PAC: $0 https://www.opensecrets.org/outsidespending/detail.php?cmte=C00689406&cycle=2020\n",
    "corpus.loc[corpus['name']=='Coalition For A Prosperous America', 'target'] = 'Nonpartisan'\n",
    "\n",
    "#Common Purpose PAC: https://www.opensecrets.org/outsidespending/detail.php?cycle=2020&cmte=C00682211\n",
    "corpus.loc[corpus['name']=='Common Purpose PAC', 'target'] = 'Democratic/Liberal'\n",
    "\n",
    "#Personal PAC: unclear - mostly used by different donors as their \"personal\" PAC.\n",
    "\n",
    "#Common Purpose PAC: https://www.opensecrets.org/political-action-committees-pacs/courage-campaign-super-pac/C00523498/independent-expenditures/2014\n",
    "corpus.loc[corpus['name']=='Courage Campaign Super PAC', 'target'] = 'Democratic/Liberal'\n",
    "\n",
    "#Clearpath Action: https://www.opensecrets.org/outsidespending/detail.php?cycle=2020&cmte=C00608943\n",
    "corpus.loc[corpus['name']=='Clearpath Action, Inc', 'target'] = 'Republican/Conservative'\n",
    "\n",
    "#Run Woemn Run: https://www.opensecrets.org/donor-lookup/results?cand=planned+parenthood&order=desc&page=7&sort=D\n",
    "corpus.loc[corpus['name']=='Run Women Run', 'target'] = 'Democratic/Liberal'\n",
    "\n",
    "#Monroe County For Bernie Sanders: https://www.opensecrets.org/search?q=monroe+county+for+bernie+sanders\n",
    "corpus.loc[corpus['name']=='monroe county for bernie sanders', 'target'] = 'Democratic/Liberal'\n",
    "\n",
    "#Patriot Voices PAC: https://www.opensecrets.org/political-action-committees-pacs/patriot-voices-pac/C00528307/summary/2020\n",
    "corpus.loc[corpus['name']=='Patriot Voices PAC', 'target'] = 'Republican/Conservative'"
   ]
  },
  {
   "cell_type": "code",
   "execution_count": 23,
   "metadata": {},
   "outputs": [
    {
     "name": "stdout",
     "output_type": "stream",
     "text": [
      "Target Nulls:  865\n",
      "Organizations without target: 50\n",
      "Percentage of nulls classified: 0.9910802672826267\n"
     ]
    }
   ],
   "source": [
    "target_variable_status()"
   ]
  },
  {
   "cell_type": "markdown",
   "metadata": {},
   "source": [
    "### Step 7: Evaluate Target and Drop Nulls\n",
    "99% of the null values were classified from the steps above. I will drop the remaining nulls from the dataset. "
   ]
  },
  {
   "cell_type": "code",
   "execution_count": 24,
   "metadata": {},
   "outputs": [],
   "source": [
    "corpus.dropna(subset=['target'], inplace=True)"
   ]
  },
  {
   "cell_type": "markdown",
   "metadata": {},
   "source": [
    "### Step 8: Political Ideology Categories\n",
    "Now that each email has an established target, the target will be described in terms of politial ideology as 'liberal', 'center', or 'conservative' views. To correctly classify the categories I used the following sources to establish the categories: \n",
    "* [Third Parties in the United States](https://en.wikipedia.org/wiki/Third_party_(United_States)#Smaller_parties_by_ideology)\n",
    "* [List of Political Parties in the United States with ideology](https://en.wikipedia.org/wiki/List_of_political_parties_in_the_United_States)"
   ]
  },
  {
   "cell_type": "code",
   "execution_count": 25,
   "metadata": {},
   "outputs": [
    {
     "data": {
      "text/plain": [
       "Democratic Party                              175234\n",
       "Republican Party                               42208\n",
       "L                                              26997\n",
       "D                                              25136\n",
       "C                                              20987\n",
       "Democratic/Liberal                             19373\n",
       "Republican/Conservative                         1700\n",
       "R                                               1409\n",
       "Nonpartisan                                      802\n",
       "Independent                                      556\n",
       "Libertarian Party                                488\n",
       "Working Families Party                           465\n",
       "Green Party                                      381\n",
       "Nonpartisan*                                     211\n",
       "Serve America Movement Party                     203\n",
       "X                                                148\n",
       "Maine Green Independent Party                     87\n",
       "Independence Party                                48\n",
       "United Utah Party                                 26\n",
       "Constitution Party                                23\n",
       "SAM Party of New York                              4\n",
       "None                                               4\n",
       "Alliance Party of South Carolina                   3\n",
       "Democratic-Farmer-Labor Party of Minnesota         2\n",
       "Unaffiliated                                       2\n",
       "Third-Party                                        1\n",
       "Reform Party                                       1\n",
       "Unity Party                                        1\n",
       "Citizens' Party                                    1\n",
       "Name: target, dtype: int64"
      ]
     },
     "execution_count": 25,
     "metadata": {},
     "output_type": "execute_result"
    }
   ],
   "source": [
    "corpus['target'].value_counts()"
   ]
  },
  {
   "cell_type": "code",
   "execution_count": 26,
   "metadata": {},
   "outputs": [],
   "source": [
    "target_dict = {}\n",
    "\n",
    "target_dict['Liberal-Leaning'] = ['Democratic Party','L', 'D', 'Democratic/Liberal',  'Working Families Party', 'Green Party', 'Maine Green Independent Party', 'Democratic-Farmer-Labor Party of Minnesota', 'Citizens\\' Party']\n",
    "target_dict['Center'] = ['Nonpartisan', 'Independent', 'Nonpartisan*', 'X', 'Independence Party', 'Serve America Movement Party', 'United Utah Party', 'SAM Party of New York', 'None', 'Alliance Party of South Carolina', 'Unaffiliated','Third-Party', 'Unity Party', 'Reform Party']\n",
    "target_dict['Conservative-Leaning'] = ['Republican Party', 'C', 'Republican/Conservative', 'R', 'Libertarian Party', 'Constitution Party']"
   ]
  },
  {
   "cell_type": "code",
   "execution_count": 27,
   "metadata": {},
   "outputs": [],
   "source": [
    "def categorize_target(target): \n",
    "    '''\n",
    "    Input current target, return political idology category.\n",
    "    '''\n",
    "    if target in target_dict['Liberal-Leaning']: \n",
    "        return 'Liberal'\n",
    "    elif target in target_dict['Center']:\n",
    "        return 'Center'\n",
    "    elif target in target_dict['Conservative-Leaning']:\n",
    "        return 'Conservative'\n",
    "\n",
    "corpus['target'] = corpus['target'].apply(lambda x: categorize_target(x))"
   ]
  },
  {
   "cell_type": "markdown",
   "metadata": {},
   "source": [
    "# Target EDA\n",
    "\n",
    "What is the distribution of the target? "
   ]
  },
  {
   "cell_type": "code",
   "execution_count": 28,
   "metadata": {},
   "outputs": [
    {
     "data": {
      "text/plain": [
       "Liberal         0.782544\n",
       "Conservative    0.211105\n",
       "Center          0.006351\n",
       "Name: target, dtype: float64"
      ]
     },
     "execution_count": 28,
     "metadata": {},
     "output_type": "execute_result"
    }
   ],
   "source": [
    "corpus['target'].value_counts(normalize=True)"
   ]
  },
  {
   "cell_type": "code",
   "execution_count": 29,
   "metadata": {},
   "outputs": [
    {
     "data": {
      "image/png": "[encoded data removed]",
      "text/plain": [
       "<Figure size 432x288 with 1 Axes>"
      ]
     },
     "metadata": {
      "needs_background": "light"
     },
     "output_type": "display_data"
    }
   ],
   "source": [
    "corpus['target'].value_counts().plot(kind='bar', title='Frequency of Target in Corpus');"
   ]
  },
  {
   "cell_type": "markdown",
   "metadata": {},
   "source": [
    "There is quite an imbalance in the target within the Princeton Corpus of Poltiical Emails. Liberal viewpoints are represented almost 4 times more than conservative viewpoints and over 100 times more than 'center' viewpoints. \n",
    "\n",
    "How are the number of campaigns and organzations represented within each viewpoint? "
   ]
  },
  {
   "cell_type": "code",
   "execution_count": 30,
   "metadata": {},
   "outputs": [
    {
     "data": {
      "image/png": "[encoded data removed]",
      "text/plain": [
       "<Figure size 432x288 with 1 Axes>"
      ]
     },
     "metadata": {
      "needs_background": "light"
     },
     "output_type": "display_data"
    }
   ],
   "source": [
    "corpus.groupby('source').target.value_counts().unstack(0).plot.barh();"
   ]
  },
  {
   "cell_type": "markdown",
   "metadata": {},
   "source": [
    "Within the liberal viewpoint more emails originate from campains than organziations. In the conservative viewpoint there is a balance between campains and organizations. "
   ]
  },
  {
   "cell_type": "code",
   "execution_count": 31,
   "metadata": {},
   "outputs": [
    {
     "data": {
      "image/png": "[encoded data removed]",
      "text/plain": [
       "<Figure size 432x288 with 1 Axes>"
      ]
     },
     "metadata": {
      "needs_background": "light"
     },
     "output_type": "display_data"
    }
   ],
   "source": [
    "corpus.groupby('office_level').target.value_counts().unstack(0).plot.bar();"
   ]
  },
  {
   "cell_type": "code",
   "execution_count": 32,
   "metadata": {},
   "outputs": [
    {
     "data": {
      "text/plain": [
       "President of the United States     8831\n",
       "U.S. House New York District 18    7988\n",
       "U.S. House Illinois District 3     6042\n",
       "U.S. House Texas District 2        5935\n",
       "U.S. House Oregon District 4       4905\n",
       "Name: office_sought, dtype: int64"
      ]
     },
     "execution_count": 32,
     "metadata": {},
     "output_type": "execute_result"
    }
   ],
   "source": [
    "#Which elections for office sent the most email? \n",
    "corpus['office_sought'].value_counts()[:5]"
   ]
  },
  {
   "cell_type": "markdown",
   "metadata": {},
   "source": [
    "Most emails were sent from campaigns for President of the United States. In 2020 the Democratic Party's presidential primaries had the [largest field of presidential candidates since 1972](https://en.wikipedia.org/wiki/2020_Democratic_Party_presidential_primaries). Therefore, most emails in the corpus were from Presidential Campaigns, where most of the candidates contained liberal viewpoints. This also accounts for the large number of liberal views among emails seeking federal office. \n",
    "\n",
    "Who sent the most email overall? "
   ]
  },
  {
   "cell_type": "code",
   "execution_count": 33,
   "metadata": {},
   "outputs": [
    {
     "data": {
      "image/png": "[encoded data removed]",
      "text/plain": [
       "<Figure size 432x288 with 1 Axes>"
      ]
     },
     "metadata": {
      "needs_background": "light"
     },
     "output_type": "display_data"
    }
   ],
   "source": [
    "plt.bar(corpus['name'].value_counts().index[:10], corpus['name'].value_counts()[:10])\n",
    "plt.xticks(rotation=85)\n",
    "plt.show();"
   ]
  },
  {
   "cell_type": "code",
   "execution_count": 34,
   "metadata": {},
   "outputs": [],
   "source": [
    "#create dataframe by viewpoint\n",
    "liberal = corpus.loc[corpus['target']=='Liberal']\n",
    "conservative = corpus.loc[corpus['target']=='Conservative']\n",
    "center = corpus.loc[corpus['target']=='Center']"
   ]
  },
  {
   "cell_type": "code",
   "execution_count": 35,
   "metadata": {},
   "outputs": [
    {
     "data": {
      "image/png": "[encoded data removed]",
      "text/plain": [
       "<Figure size 432x288 with 1 Axes>"
      ]
     },
     "metadata": {
      "needs_background": "light"
     },
     "output_type": "display_data"
    }
   ],
   "source": [
    "#liberal viewpoints most emails\n",
    "plt.bar(liberal['name'].value_counts().index[:10], liberal['name'].value_counts()[:10])\n",
    "plt.xticks(rotation=85)\n",
    "plt.show();"
   ]
  },
  {
   "cell_type": "code",
   "execution_count": 36,
   "metadata": {},
   "outputs": [
    {
     "data": {
      "image/png": "[encoded data removed]",
      "text/plain": [
       "<Figure size 432x288 with 1 Axes>"
      ]
     },
     "metadata": {
      "needs_background": "light"
     },
     "output_type": "display_data"
    }
   ],
   "source": [
    "#conservative viewpoints most emails\n",
    "plt.bar(conservative['name'].value_counts().index[:10], conservative['name'].value_counts()[:10])\n",
    "plt.xticks(rotation=85)\n",
    "plt.show();"
   ]
  },
  {
   "cell_type": "code",
   "execution_count": 37,
   "metadata": {},
   "outputs": [
    {
     "data": {
      "text/plain": [
       "Tea Party PAC                    0.219262\n",
       "Alek Skarlatos                   0.070044\n",
       "Great America PAC                0.043478\n",
       "Donald Trump                     0.033466\n",
       "Republican National Committee    0.029933\n",
       "Name: name, dtype: float64"
      ]
     },
     "execution_count": 37,
     "metadata": {},
     "output_type": "execute_result"
    }
   ],
   "source": [
    "conservative['name'].value_counts(normalize=True)[:5]"
   ]
  },
  {
   "cell_type": "markdown",
   "metadata": {},
   "source": [
    "Emails from Tea Party PAC contitutes approximately 22% of all emails from the 'conservative' viewpoint.\n",
    "\n",
    "# Data Cleaning & Preprocessing\n",
    "\n",
    "Preprocessing steps:\n",
    "1. Remove all non-word characters, such as punctuation and numbers\n",
    "2. Tokenize by whitespace, creating a 'tokens' column\n",
    "3. Remove stopwords and stray single letters from tokens\n",
    "4. Rejoin words as string for future vectorizing steps"
   ]
  },
  {
   "cell_type": "code",
   "execution_count": 38,
   "metadata": {},
   "outputs": [],
   "source": [
    "#create text column\n",
    "corpus['text'] = corpus['subject'] + \" \" + corpus['body_text'] \n",
    "\n",
    "#create dataframe of relevant columns for preprocessing\n",
    "emails = corpus[['text', 'target']].copy()"
   ]
  },
  {
   "cell_type": "code",
   "execution_count": 39,
   "metadata": {},
   "outputs": [
    {
     "data": {
      "text/plain": [
       "'We need to close the gap fast Here’s the truth,summer is the most difficult fundraising season for any campaign, even though it’s\\nKathleen Williams for Congress\\nPlease be safe and follow CDC guidance during the coronavirus outbreak. As our country works through this difficult time, please join me in reaching out to those in need or who are feeling isolated - we are all in this together.\\nHere’s the'"
      ]
     },
     "execution_count": 39,
     "metadata": {},
     "output_type": "execute_result"
    }
   ],
   "source": [
    "#sample text before: \n",
    "emails['text'].iloc[4][:400]"
   ]
  },
  {
   "cell_type": "code",
   "execution_count": null,
   "metadata": {},
   "outputs": [],
   "source": [
    "#generate stopwords\n",
    "stop_words = stopwords.words('english') + list(string.ascii_lowercase)\n",
    "\n",
    "#use regex to remove all non-word characters\n",
    "emails['clean2'] = emails['text'].apply(lambda x: re.sub(r'([\\W\\d_])+', ' ', str(x).lower()))\n",
    "\n",
    "#create tokens and remove stopwords\n",
    "emails['tokens'] = emails['clean2'].apply(lambda x: [word for word in x.split() if word not in stop_words])\n",
    "\n",
    "#join tokens together for vectors\n",
    "emails['clean2'] = emails['tokens'].apply(lambda x: ' '.join(x))"
   ]
  },
  {
   "cell_type": "code",
   "execution_count": null,
   "metadata": {},
   "outputs": [],
   "source": [
    "#sample text after\n",
    "emails['clean2'].iloc[4][:400]"
   ]
  },
  {
   "cell_type": "markdown",
   "metadata": {},
   "source": [
    "# Text Features EDA\n",
    "## Length of Emails\n",
    "I will explore the lengths of the email by target. Do different parties send longer/shorter emails than other parties? "
   ]
  },
  {
   "cell_type": "code",
   "execution_count": null,
   "metadata": {},
   "outputs": [],
   "source": [
    "#length before processing\n",
    "emails['text_length'] = emails['text'].apply(lambda x: len(str(x)))\n",
    "\n",
    "#length after processing\n",
    "emails['clean_length'] = emails['clean2'].apply(lambda x: len(str(x)))"
   ]
  },
  {
   "cell_type": "code",
   "execution_count": null,
   "metadata": {},
   "outputs": [],
   "source": [
    "fig, ax = plt.subplots(1,2, figsize=(15,5))\n",
    "\n",
    "sns.boxplot(data=emails[['target', 'text_length']],\n",
    "            x='target',\n",
    "            y='text_length',\n",
    "            whis=25, \n",
    "            ax=ax[0]).set(title = 'Length of email by party', ylabel='Number of characters');\n",
    "\n",
    "sns.boxplot(data=emails[['target', 'text_length']],\n",
    "            x='target',\n",
    "            y='text_length',\n",
    "            showfliers=False, \n",
    "            ax=ax[1]).set(title = 'Length of email by party: without outliers', ylabel='Number of characters');\n",
    "\n",
    "print(emails.groupby('target')['text_length'].describe().T)"
   ]
  },
  {
   "cell_type": "code",
   "execution_count": null,
   "metadata": {},
   "outputs": [],
   "source": [
    "fig, ax = plt.subplots(1,2, figsize=(15,5))\n",
    "\n",
    "sns.boxplot(data=emails[['target', 'clean_length']],\n",
    "            x='target',\n",
    "            y='clean_length',\n",
    "            whis=25, \n",
    "            ax=ax[0]).set(title = 'Length of cleaned email by party', ylabel='Number of characters');\n",
    "\n",
    "sns.boxplot(data=emails[['target', 'clean_length']],\n",
    "            x='target',\n",
    "            y='clean_length',\n",
    "            showfliers=False, \n",
    "            ax=ax[1]).set(title = 'Length of cleaned email by party: without outliers', ylabel='Number of characters');\n",
    "\n",
    "print(emails.groupby('target')['clean_length'].describe().T)"
   ]
  },
  {
   "cell_type": "markdown",
   "metadata": {},
   "source": [
    "On average conservative emails are shorter than Liberal and Center/Nonpartisan emails. Liberal emails tend to be longer and contain more outliers as a group than the other two groups. The median lengths of emails are very similar between Center and Conservative parties, whereas the median length is approximately 200 characters longer in Liberal emails. "
   ]
  },
  {
   "cell_type": "markdown",
   "metadata": {},
   "source": [
    "## Words in Emails\n",
    "I will explore what words appear in the corpus and within each of the target variables by finding the Frequency Distribution of all tokens and visualizing the frequency of words through bar graphs and wordclouds. \n",
    "\n",
    "### Vocabulary of Corpus"
   ]
  },
  {
   "cell_type": "code",
   "execution_count": null,
   "metadata": {},
   "outputs": [],
   "source": [
    "#Explode tokens column to get all vocab in corpus\n",
    "vocabulary = emails['tokens'].explode()\n",
    "\n",
    "#Get frequency of vocab's appearance in corpus\n",
    "freq_dist_vocab = FreqDist(vocabulary)"
   ]
  },
  {
   "cell_type": "code",
   "execution_count": null,
   "metadata": {},
   "outputs": [],
   "source": [
    "def vocabulary_frequency(freq_dist, number, title): \n",
    "    '''\n",
    "    Inputs: \n",
    "    * freq_dist= Frequency distribution of vocabulary in corpus\n",
    "    * number = number, as integer, of the top number of vocabulary to retrun\n",
    "    * title = title, as string, of the graph\n",
    "\n",
    "    Returns: \n",
    "    * List and graph of top vocabulary in corpus\n",
    "    '''\n",
    "    # get tokens and frequency counts from freq_dist\n",
    "    top = list(zip(*freq_dist.most_common(number)))\n",
    "    tokens = top[0]\n",
    "    counts = top[1]\n",
    "\n",
    "    print(f'Top Tokens: {tokens[:number]}')\n",
    "\n",
    "    # Set up plot and plot data\n",
    "    fig, ax = plt.subplots()\n",
    "    ax.bar(tokens, counts)\n",
    "\n",
    "    # Customize plot appearance\n",
    "    ax.set_title(title)\n",
    "    ax.set_ylabel(\"Count\")\n",
    "    ax.tick_params(axis=\"x\", rotation=90)"
   ]
  },
  {
   "cell_type": "code",
   "execution_count": null,
   "metadata": {},
   "outputs": [],
   "source": [
    "vocabulary_frequency(freq_dist_vocab, 20, 'Top 20 words in Political Emails')"
   ]
  },
  {
   "cell_type": "code",
   "execution_count": null,
   "metadata": {},
   "outputs": [],
   "source": [
    "wordcloud = WordCloud(collocations=False, \n",
    "                      background_color=\"white\", \n",
    "                      max_words=100)\\\n",
    "                      .generate(\" \".join(vocabulary))\n",
    "\n",
    "plt.figure(figsize=(10,10))\n",
    "plt.title('Corpus Word Cloud')\n",
    "plt.imshow(wordcloud, interpolation='bilinear')\n",
    "plt.axis(\"off\");"
   ]
  },
  {
   "cell_type": "markdown",
   "metadata": {},
   "source": [
    "The top 20 words found within the Political Email Corpus, after traditional stopwords were removed, primarily include words such as 'click', 'like', and 'trump'. Interestingly words such as 'email', 'click', and 'unsubscribe' are heavily featured. This is likely due to the [US's CAN-SPAM Act](https://www.campaignmonitor.com/resources/knowledge-base/is-it-illegal-to-not-have-an-unsubscribe-link/) which require a clear message of how to opt out of emails in the future. Therefore variations of 'click here to unsubscribe' are common within the corpus. "
   ]
  },
  {
   "cell_type": "markdown",
   "metadata": {},
   "source": [
    "### Vocabulary within Targets"
   ]
  },
  {
   "cell_type": "code",
   "execution_count": null,
   "metadata": {},
   "outputs": [],
   "source": [
    "#functions for generating freq_dist and wordclouds \n",
    "def get_vocab(target_name, token_column):\n",
    "    '''\n",
    "    Input: \n",
    "    * target_name = name of target, as string\n",
    "    * token_column = column name to retrieve tokens \n",
    "    Returns: FreqDict for that target's vocabulary\n",
    "    '''\n",
    "    vocab = emails[token_column].loc[emails['target']==target_name].explode()\n",
    "    freq_dist = FreqDist(vocab)\n",
    "    return freq_dist\n",
    "\n",
    "def get_wordcloud(freq_dist):\n",
    "    '''\n",
    "    Inputs: \n",
    "    *freq_dist: FreqDist of words\n",
    "    *number: number for the max number of words in wordcloud\n",
    "    '''\n",
    "    wordcloud = WordCloud(collocations=False, \n",
    "                      background_color=\"white\",\n",
    "                      max_words=100)\\\n",
    "                      .generate_from_frequencies(freq_dist)\n",
    "\n",
    "    plt.figure(figsize=(10,10))\n",
    "    plt.imshow(wordcloud, interpolation='bilinear')\n",
    "    plt.axis(\"off\");"
   ]
  },
  {
   "cell_type": "code",
   "execution_count": null,
   "metadata": {},
   "outputs": [],
   "source": [
    "#Vocabulary for each party\n",
    "for party in emails['target'].unique():\n",
    "    print(f'Vocabulary for {party}')\n",
    "\n",
    "    #create party freq_dict of vocab\n",
    "    party_freq_dist = get_vocab(party, 'tokens') \n",
    "\n",
    "    #show top 25 vocab\n",
    "    vocabulary_frequency(party_freq_dist, 25, party+' top vocabulary')\n",
    "\n",
    "    get_wordcloud(party_freq_dist)"
   ]
  },
  {
   "cell_type": "markdown",
   "metadata": {},
   "source": [
    "The three targets have different lists of top 25 words within their respective vocabularies. Some words appear within the top of all three target's vocabulary such as 'email', 'redacted', 'url', and 'alex'. I will pull a sample of emails to see why these words may be appearing frequently."
   ]
  },
  {
   "cell_type": "code",
   "execution_count": null,
   "metadata": {},
   "outputs": [],
   "source": [
    "sample_liberal_email = emails['text'].loc[emails['target']=='Liberal'].sample(1, random_state=40)\n",
    "print('Sample Liberal Email: \\n',sample_liberal_email.values[:300])\n",
    "\n",
    "sample_conserv_email = emails['text'].loc[emails['target']=='Conservative'].sample(1, random_state=40)\n",
    "print('\\n\\nSample Conservative Email: \\n', sample_conserv_email.values[:300])\n",
    "\n",
    "sample_center_email = emails['text'].loc[emails['target']=='Center'].sample(1, random_state=40)\n",
    "print('\\n\\nSample Center Email: \\n', sample_center_email.values[:300])"
   ]
  },
  {
   "cell_type": "markdown",
   "metadata": {},
   "source": [
    "### Observations: \n",
    "* 'alex' is the name of the email recipient which is why it appears in the corpus so much. For this modling process to be transferable, it would be worth removing this word given that the names to email recipents will vary.\n",
    "    * Addressing an email directly to the reciepient could be considered a marketing approach used more by one target than another. If this is the case, it could be worth feature engineering an element that shows a reciepient was addressed in the email. \n",
    "* [[URL REDACTED]] within emails is why 'url' and 'redacted' appear so frequently within the corpus vocabulary. The URLs were redacted by the Princeton Policial Corpus. Deploying a model for real-world application would not included these words. Therefore, it would to remove these words completely. \n",
    "    * 'url' and 'redacted' are featured more within some targets than others. Again, this could be a marketing strategy. Feature engineering how many links were present within an email, frequency of the word 'click', could reveal those practices. \n",
    "* \"Democrat\" is irregularly pluralized (e.g. Democrat, Democrats, Democratic Party unlike Republican, Republicans, Republican Party). Simple stemming would capture all versions of \"Republican\" but not all versions of \"Democrat\". \n",
    "* 'click' appears in a variety of ways within the sample emails: 'click here to unsubcribe', to \"CLICK TO HELP GET OUR AD TO THE VOTERS\", \"Click here to claim your lawn sign\". It may be worth investigating how model takes the word 'click' into consideration and removing, or feature engineering with it. "
   ]
  },
  {
   "cell_type": "markdown",
   "metadata": {},
   "source": [
    "## Adjustments to Vocabulary\n",
    "Based on the observations trough EDA I will: \n",
    "1. Remove 'alex', 'url', 'redacted', 'email', 'emails', 'unsubscribe', and 'click'\n",
    "2. Normalize 'democrat/democrats/democratic' by replacing with 'democrat'"
   ]
  },
  {
   "cell_type": "code",
   "execution_count": null,
   "metadata": {},
   "outputs": [],
   "source": [
    "remove_words_sparse = ['alex', 'url', 'redacted', 'email', 'emails', 'unsubscribe', 'click']\n",
    "\n",
    "emails['tokens_sparse'] = emails['tokens'].apply(lambda x: [word.replace('democrats', 'democrat')\\\n",
    "                                                 .replace('democratic', 'democrat') for word in x \\\n",
    "                                                 if word not in remove_words_sparse])\n",
    "\n",
    "#join tokens for future vectorizers\n",
    "emails['sparse_text'] = emails['tokens_sparse'].apply(lambda x: ' '.join(x))\n",
    "\n",
    "#length of 'sparse_text' by characters\n",
    "emails['sparse_length'] = emails['sparse_text'].apply(lambda x: len(str(x)))"
   ]
  },
  {
   "cell_type": "markdown",
   "metadata": {},
   "source": [
    "## Vocabulary within target after adjustment\n",
    "Explore the frequency of tokens within each target after adjustments from the previous step."
   ]
  },
  {
   "cell_type": "code",
   "execution_count": null,
   "metadata": {},
   "outputs": [],
   "source": [
    "#Vocabulary for each party\n",
    "for party in emails['target'].unique():\n",
    "    print(f'Vocabulary for {party}')\n",
    "\n",
    "    #create party freq_dict of vocab\n",
    "    party_freq_dist = get_vocab(party, 'tokens_sparse') \n",
    "\n",
    "    #show top 25 vocab\n",
    "    vocabulary_frequency(party_freq_dist, 25, party+' top vocabulary')\n",
    "\n",
    "    #create wordcloud\n",
    "    get_wordcloud(party_freq_dist)"
   ]
  },
  {
   "cell_type": "markdown",
   "metadata": {},
   "source": [
    "The top 25 words for each of the three target variables are different after adjustments. \n",
    "\n",
    "# Train Test Split\n",
    "Conduct train, test, validation split early to prevent leakage. Stratify target within test and validation sets to account for imbalance"
   ]
  },
  {
   "cell_type": "code",
   "execution_count": null,
   "metadata": {},
   "outputs": [],
   "source": [
    "data = emails[['sparse_text', 'target']].copy()    #condensed dataframe\n",
    "data.columns = ['text', 'target']                  #easier column names\n",
    "data.head(1)"
   ]
  },
  {
   "cell_type": "code",
   "execution_count": null,
   "metadata": {},
   "outputs": [],
   "source": [
    "X = data['text'].astype(str)\n",
    "y = data['target']\n",
    "\n",
    "X_train, X_test, y_train, y_test = train_test_split(X, y, random_state=42, test_size=0.35, stratify=y)\n",
    "X_test, X_val, y_test, y_val = train_test_split(X_test, y_test, random_state=42, test_size = 0.2, stratify=y_test)\n",
    "\n",
    "#Encode target\n",
    "le = LabelEncoder()\n",
    "y_train_enc= le.fit_transform(y_train)\n",
    "y_test_enc= le.transform(y_test)\n",
    "y_val_enc= le.transform(y_val)\n",
    "target_classes = le.classes_\n",
    "\n",
    "print('Sizes: ')\n",
    "print('X_train: ', {X_train.shape})\n",
    "print('X_test: ', {X_test.shape})\n",
    "print('X_val: ', {X_val.shape})"
   ]
  },
  {
   "cell_type": "markdown",
   "metadata": {},
   "source": [
    "# Modeling\n",
    "When approaching modeling I will use an iterative approach: model, evaluate, parameter tune, further modeling. When turning does not improve scores, I will adjust my the transformer or modeling methods. Use `sparse_text` and `target` to model.\n",
    "## Baseline Model\n",
    "Baseline is the average occurance of the target variables. Meaning, if a model was to guess the majority class it would be correct ~78% of the time. "
   ]
  },
  {
   "cell_type": "code",
   "execution_count": null,
   "metadata": {},
   "outputs": [],
   "source": [
    "y_train.value_counts(normalize=True)"
   ]
  },
  {
   "cell_type": "markdown",
   "metadata": {},
   "source": [
    "## MultinomialNB with CountVectorizer"
   ]
  },
  {
   "cell_type": "code",
   "execution_count": null,
   "metadata": {},
   "outputs": [],
   "source": [
    "#Create a MultinomialNB modeling pipeline with Count Vectorizer\n",
    "ctvec_bayes_pipe = make_pipeline(CountVectorizer(),\n",
    "                                 MultinomialNB())\n",
    "\n",
    "#Fit model\n",
    "ctvec_bayes_pipe.fit(X_train, y_train_enc)\n",
    "                             \n",
    "#Evaluate model\n",
    "model_evaluation(ctvec_bayes_pipe, X_train, y_train_enc, X_test, y_test_enc, target_classes)"
   ]
  },
  {
   "cell_type": "markdown",
   "metadata": {},
   "source": [
    "The model accurately identifies the idology of emails ~93.8% of the time. It is most accurate with identifying conservative ideology, followed by liberal, and center. Next I will tune parameters with the aim of improving the accuracy of the `center` targets."
   ]
  },
  {
   "cell_type": "code",
   "execution_count": null,
   "metadata": {},
   "outputs": [],
   "source": [
    "#Tune alpha parameter\n",
    "ctvec_bayes_pipe.set_params(multinomialnb__alpha=0.5) \n",
    "\n",
    "#fit model\n",
    "ctvec_bayes_pipe.fit(X_train, y_train_enc) \n",
    "\n",
    "#Evaluate\n",
    "model_evaluation(ctvec_bayes_pipe, X_train, y_train_enc, X_test, y_test_enc, target_classes)"
   ]
  },
  {
   "cell_type": "markdown",
   "metadata": {},
   "source": [
    "Tuning alpha to 0.5 decreased the overall accuracy score, but increased the accuracy of classifying `center` targets, which was my initial goal. This model is most likely to confuse `center` as `conservative`. The accuracy of the `liberal` target also decreased with more `liberal` emails being classified as `center` than before.\n",
    "\n",
    "\n",
    "I conducted a Gridsearch on the piplein to find the `best_params_` as follows:\n",
    "```\n",
    "#create param grid to search\n",
    "param_grid = {'countvectorizer__min_df': [1, 2, 5, 50],\n",
    "          'countvectorizer__max_features': [None, 1000, 2000],\n",
    "          'multinomialnb__alpha': [0.75, 1]}\n",
    "\n",
    "\n",
    "#gridsearch and pring best_param results\n",
    "search = GridSearchCV(ctvec_bayes_pipe, param_grid=param_grid)\n",
    "search.fit(X_train, y_train_enc)\n",
    "print(search.best_params_)\n",
    "#{'countvectorizer__max_features': None, 'countvectorizer__min_df': 1, 'multinomialnb__alpha': 1}\n",
    "```\n",
    "\n",
    "The GridSearch produced the same results as the first model."
   ]
  },
  {
   "cell_type": "markdown",
   "metadata": {},
   "source": [
    "## DecisionTree with Count Vectorizer"
   ]
  },
  {
   "cell_type": "code",
   "execution_count": null,
   "metadata": {},
   "outputs": [],
   "source": [
    "#Create a DecisionTree with CountVectorizer pipeline\n",
    "tree_pipe = Pipeline([('vectorizer', CountVectorizer(min_df=0.02)),\n",
    "                      ('tree', DecisionTreeClassifier(random_state=42, max_depth=10))])\n",
    "\n",
    "#Fit to model\n",
    "tree_pipe.fit(X_train, y_train_enc)\n",
    "\n",
    "#Evaluate model\n",
    "model_evaluation(tree_pipe, X_train, y_train_enc, X_test, y_test_enc, target_classes)"
   ]
  },
  {
   "cell_type": "code",
   "execution_count": null,
   "metadata": {},
   "outputs": [],
   "source": [
    "#Plot Tree\n",
    "fig, axes = plt.subplots(figsize = (10, 10))\n",
    "\n",
    "tree.plot_tree(tree_pipe['tree'], \n",
    "               feature_names = tree_pipe['vectorizer'].get_feature_names(), \n",
    "               class_names= target_classes, \n",
    "               filled = True)\n",
    "\n",
    "plt.show();"
   ]
  },
  {
   "cell_type": "code",
   "execution_count": null,
   "metadata": {},
   "outputs": [],
   "source": [
    "#Finding the feature importances\n",
    "features = dict(zip(tree_pipe['vectorizer'].get_feature_names(), tree_pipe['tree'].feature_importances_))\n",
    "\n",
    "pd.DataFrame.from_dict(features, orient='index').sort_values(by=0, ascending=False).head(5)"
   ]
  },
  {
   "cell_type": "markdown",
   "metadata": {},
   "source": [
    "The first decison tree had an accuracy score of ~94%. It performed well in classifying `liberal` ideology of emails with 99% accuracy. It was less accurate when predicting `center`  and emails, they were only correctly predicted 5% of the time. Correctly predicting`conservative` emails with this decision tree were also less acurate than previous Naive Bayes models. \n",
    "\n",
    "A benifit of DecisionTrees is the ability to learn the feature importances the model used. The word 'privacy` was considered as the most important feature in this model. \n",
    "\n",
    "Moving forward in decision tree modeling, I will I will pass through a `class_weight` parameter with the goal of improving the accuracy of classifiying `center` and `conservative`"
   ]
  },
  {
   "cell_type": "code",
   "execution_count": null,
   "metadata": {},
   "outputs": [],
   "source": [
    "#tune parameters\n",
    "tree_pipe.set_params(tree__class_weight ='balanced')\n",
    "\n",
    "#fit\n",
    "tree_pipe.fit(X_train, y_train_enc)\n",
    "\n",
    "model_evaluation(tree_pipe, X_train, y_train_enc, X_test, y_test_enc, target_classes)"
   ]
  },
  {
   "cell_type": "markdown",
   "metadata": {},
   "source": [
    "Tuning the parameter `class_weights` to balanced had the desired effect of correctly predicting more `center` and `conservative` emails. This came at the cost of accuracy within the `liberal` and target. The accuracy score dropped to 79% which is only slightly better than our baseline (guessing) model. "
   ]
  },
  {
   "cell_type": "code",
   "execution_count": null,
   "metadata": {},
   "outputs": [],
   "source": [
    "#Finding the feature importances\n",
    "features = dict(zip(tree_pipe['vectorizer'].get_feature_names(), tree_pipe['tree'].feature_importances_))\n",
    "\n",
    "pd.DataFrame.from_dict(features, orient='index').sort_values(by=0, ascending=False).head(5)"
   ]
  },
  {
   "cell_type": "markdown",
   "metadata": {},
   "source": [
    "'fewer' is considered the most important feature in this model, as compared to 'privacy' from the previous decision tree model. Interestingly, The top words in both cases are not intuative! In future modeling, I would like to include feature engineered variables into the decision tree. \n",
    "\n",
    "In the next phase of modling, I will tune the vectorizer rather than the decision tree. "
   ]
  },
  {
   "cell_type": "code",
   "execution_count": null,
   "metadata": {},
   "outputs": [],
   "source": [
    "#remove tree parameters and adjust vectorizer\n",
    "tree_pipe.set_params(tree__max_depth=None, tree__class_weight=None,\n",
    "                     vectorizer__min_df=0.05, vectorizer__max_df=0.99)\n",
    "\n",
    "#Fit\n",
    "tree_pipe.fit(X_train, y_train_enc)\n",
    "\n",
    "#Evaluate\n",
    "model_evaluation(tree_pipe, X_train, y_train_enc, X_test, y_test_enc, target_classes)"
   ]
  },
  {
   "cell_type": "code",
   "execution_count": null,
   "metadata": {},
   "outputs": [],
   "source": [
    "plot_confusion_matrix(tree_pipe, X_test, y_test_enc, display_labels=target_classes) #no normalizatoin"
   ]
  },
  {
   "cell_type": "markdown",
   "metadata": {},
   "source": [
    "This tree is the most accurate so far with a 96% accuracy score and Cohen's Kappa score of 0.89. It improves from previous model in its `center` and `conservative` target predictions while only suffering 1% decrease in accuracy of `liberal` email predictions. As with the first tree model, this model was most likely to make an error by classifying `center` emails as `liberal`. \n",
    "\n",
    "When observing the nonnormalized confusion matrix, the class imabalnce becomes apparent as there are so few `center` emails compared to `liberal` emails. While 7% of conservative emails are misidentified, compared to 32% of `center` emails, 7% of conservative emails represents a greater proportion of the corpus overall (1,422 emails compared to 181 emails). "
   ]
  },
  {
   "cell_type": "code",
   "execution_count": null,
   "metadata": {},
   "outputs": [],
   "source": [
    "#Finding the feature importances\n",
    "features = dict(zip(tree_pipe['vectorizer'].get_feature_names(), tree_pipe['tree'].feature_importances_))\n",
    "\n",
    "pd.DataFrame.from_dict(features, orient='index').sort_values(by=0, ascending=False).head(5)"
   ]
  },
  {
   "cell_type": "markdown",
   "metadata": {},
   "source": [
    "## Stochastic Gradient Descent (SGD)"
   ]
  },
  {
   "cell_type": "code",
   "execution_count": null,
   "metadata": {},
   "outputs": [],
   "source": [
    "#Make SGDC pipline\n",
    "sgdc_pipe = make_pipeline(CountVectorizer(),\n",
    "                          SGDClassifier())\n",
    "\n",
    "#Fit\n",
    "sgdc_pipe.fit(X_train, y_train_enc)\n",
    "\n",
    "#Evaluation\n",
    "model_evaluation(sgdc_pipe, X_train, y_train_enc, X_test, y_test_enc, target_classes)"
   ]
  },
  {
   "cell_type": "code",
   "execution_count": null,
   "metadata": {},
   "outputs": [],
   "source": [
    "#Finding the feature importances\n",
    "features = sgdc_pipe['countvectorizer'].get_feature_names()\n",
    "coefficients = sgdc_pipe['sgdclassifier'].coef_.flatten()\n",
    "\n",
    "#zip features and coefficients to form a dataframe\n",
    "feature_importances = pd.DataFrame(zip(features, coefficients), columns=['features', 'values'])\n",
    "\n",
    "#find absolute value of values\n",
    "feature_importances['abs_val'] = feature_importances['values'].apply(lambda x: abs(x))\n",
    "\n",
    "#sort values\n",
    "feature_importances.sort_values(by='abs_val', ascending=False)[:20]"
   ]
  },
  {
   "cell_type": "markdown",
   "metadata": {},
   "source": [
    "This model performed very well! With 99% accuracy! The model accurately classifyies both `liberal` and `conservative` emails, and captures a majority of the `center` ideology emails. The accuracy of each target corresponds with the proportion of the target within the dataset (liberal is the highest accuracy and the most observed label in the dataset, vice versa with center.) Perhaps the imbalance within the target partially contributes to the results. In the next model I will tune the class_weights of the SGDClassifier to 'balanced'."
   ]
  },
  {
   "cell_type": "code",
   "execution_count": null,
   "metadata": {},
   "outputs": [],
   "source": [
    "#Make SGDC2 pipline\n",
    "sgdc_pipe = make_pipeline(CountVectorizer(),\n",
    "                          SGDClassifier(class_weight='balanced',\n",
    "                                        random_state=42))\n",
    "\n",
    "#Fit\n",
    "sgdc_pipe.fit(X_train, y_train_enc)\n",
    "\n",
    "#Evaluation\n",
    "model_evaluation(sgdc_pipe, X_train, y_train_enc, X_test, y_test_enc, target_classes)"
   ]
  },
  {
   "cell_type": "code",
   "execution_count": null,
   "metadata": {},
   "outputs": [],
   "source": [
    "plot_confusion_matrix(sgdc_pipe, X_test, y_test_enc, display_labels=target_classes) #not normalized"
   ]
  },
  {
   "cell_type": "code",
   "execution_count": null,
   "metadata": {},
   "outputs": [],
   "source": [
    "#Finding the feature importances\n",
    "features = sgdc_pipe['countvectorizer'].get_feature_names()\n",
    "coefficients = sgdc_pipe['sgdclassifier'].coef_.flatten()\n",
    "\n",
    "#zip features and coefficients to form a dataframe\n",
    "feature_importances = pd.DataFrame(zip(features, coefficients), columns=['features', 'values'])\n",
    "\n",
    "#find absolute value of values\n",
    "feature_importances['abs_val'] = feature_importances['values'].apply(lambda x: abs(x))\n",
    "\n",
    "#sort values\n",
    "feature_importances.sort_values(by='abs_val', ascending=False)[:20]"
   ]
  },
  {
   "cell_type": "markdown",
   "metadata": {},
   "source": [
    "So far, the SGDClassifier models are accurate on training and testing data. However, after inspecting the important features of the model many are names which may not be generalizeable to future classification situations and impact how this model performs on unseen data. "
   ]
  },
  {
   "cell_type": "markdown",
   "metadata": {},
   "source": [
    "##  Binary target with Stochastic Gradient Descent\n",
    "In this series of modeling, I will explore if the features of a SGDClassifer model would be more generalizable using a binary target. I will train/test/split the data again after creating a binary target then model with SGDClassifier and CountVectorizer."
   ]
  },
  {
   "cell_type": "code",
   "execution_count": null,
   "metadata": {},
   "outputs": [],
   "source": [
    "#create new dataframe of only Liberal and Conservative emails\n",
    "data2 = data.loc[data['target'] != \"Center\"].copy() \n",
    "\n",
    "#reproduce train/test/split with binary target\n",
    "X2 = data2['text'].astype(str)\n",
    "y2 = data2['target']\n",
    "\n",
    "X_train2, X_test2, y_train2, y_test2 = train_test_split(X2, y2, random_state=42, test_size=0.35, stratify=y2)\n",
    "X_test2, X_val2, y_test2, y_val2 = train_test_split(X_test2, y_test2, random_state=42, test_size = 0.2, stratify=y_test2)\n",
    "\n",
    "#encode binary target\n",
    "y_train_enc2= le.fit_transform(y_train2)\n",
    "y_test_enc2= le.transform(y_test2)\n",
    "y_val_enc2= le.transform(y_val2)\n",
    "\n",
    "target_classes = le.classes_ #keeping this as 'target_classes' for use in model_evaluation function"
   ]
  },
  {
   "cell_type": "code",
   "execution_count": null,
   "metadata": {},
   "outputs": [],
   "source": [
    "#Make SGDC pipline for binary target. Use same parameters as before\n",
    "sgdc_binary = make_pipeline(CountVectorizer(),\n",
    "                           SGDClassifier(random_state=42))\n",
    "\n",
    "#Fit\n",
    "sgdc_binary.fit(X_train2, y_train_enc2)\n",
    "\n",
    "#Evaluation\n",
    "model_evaluation(sgdc_binary, X_train2, y_train_enc2, X_test2, y_test_enc2, target_classes)"
   ]
  },
  {
   "cell_type": "code",
   "execution_count": null,
   "metadata": {},
   "outputs": [],
   "source": [
    "#Finding the feature importances\n",
    "features = sgdc_binary['countvectorizer'].get_feature_names()\n",
    "coefficients = sgdc_binary['sgdclassifier'].coef_.flatten()\n",
    "\n",
    "#zip features and coefficients to form a dataframe\n",
    "feature_importances = pd.DataFrame(zip(features, coefficients), columns=['features', 'values'])\n",
    "\n",
    "#find absolute value of values\n",
    "feature_importances['abs_val'] = feature_importances['values'].apply(lambda x: abs(x))\n",
    "\n",
    "#sort values\n",
    "feature_importances.sort_values(by='abs_val', ascending=False)[:20]"
   ]
  },
  {
   "cell_type": "markdown",
   "metadata": {},
   "source": [
    "The top features of this list are different from the multi-class target. It contains fewer names and more politically-charged words. \n",
    "\n",
    "In the next model I will tune the vectorizer to reduce the demensionality of the words. "
   ]
  },
  {
   "cell_type": "code",
   "execution_count": null,
   "metadata": {},
   "outputs": [],
   "source": [
    "#Set parameter\n",
    "sgdc_binary.set_params(countvectorizer__min_df=0.02, countvectorizer__max_df=0.99)\n",
    "\n",
    "#Fit\n",
    "sgdc_binary.fit(X_train2, y_train_enc2)\n",
    "\n",
    "#Evaluation\n",
    "model_evaluation(sgdc_binary, X_train2, y_train_enc2, X_test2, y_test_enc2, target_classes)"
   ]
  },
  {
   "cell_type": "code",
   "execution_count": null,
   "metadata": {},
   "outputs": [],
   "source": [
    "#Finding the feature importances\n",
    "features = sgdc_binary['countvectorizer'].get_feature_names()\n",
    "coefficients = sgdc_binary['sgdclassifier'].coef_.flatten()\n",
    "\n",
    "#zip features and coefficients to form a dataframe\n",
    "feature_importances = pd.DataFrame(zip(features, coefficients), columns=['features', 'values'])\n",
    "\n",
    "#find absolute value of values\n",
    "feature_importances['abs_val'] = feature_importances['values'].apply(lambda x: abs(x))\n",
    "\n",
    "#sort values\n",
    "feature_importances.sort_values(by='abs_val', ascending=False)[:20]"
   ]
  },
  {
   "cell_type": "code",
   "execution_count": null,
   "metadata": {},
   "outputs": [],
   "source": [
    "print(f'{len(feature_importances)} features in sgdc_binary2')"
   ]
  },
  {
   "cell_type": "markdown",
   "metadata": {},
   "source": [
    "Reducing the number of features decreased the accuracy score from 99% to 97%. The model continues to perform well and better than the baseline. For the next model I will tune the CountVectorizer to allow for more features with the aim of increasing the accuracy score. "
   ]
  },
  {
   "cell_type": "code",
   "execution_count": null,
   "metadata": {},
   "outputs": [],
   "source": [
    "#adjust max_df parameter\n",
    "sgdc_binary.set_params(countvectorizer__max_df=1.0, countvectorizer__min_df=0.01)\n",
    "\n",
    "#Fit\n",
    "sgdc_binary.fit(X_train2, y_train_enc2)\n",
    "\n",
    "#Evaluation\n",
    "model_evaluation(sgdc_binary, X_train2, y_train_enc2, X_test2, y_test_enc2, target_classes)"
   ]
  },
  {
   "cell_type": "markdown",
   "metadata": {},
   "source": [
    "# Final Model\n",
    " The best choice for a reliable model which will perform well on unseen data is a model which uses a CoundVectorizer and Stochastic Gradient Descent Classifier to classify a binary target (liberal or conservative). These models consistently produced high accuracy scores, and high Cohen's Kappa coefficient. Futhermore these models used features that could generalize to real-world emails outside of this political corpus. \n",
    "\n",
    "To assess these observations, I will evaluate the model on a final holdout validation dataset."
   ]
  },
  {
   "cell_type": "code",
   "execution_count": null,
   "metadata": {},
   "outputs": [],
   "source": [
    "final_model = make_pipeline(CountVectorizer(min_df=0.01),\n",
    "                            SGDClassifier(random_state=42))\n",
    "\n",
    "#Fit\n",
    "final_model.fit(X_train2, y_train_enc2)\n",
    "\n",
    "#Evaluation\n",
    "model_evaluation(final_model, X_train2, y_train_enc2, X_val2, y_val_enc2, target_classes)"
   ]
  },
  {
   "cell_type": "markdown",
   "metadata": {},
   "source": [
    "This model performed as expected on a holdout set of data. Achieveing 98% accuracy and ~0.94 Cohen's Kappa coefficient. These metrics are chosen to evaluate this model because the objective of creating this classifer is accuracy. In this situation a false positive (predicting a email as Liberal email when it was in fact a Conservative email) is not more or less preferable to a false negative (predciting a email as Conservative when it was in fact Liberal). \n",
    "\n",
    "Accuracy was the most important evaluation measure along with [Cohen's Kappa metric](https://en.wikipedia.org/wiki/Cohen%27s_kappa) to evaluate the agreement between the true and predicted targets. This model scored 0.94, [scores above .8 are generally considered good agreement](https://scikit-learn.org/stable/modules/model_evaluation.html#cohen-kappa). "
   ]
  },
  {
   "cell_type": "markdown",
   "metadata": {},
   "source": [
    "# Conclusion\n",
    "The stated goal of this process was to create a classification model using Natural Language Processing (NLP) and machine learning techniques to answer the question: Can a model predict the political ideology of a U.S. campaign or political organization from an email? \n",
    "\n",
    "With 98% accuracy this model classifed the political ideology (liberal or conservative) of an email.\n",
    "\n",
    "Using this model, email recipeients would to gain a tool for transparency to classify emails from political organizations that did not have a stated political affiliation. On the other hand, politial organzations and candidates could use this tool to assess the their outgoing email's political-ideology. This could help to strategically plan emails to appeal to target voters or produce emails that align  with their politial ideology. \n",
    "\n",
    "There are limiations to the model. As this model was only trained on political emails from the United States 2020 Election Cycle it is only applicable to emails for recent U.S. politics. The model may not be reliable long-term. To create a more lasting model, emails from past election cycles would be useful to include in the corpus. Building onto this corpus could also generate a more lasting model. \n",
    "\n",
    "There are also areas to improve this model. This model only considered the email's text to make a classification. Including additional variables within the modeling process could reveal more underlying features for classification. Elements to consider are length of email, time of day/month/eleciton cycle email was recieved, number of links within an email, if the email is addresed to a recipeient directly or not. These additional email features could share insights to the classification problem. "
   ]
  }
 ],
 "metadata": {
  "interpreter": {
   "hash": "c273e92b90d28d3e4b67f22c19062817ead2d21a5feee39ce00d5f6ffaa4685b"
  },
  "kernelspec": {
   "display_name": "Python 3",
   "language": "python",
   "name": "python3"
  },
  "language_info": {
   "codemirror_mode": {
    "name": "ipython",
    "version": 3
   },
   "file_extension": ".py",
   "mimetype": "text/x-python",
   "name": "python",
   "nbconvert_exporter": "python",
   "pygments_lexer": "ipython3",
   "version": "3.8.5"
  }
 },
 "nbformat": 4,
 "nbformat_minor": 2
}
