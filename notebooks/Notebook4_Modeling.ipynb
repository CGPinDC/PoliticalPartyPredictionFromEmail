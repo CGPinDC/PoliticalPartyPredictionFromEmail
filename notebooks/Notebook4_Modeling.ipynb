{
 "cells": [
  {
   "cell_type": "markdown",
   "metadata": {},
   "source": [
    "# Modeling\n",
    "\n",
    "### Imports"
   ]
  },
  {
   "cell_type": "code",
   "execution_count": 14,
   "metadata": {},
   "outputs": [],
   "source": [
    "#standard imports\n",
    "import pandas as pd\n",
    "import matplotlib.pyplot as plt\n",
    "\n",
    "from sklearn.model_selection import train_test_split\n",
    "from sklearn.preprocessing import LabelEncoder\n",
    "\n",
    "from sklearn.feature_extraction.text import CountVectorizer, TfidfVectorizer\n",
    "from sklearn.dummy import DummyClassifier\n",
    "from sklearn.pipeline import Pipeline\n",
    "from sklearn.pipeline import make_pipeline\n",
    "from sklearn.model_selection import GridSearchCV\n",
    "from sklearn.naive_bayes import MultinomialNB\n",
    "from sklearn.tree import DecisionTreeClassifier\n",
    "from sklearn.linear_model import SGDClassifier"
   ]
  },
  {
   "cell_type": "markdown",
   "metadata": {},
   "source": [
    "# Evaluation Functions"
   ]
  },
  {
   "cell_type": "code",
   "execution_count": 10,
   "metadata": {},
   "outputs": [],
   "source": [
    "import pandas as pd\n",
    "import matplotlib.pyplot as plt\n",
    "from sklearn.metrics import accuracy_score, precision_score, recall_score, \\\n",
    "                            plot_confusion_matrix, f1_score, cohen_kappa_score,\\\n",
    "                            roc_curve, roc_auc_score, ConfusionMatrixDisplay\n",
    "from sklearn.model_selection import cross_val_score\n",
    "\n",
    "#evaluation functions\n",
    "def model_evaluation(model, X_tr, y_tr, X_te, y_te, labels): \n",
    "    '''\n",
    "    Evaluates model and returns scores cross-val-score, accuracy, precision, recall, f1, and cohen-kappa,  \n",
    "    then plots a confusion matrix and ROC-AUC graph. \n",
    "    \n",
    "    'code from https://inblog.in/AUC-ROC-score-and-curve-in-multiclass-classification-problems-2ja4jOHb2X'\n",
    "    \n",
    "    Inputs: \n",
    "        model: model fitted to X_tr\n",
    "        X_tr: Training variable\n",
    "        y_tr: Training target\n",
    "        X_te: Test variable\n",
    "        y_te: Test target\n",
    "        labels: target labeles for confusion matrix\n",
    "        \n",
    "    '''\n",
    "    #determine multiclass or binary model\n",
    "    classes = len(labels)\n",
    "       \n",
    "    #predictions\n",
    "    preds = model.predict(X_te)\n",
    "    preds_proba = model.predict_proba(X_te)\n",
    "\n",
    "    #adjustments for binary vs. multi-class evluations\n",
    "    if classes == 2:\n",
    "        average = None\n",
    "        roc_auc = roc_auc_score(y_te, preds_proba)\n",
    "    else: \n",
    "        average = 'macro'\n",
    "        roc_auc = roc_auc_score(y_te, preds_proba, multi_class='ovo', average='weighted')\n",
    "\n",
    "    #score model from metrics\n",
    "    avg_cros_val = cross_val_score(model, X_tr, y_tr, cv=3).mean()\n",
    "    accuracy = accuracy_score(y_te, preds)\n",
    "    precision = precision_score(y_te, preds, average=average)\n",
    "    recall = recall_score(y_te, preds, average=average)\n",
    "    f1 = f1_score(y_te, preds, average=average)\n",
    "    cohen_kappa = cohen_kappa_score(y_te, preds)\n",
    "    \n",
    "    #store scores\n",
    "    scores = [[model, avg_cros_val, accuracy, precision, recall, f1, cohen_kappa, roc_auc]]\n",
    "    scores_df = pd.DataFrame(scores, columns=['model', 'cross_val', 'accuracy','precision','recall','f1','cohen-kappa', 'roc-auc'])\n",
    "\n",
    "    # roc curve for classes\n",
    "    fpr = {}\n",
    "    tpr = {}\n",
    "    thresh ={}\n",
    "\n",
    "    for i in range(classes):    \n",
    "        fpr[i], tpr[i], thresh[i] = roc_curve(y_te, preds_proba[:,i], pos_label=i)\n",
    "\n",
    "    #plot evaluation graphs\n",
    "    fig, (ax1, ax2) = plt.subplots(1, 2, figsize=(16,6))\n",
    "\n",
    "    ConfusionMatrixDisplay.from_predictions(y_te, preds, display_labels=le.classes_, ax=ax1, normalize='true')\n",
    "    ax1.set_title('Confusion Matrix')\n",
    "\n",
    "    for i in range(len(le.classes_)):    \n",
    "        fpr[i], tpr[i], thresh[i] = roc_curve(y_te, preds_proba[:,i], pos_label=i)\n",
    "\n",
    "        #plot binary roc-auc\n",
    "    if classes == 2: \n",
    "        ax2.plot(fpr[0], tpr[0], linestyle='--',color='orange', label=str(le.inverse_transform([0])))\n",
    "        ax2.plot(fpr[1], tpr[1], linestyle='--',color='green', label=str(le.inverse_transform([1])))\n",
    "    \n",
    "    #plot mulit-class roc\n",
    "    else: \n",
    "        ax2.plot(fpr[0], tpr[0], linestyle='--',color='orange', label=str(le.inverse_transform([0])))\n",
    "        ax2.plot(fpr[1], tpr[1], linestyle='--',color='green', label=str(le.inverse_transform([1])))\n",
    "        ax2.plot(fpr[2], tpr[2], linestyle='--',color='blue', label=str(le.inverse_transform([2])))\n",
    "\n",
    "    # plotting\n",
    "    ax2.plot([0,1], [0,1], linestyle='--', color='grey')    \n",
    "    ax2.set_title('ROC curve')\n",
    "    ax2.set_xlabel('False Positive Rate')\n",
    "    ax2.set_ylabel('True Positive rate')\n",
    "    ax2.legend(loc='best')\n",
    "\n",
    "    plt.show();\n",
    "\n",
    "    return scores_df"
   ]
  },
  {
   "cell_type": "code",
   "execution_count": 3,
   "metadata": {},
   "outputs": [
    {
     "data": {
      "text/html": [
       "<div>\n",
       "<style scoped>\n",
       "    .dataframe tbody tr th:only-of-type {\n",
       "        vertical-align: middle;\n",
       "    }\n",
       "\n",
       "    .dataframe tbody tr th {\n",
       "        vertical-align: top;\n",
       "    }\n",
       "\n",
       "    .dataframe thead th {\n",
       "        text-align: right;\n",
       "    }\n",
       "</style>\n",
       "<table border=\"1\" class=\"dataframe\">\n",
       "  <thead>\n",
       "    <tr style=\"text-align: right;\">\n",
       "      <th></th>\n",
       "      <th>text</th>\n",
       "      <th>target</th>\n",
       "    </tr>\n",
       "  </thead>\n",
       "  <tbody>\n",
       "    <tr>\n",
       "      <th>0</th>\n",
       "      <td>welcome team thanks joining team name kathleen...</td>\n",
       "      <td>Liberal</td>\n",
       "    </tr>\n",
       "  </tbody>\n",
       "</table>\n",
       "</div>"
      ],
      "text/plain": [
       "                                                text   target\n",
       "0  welcome team thanks joining team name kathleen...  Liberal"
      ]
     },
     "execution_count": 3,
     "metadata": {},
     "output_type": "execute_result"
    }
   ],
   "source": [
    "#load data\n",
    "data = pd.read_csv('../data/data.csv', index_col=0)\n",
    "data.head(1)"
   ]
  },
  {
   "cell_type": "markdown",
   "metadata": {},
   "source": [
    "# Train Test Split\n",
    "* Conduct train, test, validation split early to prevent leakage\n",
    "* Stratify target within test and validation sets to account for imbalance"
   ]
  },
  {
   "cell_type": "code",
   "execution_count": 4,
   "metadata": {},
   "outputs": [
    {
     "name": "stdout",
     "output_type": "stream",
     "text": [
      "Sizes: \n",
      "X_train:  {(205725,)}\n",
      "X_test:  {(88620,)}\n",
      "X_val:  {(22156,)}\n"
     ]
    }
   ],
   "source": [
    "X = data['text'].astype(str)\n",
    "y = data['target']\n",
    "\n",
    "X_train, X_test, y_train, y_test = train_test_split(X, y, random_state=42, test_size=0.35, stratify=y)\n",
    "X_test, X_val, y_test, y_val = train_test_split(X_test, y_test, random_state=42, test_size = 0.2, stratify=y_test)\n",
    "\n",
    "print('Sizes: ')\n",
    "print('X_train: ', {X_train.shape})\n",
    "print('X_test: ', {X_test.shape})\n",
    "print('X_val: ', {X_val.shape})"
   ]
  },
  {
   "cell_type": "code",
   "execution_count": 5,
   "metadata": {},
   "outputs": [],
   "source": [
    "#encode multi-class y-values with LabelEncoder\n",
    "le = LabelEncoder()\n",
    "y_train_enc= le.fit_transform(y_train)\n",
    "y_test_enc= le.transform(y_test)\n",
    "\n",
    "target_classes = le.classes_"
   ]
  },
  {
   "cell_type": "code",
   "execution_count": 6,
   "metadata": {},
   "outputs": [],
   "source": [
    "#creating a dataframe to store scores for comparision\n",
    "score_tracker = pd.DataFrame(columns=['model', 'cross_val', 'accuracy','precision','recall','f1','cohen-kappa', 'roc-auc'])"
   ]
  },
  {
   "cell_type": "markdown",
   "metadata": {},
   "source": [
    "# Modeling\n",
    "When approaching modeling I will use an iterative approach: model, evaluate, parameter tuning, further modeling. When turning does not improve scores, I will adjust my the transformer or modeling methods. \n",
    "## Baseline Model\n",
    "Baseline is the average occurance of the target variables. Meaning, if a model was to guess the majority class it would be correct ~78% of the time. "
   ]
  },
  {
   "cell_type": "code",
   "execution_count": 7,
   "metadata": {},
   "outputs": [
    {
     "data": {
      "text/plain": [
       "Liberal         0.782545\n",
       "Conservative    0.211107\n",
       "Center          0.006348\n",
       "Name: target, dtype: float64"
      ]
     },
     "execution_count": 7,
     "metadata": {},
     "output_type": "execute_result"
    }
   ],
   "source": [
    "y_train.value_counts(normalize=True)"
   ]
  },
  {
   "cell_type": "code",
   "execution_count": 9,
   "metadata": {},
   "outputs": [
    {
     "data": {
      "image/png": "[encoded data removed]",
      "text/plain": [
       "<Figure size 1152x432 with 3 Axes>"
      ]
     },
     "metadata": {
      "needs_background": "light"
     },
     "output_type": "display_data"
    },
    {
     "data": {
      "text/html": [
       "<div>\n",
       "<style scoped>\n",
       "    .dataframe tbody tr th:only-of-type {\n",
       "        vertical-align: middle;\n",
       "    }\n",
       "\n",
       "    .dataframe tbody tr th {\n",
       "        vertical-align: top;\n",
       "    }\n",
       "\n",
       "    .dataframe thead th {\n",
       "        text-align: right;\n",
       "    }\n",
       "</style>\n",
       "<table border=\"1\" class=\"dataframe\">\n",
       "  <thead>\n",
       "    <tr style=\"text-align: right;\">\n",
       "      <th></th>\n",
       "      <th>model</th>\n",
       "      <th>cross_val</th>\n",
       "      <th>accuracy</th>\n",
       "      <th>precision</th>\n",
       "      <th>recall</th>\n",
       "      <th>f1</th>\n",
       "      <th>cohen-kappa</th>\n",
       "      <th>roc-auc</th>\n",
       "    </tr>\n",
       "  </thead>\n",
       "  <tbody>\n",
       "    <tr>\n",
       "      <th>0</th>\n",
       "      <td>(CountVectorizer(), DummyClassifier(random_sta...</td>\n",
       "      <td>0.65643</td>\n",
       "      <td>0.656556</td>\n",
       "      <td>0.331751</td>\n",
       "      <td>0.331767</td>\n",
       "      <td>0.331759</td>\n",
       "      <td>-0.001998</td>\n",
       "      <td>0.497517</td>\n",
       "    </tr>\n",
       "  </tbody>\n",
       "</table>\n",
       "</div>"
      ],
      "text/plain": [
       "                                               model  cross_val  accuracy  \\\n",
       "0  (CountVectorizer(), DummyClassifier(random_sta...    0.65643  0.656556   \n",
       "\n",
       "   precision    recall        f1  cohen-kappa   roc-auc  \n",
       "0   0.331751  0.331767  0.331759    -0.001998  0.497517  "
      ]
     },
     "execution_count": 9,
     "metadata": {},
     "output_type": "execute_result"
    }
   ],
   "source": [
    "#stratified dummy model as additional baseline \n",
    "dummy_pipe = make_pipeline(CountVectorizer(), DummyClassifier(random_state=42, strategy='stratified'))\n",
    "dummy_pipe.fit(X_train, y_train_enc)\n",
    "\n",
    "#evaluate model\n",
    "model_evaluation(dummy_pipe, X_train, y_train_enc, X_test, y_test_enc, target_classes, score_tracker) "
   ]
  },
  {
   "cell_type": "markdown",
   "metadata": {},
   "source": [
    "### MultinomialNB with CountVectorizer"
   ]
  },
  {
   "cell_type": "code",
   "execution_count": 11,
   "metadata": {},
   "outputs": [
    {
     "data": {
      "image/png": "[encoded data removed]",
      "text/plain": [
       "<Figure size 1152x432 with 3 Axes>"
      ]
     },
     "metadata": {
      "needs_background": "light"
     },
     "output_type": "display_data"
    },
    {
     "data": {
      "text/html": [
       "<div>\n",
       "<style scoped>\n",
       "    .dataframe tbody tr th:only-of-type {\n",
       "        vertical-align: middle;\n",
       "    }\n",
       "\n",
       "    .dataframe tbody tr th {\n",
       "        vertical-align: top;\n",
       "    }\n",
       "\n",
       "    .dataframe thead th {\n",
       "        text-align: right;\n",
       "    }\n",
       "</style>\n",
       "<table border=\"1\" class=\"dataframe\">\n",
       "  <thead>\n",
       "    <tr style=\"text-align: right;\">\n",
       "      <th></th>\n",
       "      <th>model</th>\n",
       "      <th>cross_val</th>\n",
       "      <th>accuracy</th>\n",
       "      <th>precision</th>\n",
       "      <th>recall</th>\n",
       "      <th>f1</th>\n",
       "      <th>cohen-kappa</th>\n",
       "      <th>roc-auc</th>\n",
       "    </tr>\n",
       "  </thead>\n",
       "  <tbody>\n",
       "    <tr>\n",
       "      <th>0</th>\n",
       "      <td>(CountVectorizer(), MultinomialNB())</td>\n",
       "      <td>0.94079</td>\n",
       "      <td>0.937508</td>\n",
       "      <td>0.67526</td>\n",
       "      <td>0.917411</td>\n",
       "      <td>0.712577</td>\n",
       "      <td>0.834296</td>\n",
       "      <td>0.986204</td>\n",
       "    </tr>\n",
       "  </tbody>\n",
       "</table>\n",
       "</div>"
      ],
      "text/plain": [
       "                                  model  cross_val  accuracy  precision  \\\n",
       "0  (CountVectorizer(), MultinomialNB())    0.94079  0.937508    0.67526   \n",
       "\n",
       "     recall        f1  cohen-kappa   roc-auc  \n",
       "0  0.917411  0.712577     0.834296  0.986204  "
      ]
     },
     "execution_count": 11,
     "metadata": {},
     "output_type": "execute_result"
    }
   ],
   "source": [
    "#Create a MultinomialNB modeling pipeline with Count Vectorizer\n",
    "ctvec_bayes_pipe = make_pipeline(CountVectorizer(),\n",
    "                                 MultinomialNB())\n",
    "\n",
    "#Fit model\n",
    "ctvec_bayes_pipe.fit(X_train, y_train_enc)\n",
    "                               \n",
    "#Evaluate model\n",
    "model_evaluation(ctvec_bayes_pipe, X_train, y_train_enc, X_test, y_test_enc, le.classes_, score_tracker)"
   ]
  },
  {
   "cell_type": "markdown",
   "metadata": {},
   "source": [
    "**Evaluation**: The model accurately identifies the idology of emails ~93.8% of the time. It is most accurate with identifying conservative ideology, followed by liberal, and center. Next I will tune parameters with the aim of improving the model's F1 score"
   ]
  },
  {
   "cell_type": "code",
   "execution_count": 12,
   "metadata": {},
   "outputs": [
    {
     "data": {
      "image/png": "[encoded data removed]",
      "text/plain": [
       "<Figure size 1152x432 with 3 Axes>"
      ]
     },
     "metadata": {
      "needs_background": "light"
     },
     "output_type": "display_data"
    },
    {
     "data": {
      "text/html": [
       "<div>\n",
       "<style scoped>\n",
       "    .dataframe tbody tr th:only-of-type {\n",
       "        vertical-align: middle;\n",
       "    }\n",
       "\n",
       "    .dataframe tbody tr th {\n",
       "        vertical-align: top;\n",
       "    }\n",
       "\n",
       "    .dataframe thead th {\n",
       "        text-align: right;\n",
       "    }\n",
       "</style>\n",
       "<table border=\"1\" class=\"dataframe\">\n",
       "  <thead>\n",
       "    <tr style=\"text-align: right;\">\n",
       "      <th></th>\n",
       "      <th>model</th>\n",
       "      <th>cross_val</th>\n",
       "      <th>accuracy</th>\n",
       "      <th>precision</th>\n",
       "      <th>recall</th>\n",
       "      <th>f1</th>\n",
       "      <th>cohen-kappa</th>\n",
       "      <th>roc-auc</th>\n",
       "    </tr>\n",
       "  </thead>\n",
       "  <tbody>\n",
       "    <tr>\n",
       "      <th>0</th>\n",
       "      <td>(CountVectorizer(), MultinomialNB(alpha=0.5))</td>\n",
       "      <td>0.932721</td>\n",
       "      <td>0.93005</td>\n",
       "      <td>0.67042</td>\n",
       "      <td>0.9299</td>\n",
       "      <td>0.697396</td>\n",
       "      <td>0.817566</td>\n",
       "      <td>0.986177</td>\n",
       "    </tr>\n",
       "  </tbody>\n",
       "</table>\n",
       "</div>"
      ],
      "text/plain": [
       "                                           model  cross_val  accuracy  \\\n",
       "0  (CountVectorizer(), MultinomialNB(alpha=0.5))   0.932721   0.93005   \n",
       "\n",
       "   precision  recall        f1  cohen-kappa   roc-auc  \n",
       "0    0.67042  0.9299  0.697396     0.817566  0.986177  "
      ]
     },
     "execution_count": 12,
     "metadata": {},
     "output_type": "execute_result"
    }
   ],
   "source": [
    "#Tune alpha parameter\n",
    "ctvec_bayes_pipe.set_params(multinomialnb__alpha=0.5) \n",
    "\n",
    "#fit model\n",
    "ctvec_bayes_pipe.fit(X_train, y_train_enc) \n",
    "\n",
    "#Evaluate\n",
    "model_evaluation(ctvec_bayes_pipe, X_train, y_train_enc, X_test, y_test_enc, le.classes_, score_tracker)"
   ]
  },
  {
   "cell_type": "markdown",
   "metadata": {},
   "source": [
    "**Evaluation**: Tuning alpha to 0.5 decreased the overall accuracy score but improved classifying `center` targets, which was my initial goal. This model is most likely to confuse `center` as `conservative`. The accuracy of the `liberal` target also decreased with more `liberal` emails being classified as `center` than before.\n",
    "\n",
    "I will conduct a GridSearch of parameters on the pipleine to find the `best_params_` that produce the highest accuracy score. Code guide for GridSearch in pipeline: [https://scikit-learn.org/stable/tutorial/statistical_inference/putting_together.html](https://scikit-learn.org/stable/tutorial/statistical_inference/putting_together.html)"
   ]
  },
  {
   "cell_type": "code",
   "execution_count": 74,
   "metadata": {},
   "outputs": [
    {
     "name": "stdout",
     "output_type": "stream",
     "text": [
      "{'countvectorizer__max_features': None, 'countvectorizer__min_df': 1, 'multinomialnb__alpha': 1}\n"
     ]
    }
   ],
   "source": [
    "#reset params of model\n",
    "ctvec_bayes_pipe.set_params(multinomialnb__alpha=None)\n",
    "\n",
    "#create param grid to search\n",
    "param_grid = {'countvectorizer__min_df': [1, 2, 5, 50],\n",
    "          'countvectorizer__max_features': [None, 1000, 2000],\n",
    "          'multinomialnb__alpha': [0.75, 1]}\n",
    "\n",
    "\n",
    "#gridsearch and pring best_param results\n",
    "search = GridSearchCV(ctvec_bayes_pipe, param_grid=param_grid)\n",
    "search.fit(X_train, y_train_enc)\n",
    "print(search.best_params_)"
   ]
  },
  {
   "cell_type": "markdown",
   "metadata": {},
   "source": [
    "### DecisionTree with Count Vectorizer"
   ]
  },
  {
   "cell_type": "code",
   "execution_count": 84,
   "metadata": {},
   "outputs": [
    {
     "data": {
      "text/html": [
       "<div>\n",
       "<style scoped>\n",
       "    .dataframe tbody tr th:only-of-type {\n",
       "        vertical-align: middle;\n",
       "    }\n",
       "\n",
       "    .dataframe tbody tr th {\n",
       "        vertical-align: top;\n",
       "    }\n",
       "\n",
       "    .dataframe thead th {\n",
       "        text-align: right;\n",
       "    }\n",
       "</style>\n",
       "<table border=\"1\" class=\"dataframe\">\n",
       "  <thead>\n",
       "    <tr style=\"text-align: right;\">\n",
       "      <th></th>\n",
       "      <th>iteration</th>\n",
       "      <th>model</th>\n",
       "      <th>cross_val</th>\n",
       "      <th>accuracy</th>\n",
       "      <th>precision</th>\n",
       "      <th>recall</th>\n",
       "      <th>f1</th>\n",
       "      <th>cohen-kappa</th>\n",
       "    </tr>\n",
       "  </thead>\n",
       "  <tbody>\n",
       "    <tr>\n",
       "      <th>0</th>\n",
       "      <td>tree1</td>\n",
       "      <td>(CountVectorizer(min_df=0.02), DecisionTreeCla...</td>\n",
       "      <td>0.941252</td>\n",
       "      <td>0.943049</td>\n",
       "      <td>0.943049</td>\n",
       "      <td>0.943049</td>\n",
       "      <td>0.943049</td>\n",
       "      <td>0.821123</td>\n",
       "    </tr>\n",
       "  </tbody>\n",
       "</table>\n",
       "</div>"
      ],
      "text/plain": [
       "  iteration                                              model  cross_val  \\\n",
       "0     tree1  (CountVectorizer(min_df=0.02), DecisionTreeCla...   0.941252   \n",
       "\n",
       "   accuracy  precision    recall        f1  cohen-kappa  \n",
       "0  0.943049   0.943049  0.943049  0.943049     0.821123  "
      ]
     },
     "execution_count": 84,
     "metadata": {},
     "output_type": "execute_result"
    },
    {
     "data": {
      "image/png": "[encoded data removed]",
      "text/plain": [
       "<Figure size 432x288 with 2 Axes>"
      ]
     },
     "metadata": {
      "needs_background": "light"
     },
     "output_type": "display_data"
    }
   ],
   "source": [
    "#Create a DecisionTree with CountVectorizer\n",
    "tree_pipe = Pipeline([('vectorizer', CountVectorizer(min_df=0.02)),\n",
    "                      ('tree', DecisionTreeClassifier(random_state=42, max_depth=10))])\n",
    "\n",
    "#Fit to model\n",
    "tree_pipe.fit(X_train, y_train_enc)\n",
    "\n",
    "#Evaluate model\n",
    "model_evaluation(tree_pipe, X_train, y_train_enc, X_test, y_test_enc, le.classes_)"
   ]
  },
  {
   "cell_type": "code",
   "execution_count": 89,
   "metadata": {},
   "outputs": [
    {
     "data": {
      "image/png": "[encoded data removed]",
      "text/plain": [
       "<Figure size 720x720 with 1 Axes>"
      ]
     },
     "metadata": {
      "needs_background": "light"
     },
     "output_type": "display_data"
    }
   ],
   "source": [
    "#Plot Tree\n",
    "fig, axes = plt.subplots(figsize = (10, 10))\n",
    "\n",
    "tree.plot_tree(tree_pipe['tree'], \n",
    "               feature_names = tree_pipe['vectorizer'].get_feature_names(), \n",
    "               class_names= target_classes, \n",
    "               filled = True)\n",
    "\n",
    "plt.show();"
   ]
  },
  {
   "cell_type": "code",
   "execution_count": 98,
   "metadata": {},
   "outputs": [
    {
     "data": {
      "text/html": [
       "<div>\n",
       "<style scoped>\n",
       "    .dataframe tbody tr th:only-of-type {\n",
       "        vertical-align: middle;\n",
       "    }\n",
       "\n",
       "    .dataframe tbody tr th {\n",
       "        vertical-align: top;\n",
       "    }\n",
       "\n",
       "    .dataframe thead th {\n",
       "        text-align: right;\n",
       "    }\n",
       "</style>\n",
       "<table border=\"1\" class=\"dataframe\">\n",
       "  <thead>\n",
       "    <tr style=\"text-align: right;\">\n",
       "      <th></th>\n",
       "      <th>0</th>\n",
       "    </tr>\n",
       "  </thead>\n",
       "  <tbody>\n",
       "    <tr>\n",
       "      <th>fewer</th>\n",
       "      <td>0.284083</td>\n",
       "    </tr>\n",
       "    <tr>\n",
       "      <th>privacy</th>\n",
       "      <td>0.126273</td>\n",
       "    </tr>\n",
       "    <tr>\n",
       "      <th>conservative</th>\n",
       "      <td>0.095600</td>\n",
       "    </tr>\n",
       "    <tr>\n",
       "      <th>actblue</th>\n",
       "      <td>0.058074</td>\n",
       "    </tr>\n",
       "    <tr>\n",
       "      <th>believe</th>\n",
       "      <td>0.047825</td>\n",
       "    </tr>\n",
       "  </tbody>\n",
       "</table>\n",
       "</div>"
      ],
      "text/plain": [
       "                     0\n",
       "fewer         0.284083\n",
       "privacy       0.126273\n",
       "conservative  0.095600\n",
       "actblue       0.058074\n",
       "believe       0.047825"
      ]
     },
     "execution_count": 98,
     "metadata": {},
     "output_type": "execute_result"
    }
   ],
   "source": [
    "#Finding the feature importances\n",
    "features = dict(zip(tree_pipe['vectorizer'].get_feature_names(), tree_pipe['tree'].feature_importances_))\n",
    "\n",
    "pd.DataFrame.from_dict(features, orient='index').sort_values(by=0, ascending=False).head(5)"
   ]
  },
  {
   "cell_type": "markdown",
   "metadata": {},
   "source": [
    "The first decison tree had an accuracy score of ~94%. It performed well in classifying `liberal` ideology of emails with 99% accuracy. It was less accurate when predicting `center`  and emails, they were only correctly predicted 5% of the time. Correctly predicting`conservative` emails with this decision tree were also less acurate than previous Naive Bayes models. \n",
    "\n",
    "A benifit of DecisionTrees is the ability to learn the feature importances the model used. The word 'privacy` was considered as the most important feature in this model. \n",
    "\n",
    "Moving forward in decision tree modeling, I will I will pass through a `class_weight` parameter with the goal of improving the accuracy of classifiying `center` and `conservative`"
   ]
  },
  {
   "cell_type": "code",
   "execution_count": 96,
   "metadata": {},
   "outputs": [
    {
     "data": {
      "text/html": [
       "<div>\n",
       "<style scoped>\n",
       "    .dataframe tbody tr th:only-of-type {\n",
       "        vertical-align: middle;\n",
       "    }\n",
       "\n",
       "    .dataframe tbody tr th {\n",
       "        vertical-align: top;\n",
       "    }\n",
       "\n",
       "    .dataframe thead th {\n",
       "        text-align: right;\n",
       "    }\n",
       "</style>\n",
       "<table border=\"1\" class=\"dataframe\">\n",
       "  <thead>\n",
       "    <tr style=\"text-align: right;\">\n",
       "      <th></th>\n",
       "      <th>iteration</th>\n",
       "      <th>model</th>\n",
       "      <th>cross_val</th>\n",
       "      <th>accuracy</th>\n",
       "      <th>precision</th>\n",
       "      <th>recall</th>\n",
       "      <th>f1</th>\n",
       "      <th>cohen-kappa</th>\n",
       "    </tr>\n",
       "  </thead>\n",
       "  <tbody>\n",
       "    <tr>\n",
       "      <th>0</th>\n",
       "      <td>tree2</td>\n",
       "      <td>(CountVectorizer(min_df=0.02), DecisionTreeCla...</td>\n",
       "      <td>0.791571</td>\n",
       "      <td>0.791627</td>\n",
       "      <td>0.791627</td>\n",
       "      <td>0.791627</td>\n",
       "      <td>0.791627</td>\n",
       "      <td>0.547441</td>\n",
       "    </tr>\n",
       "  </tbody>\n",
       "</table>\n",
       "</div>"
      ],
      "text/plain": [
       "  iteration                                              model  cross_val  \\\n",
       "0     tree2  (CountVectorizer(min_df=0.02), DecisionTreeCla...   0.791571   \n",
       "\n",
       "   accuracy  precision    recall        f1  cohen-kappa  \n",
       "0  0.791627   0.791627  0.791627  0.791627     0.547441  "
      ]
     },
     "execution_count": 96,
     "metadata": {},
     "output_type": "execute_result"
    },
    {
     "data": {
      "image/png": "[encoded data removed]",
      "text/plain": [
       "<Figure size 432x288 with 2 Axes>"
      ]
     },
     "metadata": {
      "needs_background": "light"
     },
     "output_type": "display_data"
    }
   ],
   "source": [
    "#tune parameters\n",
    "tree_pipe.set_params(tree__class_weight ='balanced')\n",
    "\n",
    "#fit\n",
    "tree_pipe.fit(X_train, y_train_enc)\n",
    "\n",
    "model_evaluation('tree2', tree_pipe, X_train, y_train_enc, X_test, y_test_enc)"
   ]
  },
  {
   "cell_type": "markdown",
   "metadata": {},
   "source": [
    "Tuning the parameter `class_weights` to balanced had the desired effect of correctly predicting more `center` and `conservative` emails. This came at the cost of accuracy within the `liberal` and target. The accuracy score dropped to 79% which is only slightly better than our baseline (guessing) model. "
   ]
  },
  {
   "cell_type": "code",
   "execution_count": 97,
   "metadata": {},
   "outputs": [
    {
     "data": {
      "text/html": [
       "<div>\n",
       "<style scoped>\n",
       "    .dataframe tbody tr th:only-of-type {\n",
       "        vertical-align: middle;\n",
       "    }\n",
       "\n",
       "    .dataframe tbody tr th {\n",
       "        vertical-align: top;\n",
       "    }\n",
       "\n",
       "    .dataframe thead th {\n",
       "        text-align: right;\n",
       "    }\n",
       "</style>\n",
       "<table border=\"1\" class=\"dataframe\">\n",
       "  <thead>\n",
       "    <tr style=\"text-align: right;\">\n",
       "      <th></th>\n",
       "      <th>0</th>\n",
       "    </tr>\n",
       "  </thead>\n",
       "  <tbody>\n",
       "    <tr>\n",
       "      <th>fewer</th>\n",
       "      <td>0.284083</td>\n",
       "    </tr>\n",
       "    <tr>\n",
       "      <th>privacy</th>\n",
       "      <td>0.126273</td>\n",
       "    </tr>\n",
       "    <tr>\n",
       "      <th>conservative</th>\n",
       "      <td>0.095600</td>\n",
       "    </tr>\n",
       "    <tr>\n",
       "      <th>actblue</th>\n",
       "      <td>0.058074</td>\n",
       "    </tr>\n",
       "    <tr>\n",
       "      <th>believe</th>\n",
       "      <td>0.047825</td>\n",
       "    </tr>\n",
       "  </tbody>\n",
       "</table>\n",
       "</div>"
      ],
      "text/plain": [
       "                     0\n",
       "fewer         0.284083\n",
       "privacy       0.126273\n",
       "conservative  0.095600\n",
       "actblue       0.058074\n",
       "believe       0.047825"
      ]
     },
     "execution_count": 97,
     "metadata": {},
     "output_type": "execute_result"
    }
   ],
   "source": [
    "#Finding the feature importances\n",
    "features = dict(zip(tree_pipe['vectorizer'].get_feature_names(), tree_pipe['tree'].feature_importances_))\n",
    "\n",
    "pd.DataFrame.from_dict(features, orient='index').sort_values(by=0, ascending=False).head(5)"
   ]
  },
  {
   "cell_type": "markdown",
   "metadata": {},
   "source": [
    "'fewer' is considered the most important feature in this model, as compared to 'privacy' from the previous decision tree model. Interstinly, The top words in both cases are not intuative! In future modeling, I would like to include feature engineered variables into the decision tree. \n",
    "\n",
    "In the next phase of modling, I will tune the vectorizer rather than the decision tree. "
   ]
  },
  {
   "cell_type": "code",
   "execution_count": 111,
   "metadata": {},
   "outputs": [
    {
     "data": {
      "text/html": [
       "<div>\n",
       "<style scoped>\n",
       "    .dataframe tbody tr th:only-of-type {\n",
       "        vertical-align: middle;\n",
       "    }\n",
       "\n",
       "    .dataframe tbody tr th {\n",
       "        vertical-align: top;\n",
       "    }\n",
       "\n",
       "    .dataframe thead th {\n",
       "        text-align: right;\n",
       "    }\n",
       "</style>\n",
       "<table border=\"1\" class=\"dataframe\">\n",
       "  <thead>\n",
       "    <tr style=\"text-align: right;\">\n",
       "      <th></th>\n",
       "      <th>iteration</th>\n",
       "      <th>model</th>\n",
       "      <th>cross_val</th>\n",
       "      <th>accuracy</th>\n",
       "      <th>precision</th>\n",
       "      <th>recall</th>\n",
       "      <th>f1</th>\n",
       "      <th>cohen-kappa</th>\n",
       "    </tr>\n",
       "  </thead>\n",
       "  <tbody>\n",
       "    <tr>\n",
       "      <th>0</th>\n",
       "      <td>tree3</td>\n",
       "      <td>(CountVectorizer(max_df=0.99, min_df=0.05), De...</td>\n",
       "      <td>0.95862</td>\n",
       "      <td>0.962469</td>\n",
       "      <td>0.962469</td>\n",
       "      <td>0.962469</td>\n",
       "      <td>0.962469</td>\n",
       "      <td>0.890453</td>\n",
       "    </tr>\n",
       "  </tbody>\n",
       "</table>\n",
       "</div>"
      ],
      "text/plain": [
       "  iteration                                              model  cross_val  \\\n",
       "0     tree3  (CountVectorizer(max_df=0.99, min_df=0.05), De...    0.95862   \n",
       "\n",
       "   accuracy  precision    recall        f1  cohen-kappa  \n",
       "0  0.962469   0.962469  0.962469  0.962469     0.890453  "
      ]
     },
     "execution_count": 111,
     "metadata": {},
     "output_type": "execute_result"
    },
    {
     "data": {
      "image/png": "[encoded data removed]",
      "text/plain": [
       "<Figure size 432x288 with 2 Axes>"
      ]
     },
     "metadata": {
      "needs_background": "light"
     },
     "output_type": "display_data"
    }
   ],
   "source": [
    "#remove tree parameters and adjust vectorizer\n",
    "tree_pipe.set_params(tree__max_depth=None, tree__class_weight=None,\n",
    "                     vectorizer__min_df=0.05, vectorizer__max_df=0.99)\n",
    "\n",
    "#Fit\n",
    "tree_pipe.fit(X_train, y_train_enc)\n",
    "\n",
    "#Evaluate\n",
    "model_evaluation('tree3', tree_pipe, X_train, y_train_enc, X_test, y_test_enc)"
   ]
  },
  {
   "cell_type": "code",
   "execution_count": 103,
   "metadata": {},
   "outputs": [
    {
     "data": {
      "text/plain": [
       "<sklearn.metrics._plot.confusion_matrix.ConfusionMatrixDisplay at 0x1f4cc632a60>"
      ]
     },
     "execution_count": 103,
     "metadata": {},
     "output_type": "execute_result"
    },
    {
     "data": {
      "image/png": "[encoded data removed]",
      "text/plain": [
       "<Figure size 432x288 with 2 Axes>"
      ]
     },
     "metadata": {
      "needs_background": "light"
     },
     "output_type": "display_data"
    }
   ],
   "source": [
    "plot_confusion_matrix(tree_pipe, X_test, y_test_enc, display_labels=target_classes) #no normalizatoin"
   ]
  },
  {
   "cell_type": "markdown",
   "metadata": {},
   "source": [
    "This tree is the most accurate so far with a 96% accuracy score. It improves from tree1 in in its `center` and `conservative` target predictions while only suffering 1% decrease accuracy of `liberal` email predictions. As with tree1 model the model was most likely to make an error by classifying `center` emails as `liberal`. \n",
    "\n",
    "When observing the nonnormalized confusion matrix, the class imabalnce becomes apparent as there are so few `center` emails compared to `liberal` emails. While 7% of conservative emails are mis-identified, compared to 32% of `center` emails, 7% of conservative emails represents a greater proportion of the corpus overall (1,422 emails compared to 181 emails). "
   ]
  },
  {
   "cell_type": "code",
   "execution_count": 101,
   "metadata": {},
   "outputs": [
    {
     "data": {
      "text/html": [
       "<div>\n",
       "<style scoped>\n",
       "    .dataframe tbody tr th:only-of-type {\n",
       "        vertical-align: middle;\n",
       "    }\n",
       "\n",
       "    .dataframe tbody tr th {\n",
       "        vertical-align: top;\n",
       "    }\n",
       "\n",
       "    .dataframe thead th {\n",
       "        text-align: right;\n",
       "    }\n",
       "</style>\n",
       "<table border=\"1\" class=\"dataframe\">\n",
       "  <thead>\n",
       "    <tr style=\"text-align: right;\">\n",
       "      <th></th>\n",
       "      <th>0</th>\n",
       "    </tr>\n",
       "  </thead>\n",
       "  <tbody>\n",
       "    <tr>\n",
       "      <th>privacy</th>\n",
       "      <td>0.265888</td>\n",
       "    </tr>\n",
       "    <tr>\n",
       "      <th>conservative</th>\n",
       "      <td>0.133553</td>\n",
       "    </tr>\n",
       "    <tr>\n",
       "      <th>liberal</th>\n",
       "      <td>0.056164</td>\n",
       "    </tr>\n",
       "    <tr>\n",
       "      <th>fewer</th>\n",
       "      <td>0.053462</td>\n",
       "    </tr>\n",
       "    <tr>\n",
       "      <th>paid</th>\n",
       "      <td>0.038439</td>\n",
       "    </tr>\n",
       "  </tbody>\n",
       "</table>\n",
       "</div>"
      ],
      "text/plain": [
       "                     0\n",
       "privacy       0.265888\n",
       "conservative  0.133553\n",
       "liberal       0.056164\n",
       "fewer         0.053462\n",
       "paid          0.038439"
      ]
     },
     "execution_count": 101,
     "metadata": {},
     "output_type": "execute_result"
    }
   ],
   "source": [
    "#Finding the feature importances\n",
    "features = dict(zip(tree_pipe['vectorizer'].get_feature_names(), tree_pipe['tree'].feature_importances_))\n",
    "\n",
    "pd.DataFrame.from_dict(features, orient='index').sort_values(by=0, ascending=False).head(5)"
   ]
  },
  {
   "cell_type": "markdown",
   "metadata": {},
   "source": [
    "### Stochastic Gradient Descent (SGD)"
   ]
  },
  {
   "cell_type": "code",
   "execution_count": 130,
   "metadata": {},
   "outputs": [
    {
     "data": {
      "text/html": [
       "<div>\n",
       "<style scoped>\n",
       "    .dataframe tbody tr th:only-of-type {\n",
       "        vertical-align: middle;\n",
       "    }\n",
       "\n",
       "    .dataframe tbody tr th {\n",
       "        vertical-align: top;\n",
       "    }\n",
       "\n",
       "    .dataframe thead th {\n",
       "        text-align: right;\n",
       "    }\n",
       "</style>\n",
       "<table border=\"1\" class=\"dataframe\">\n",
       "  <thead>\n",
       "    <tr style=\"text-align: right;\">\n",
       "      <th></th>\n",
       "      <th>iteration</th>\n",
       "      <th>model</th>\n",
       "      <th>cross_val</th>\n",
       "      <th>accuracy</th>\n",
       "      <th>precision</th>\n",
       "      <th>recall</th>\n",
       "      <th>f1</th>\n",
       "      <th>cohen-kappa</th>\n",
       "    </tr>\n",
       "  </thead>\n",
       "  <tbody>\n",
       "    <tr>\n",
       "      <th>0</th>\n",
       "      <td>sgdc1</td>\n",
       "      <td>(CountVectorizer(), SGDClassifier())</td>\n",
       "      <td>0.989316</td>\n",
       "      <td>0.990702</td>\n",
       "      <td>0.990702</td>\n",
       "      <td>0.990702</td>\n",
       "      <td>0.990702</td>\n",
       "      <td>0.972851</td>\n",
       "    </tr>\n",
       "  </tbody>\n",
       "</table>\n",
       "</div>"
      ],
      "text/plain": [
       "  iteration                                 model  cross_val  accuracy  \\\n",
       "0     sgdc1  (CountVectorizer(), SGDClassifier())   0.989316  0.990702   \n",
       "\n",
       "   precision    recall        f1  cohen-kappa  \n",
       "0   0.990702  0.990702  0.990702     0.972851  "
      ]
     },
     "execution_count": 130,
     "metadata": {},
     "output_type": "execute_result"
    },
    {
     "data": {
      "image/png": "[encoded data removed]",
      "text/plain": [
       "<Figure size 432x288 with 2 Axes>"
      ]
     },
     "metadata": {
      "needs_background": "light"
     },
     "output_type": "display_data"
    }
   ],
   "source": [
    "#Make SGDC pipline\n",
    "sgdc_pipe = make_pipeline(CountVectorizer(),\n",
    "                          SGDClassifier())\n",
    "\n",
    "#Fit\n",
    "sgdc_pipe.fit(X_train, y_train_enc)\n",
    "\n",
    "#Evaluation\n",
    "model_evaluation('sgdc1', sgdc_pipe, X_train, y_train_enc, X_test, y_test_enc)"
   ]
  },
  {
   "cell_type": "code",
   "execution_count": 132,
   "metadata": {},
   "outputs": [],
   "source": [
    "#Finding the feature importances\n",
    "features = sgdc_pipe['countvectorizer'].get_feature_names()\n",
    "coefficients = sgdc_pipe['sgdclassifier'].coef_.flatten()\n",
    "\n",
    "#zip features and coefficients to form a dataframe\n",
    "feature_importances = pd.DataFrame(zip(features, coefficients), columns=['features', 'values'])\n",
    "\n",
    "#find absolute value of values\n",
    "feature_importances['abs_val'] = feature_importances['values'].apply(lambda x: abs(x))\n",
    "\n",
    "#sort values\n",
    "feature_importances.sort_values(by='abs_val', ascending=False)[:20]"
   ]
  },
  {
   "cell_type": "markdown",
   "metadata": {},
   "source": [
    "This model performed very well! With 99% accuracy! The model accurately classifyies both `liberal` and `conservative` emails, and captures a majority of the `center` ideology emails. The accuracy of each target corresponds with the proportion of the target within the dataset (liberal is the highest accuracy and the most observed label in the dataset, vice versa with center.) Perhaps the imbalance within the target partially contributes to the results. In the next model I will tune the class_weights of the SGDClassifier to 'balanced'."
   ]
  },
  {
   "cell_type": "code",
   "execution_count": 137,
   "metadata": {},
   "outputs": [
    {
     "data": {
      "text/html": [
       "<div>\n",
       "<style scoped>\n",
       "    .dataframe tbody tr th:only-of-type {\n",
       "        vertical-align: middle;\n",
       "    }\n",
       "\n",
       "    .dataframe tbody tr th {\n",
       "        vertical-align: top;\n",
       "    }\n",
       "\n",
       "    .dataframe thead th {\n",
       "        text-align: right;\n",
       "    }\n",
       "</style>\n",
       "<table border=\"1\" class=\"dataframe\">\n",
       "  <thead>\n",
       "    <tr style=\"text-align: right;\">\n",
       "      <th></th>\n",
       "      <th>iteration</th>\n",
       "      <th>model</th>\n",
       "      <th>cross_val</th>\n",
       "      <th>accuracy</th>\n",
       "      <th>precision</th>\n",
       "      <th>recall</th>\n",
       "      <th>f1</th>\n",
       "      <th>cohen-kappa</th>\n",
       "    </tr>\n",
       "  </thead>\n",
       "  <tbody>\n",
       "    <tr>\n",
       "      <th>0</th>\n",
       "      <td>sgdc2</td>\n",
       "      <td>(CountVectorizer(), SGDClassifier(class_weight...</td>\n",
       "      <td>0.987678</td>\n",
       "      <td>0.988479</td>\n",
       "      <td>0.988479</td>\n",
       "      <td>0.988479</td>\n",
       "      <td>0.988479</td>\n",
       "      <td>0.966688</td>\n",
       "    </tr>\n",
       "  </tbody>\n",
       "</table>\n",
       "</div>"
      ],
      "text/plain": [
       "  iteration                                              model  cross_val  \\\n",
       "0     sgdc2  (CountVectorizer(), SGDClassifier(class_weight...   0.987678   \n",
       "\n",
       "   accuracy  precision    recall        f1  cohen-kappa  \n",
       "0  0.988479   0.988479  0.988479  0.988479     0.966688  "
      ]
     },
     "execution_count": 137,
     "metadata": {},
     "output_type": "execute_result"
    },
    {
     "data": {
      "image/png": "[encoded data removed]",
      "text/plain": [
       "<Figure size 432x288 with 2 Axes>"
      ]
     },
     "metadata": {
      "needs_background": "light"
     },
     "output_type": "display_data"
    }
   ],
   "source": [
    "#Make SGDC2 pipline\n",
    "sgdc_pipe = make_pipeline(CountVectorizer(),\n",
    "                          SGDClassifier(class_weight='balanced',\n",
    "                                        random_state=42))\n",
    "\n",
    "#Fit\n",
    "sgdc_pipe.fit(X_train, y_train_enc)\n",
    "\n",
    "#Evaluation\n",
    "model_evaluation('sgdc2', sgdc_pipe, X_train, y_train_enc, X_test, y_test_enc)"
   ]
  },
  {
   "cell_type": "code",
   "execution_count": 140,
   "metadata": {},
   "outputs": [
    {
     "data": {
      "text/plain": [
       "<sklearn.metrics._plot.confusion_matrix.ConfusionMatrixDisplay at 0x1f4ab2685e0>"
      ]
     },
     "execution_count": 140,
     "metadata": {},
     "output_type": "execute_result"
    },
    {
     "data": {
      "image/png": "[encoded data removed]",
      "text/plain": [
       "<Figure size 432x288 with 2 Axes>"
      ]
     },
     "metadata": {
      "needs_background": "light"
     },
     "output_type": "display_data"
    }
   ],
   "source": [
    "plot_confusion_matrix(sgdc_pipe, X_test, y_test_enc, display_labels=target_classes) #not normalized"
   ]
  },
  {
   "cell_type": "code",
   "execution_count": 138,
   "metadata": {},
   "outputs": [
    {
     "data": {
      "text/html": [
       "<div>\n",
       "<style scoped>\n",
       "    .dataframe tbody tr th:only-of-type {\n",
       "        vertical-align: middle;\n",
       "    }\n",
       "\n",
       "    .dataframe tbody tr th {\n",
       "        vertical-align: top;\n",
       "    }\n",
       "\n",
       "    .dataframe thead th {\n",
       "        text-align: right;\n",
       "    }\n",
       "</style>\n",
       "<table border=\"1\" class=\"dataframe\">\n",
       "  <thead>\n",
       "    <tr style=\"text-align: right;\">\n",
       "      <th></th>\n",
       "      <th>features</th>\n",
       "      <th>values</th>\n",
       "      <th>abs_val</th>\n",
       "    </tr>\n",
       "  </thead>\n",
       "  <tbody>\n",
       "    <tr>\n",
       "      <th>27167</th>\n",
       "      <td>garbarino</td>\n",
       "      <td>3.823415</td>\n",
       "      <td>3.823415</td>\n",
       "    </tr>\n",
       "    <tr>\n",
       "      <th>38435</th>\n",
       "      <td>labels</td>\n",
       "      <td>3.664436</td>\n",
       "      <td>3.664436</td>\n",
       "    </tr>\n",
       "    <tr>\n",
       "      <th>50707</th>\n",
       "      <td>palzewicz</td>\n",
       "      <td>3.535424</td>\n",
       "      <td>3.535424</td>\n",
       "    </tr>\n",
       "    <tr>\n",
       "      <th>39078</th>\n",
       "      <td>lawler</td>\n",
       "      <td>3.245631</td>\n",
       "      <td>3.245631</td>\n",
       "    </tr>\n",
       "    <tr>\n",
       "      <th>33733</th>\n",
       "      <td>independent</td>\n",
       "      <td>2.957484</td>\n",
       "      <td>2.957484</td>\n",
       "    </tr>\n",
       "    <tr>\n",
       "      <th>16238</th>\n",
       "      <td>cwa</td>\n",
       "      <td>2.842450</td>\n",
       "      <td>2.842450</td>\n",
       "    </tr>\n",
       "    <tr>\n",
       "      <th>46580</th>\n",
       "      <td>nan</td>\n",
       "      <td>-2.828916</td>\n",
       "      <td>2.828916</td>\n",
       "    </tr>\n",
       "    <tr>\n",
       "      <th>59304</th>\n",
       "      <td>rock</td>\n",
       "      <td>2.608237</td>\n",
       "      <td>2.608237</td>\n",
       "    </tr>\n",
       "    <tr>\n",
       "      <th>9374</th>\n",
       "      <td>byrne</td>\n",
       "      <td>2.599994</td>\n",
       "      <td>2.599994</td>\n",
       "    </tr>\n",
       "    <tr>\n",
       "      <th>75740</th>\n",
       "      <td>weber</td>\n",
       "      <td>2.522172</td>\n",
       "      <td>2.522172</td>\n",
       "    </tr>\n",
       "    <tr>\n",
       "      <th>37292</th>\n",
       "      <td>khamis</td>\n",
       "      <td>2.486569</td>\n",
       "      <td>2.486569</td>\n",
       "    </tr>\n",
       "    <tr>\n",
       "      <th>15257</th>\n",
       "      <td>cpa</td>\n",
       "      <td>2.470368</td>\n",
       "      <td>2.470368</td>\n",
       "    </tr>\n",
       "    <tr>\n",
       "      <th>1572</th>\n",
       "      <td>albany</td>\n",
       "      <td>2.277357</td>\n",
       "      <td>2.277357</td>\n",
       "    </tr>\n",
       "    <tr>\n",
       "      <th>11336</th>\n",
       "      <td>charles</td>\n",
       "      <td>2.182164</td>\n",
       "      <td>2.182164</td>\n",
       "    </tr>\n",
       "    <tr>\n",
       "      <th>29243</th>\n",
       "      <td>gross</td>\n",
       "      <td>2.020693</td>\n",
       "      <td>2.020693</td>\n",
       "    </tr>\n",
       "    <tr>\n",
       "      <th>32459</th>\n",
       "      <td>humane</td>\n",
       "      <td>1.968085</td>\n",
       "      <td>1.968085</td>\n",
       "    </tr>\n",
       "    <tr>\n",
       "      <th>76980</th>\n",
       "      <td>woerner</td>\n",
       "      <td>1.963081</td>\n",
       "      <td>1.963081</td>\n",
       "    </tr>\n",
       "    <tr>\n",
       "      <th>26464</th>\n",
       "      <td>friend</td>\n",
       "      <td>-1.951085</td>\n",
       "      <td>1.951085</td>\n",
       "    </tr>\n",
       "    <tr>\n",
       "      <th>61388</th>\n",
       "      <td>scoop</td>\n",
       "      <td>1.909531</td>\n",
       "      <td>1.909531</td>\n",
       "    </tr>\n",
       "    <tr>\n",
       "      <th>61196</th>\n",
       "      <td>schmitt</td>\n",
       "      <td>1.906445</td>\n",
       "      <td>1.906445</td>\n",
       "    </tr>\n",
       "  </tbody>\n",
       "</table>\n",
       "</div>"
      ],
      "text/plain": [
       "          features    values   abs_val\n",
       "27167    garbarino  3.823415  3.823415\n",
       "38435       labels  3.664436  3.664436\n",
       "50707    palzewicz  3.535424  3.535424\n",
       "39078       lawler  3.245631  3.245631\n",
       "33733  independent  2.957484  2.957484\n",
       "16238          cwa  2.842450  2.842450\n",
       "46580          nan -2.828916  2.828916\n",
       "59304         rock  2.608237  2.608237\n",
       "9374         byrne  2.599994  2.599994\n",
       "75740        weber  2.522172  2.522172\n",
       "37292       khamis  2.486569  2.486569\n",
       "15257          cpa  2.470368  2.470368\n",
       "1572        albany  2.277357  2.277357\n",
       "11336      charles  2.182164  2.182164\n",
       "29243        gross  2.020693  2.020693\n",
       "32459       humane  1.968085  1.968085\n",
       "76980      woerner  1.963081  1.963081\n",
       "26464       friend -1.951085  1.951085\n",
       "61388        scoop  1.909531  1.909531\n",
       "61196      schmitt  1.906445  1.906445"
      ]
     },
     "execution_count": 138,
     "metadata": {},
     "output_type": "execute_result"
    }
   ],
   "source": [
    "#Finding the feature importances\n",
    "features = sgdc_pipe['countvectorizer'].get_feature_names()\n",
    "coefficients = sgdc_pipe['sgdclassifier'].coef_.flatten()\n",
    "\n",
    "#zip features and coefficients to form a dataframe\n",
    "feature_importances = pd.DataFrame(zip(features, coefficients), columns=['features', 'values'])\n",
    "\n",
    "#find absolute value of values\n",
    "feature_importances['abs_val'] = feature_importances['values'].apply(lambda x: abs(x))\n",
    "\n",
    "#sort values\n",
    "feature_importances.sort_values(by='abs_val', ascending=False)[:20]"
   ]
  },
  {
   "cell_type": "markdown",
   "metadata": {},
   "source": [
    "So far, the SGDClassifier models are accurate on training and testing data. However, after inspecting the important features of the model many are names which may not be generalizeable to future classification situations and impact how this model performs on unseen data. "
   ]
  },
  {
   "cell_type": "markdown",
   "metadata": {},
   "source": [
    "##  SGDClassifier with binary variable\n",
    "In this series of modeling, I am to explore if the features of a SGDClassifer model would be more generalizable using a binary target. I will train/test/split the data again after creating a binary target then model again with SGDClassifier and CountVectorizer."
   ]
  },
  {
   "cell_type": "code",
   "execution_count": 19,
   "metadata": {},
   "outputs": [],
   "source": [
    "#create new dataframe of only Liberal and Conservative emails\n",
    "data2 = data.loc[data['target'] != \"Center\"].copy() \n",
    "\n",
    "#reproduce train/test/split with binary target\n",
    "X2 = data2['text'].astype(str)\n",
    "y2 = data2['target']\n",
    "\n",
    "X_train2, X_test2, y_train2, y_test2 = train_test_split(X2, y2, random_state=42, test_size=0.35, stratify=y2)\n",
    "X_test2, X_val2, y_test2, y_val2 = train_test_split(X_test2, y_test2, random_state=42, test_size = 0.2, stratify=y_test2)\n",
    "\n",
    "from sklearn.preprocessing import LabelEncoder\n",
    "\n",
    "le = LabelEncoder()\n",
    "y_train_enc2= le.fit_transform(y_train2)\n",
    "y_test_enc2= le.transform(y_test2)\n",
    "y_val_enc2 = le.transform(y_val2)\n",
    "\n",
    "target_classes = le.classes_ #keeping this as 'target_classes' for use in model_evaluation function"
   ]
  },
  {
   "cell_type": "code",
   "execution_count": 38,
   "metadata": {},
   "outputs": [
    {
     "data": {
      "text/plain": [
       "Pipeline(steps=[('countvectorizer', CountVectorizer()),\n",
       "                ('sgdclassifier', SGDClassifier(random_state=42))])"
      ]
     },
     "execution_count": 38,
     "metadata": {},
     "output_type": "execute_result"
    }
   ],
   "source": [
    "#Make SGDC pipline for binary target. Use same parameters as before\n",
    "sgdc_binary = make_pipeline(CountVectorizer(),\n",
    "                           SGDClassifier(random_state=42))\n",
    "\n",
    "#Fit\n",
    "sgdc_binary.fit(X_train2, y_train_enc2)"
   ]
  },
  {
   "cell_type": "code",
   "execution_count": 25,
   "metadata": {},
   "outputs": [
    {
     "data": {
      "text/plain": [
       "0.9916417774850381"
      ]
     },
     "execution_count": 25,
     "metadata": {},
     "output_type": "execute_result"
    }
   ],
   "source": [
    "#Evaluation\n",
    "y_preds = sgdc_binary.predict(X_test2)\n",
    "sgdc_binary.score(X_test2, y_test_enc2)"
   ]
  },
  {
   "cell_type": "code",
   "execution_count": 39,
   "metadata": {},
   "outputs": [
    {
     "data": {
      "text/plain": [
       "<sklearn.metrics._plot.confusion_matrix.ConfusionMatrixDisplay at 0x20481d288b0>"
      ]
     },
     "execution_count": 39,
     "metadata": {},
     "output_type": "execute_result"
    },
    {
     "data": {
      "image/png": "[encoded data removed]",
      "text/plain": [
       "<Figure size 432x288 with 2 Axes>"
      ]
     },
     "metadata": {
      "needs_background": "light"
     },
     "output_type": "display_data"
    }
   ],
   "source": [
    "from sklearn.metrics import ConfusionMatrixDisplay\n",
    "ConfusionMatrixDisplay.from_estimator(sgdc_binary, X_test2, y_test_enc2, normalize='true', cmap='Blues', display_labels=le.classes_)"
   ]
  },
  {
   "cell_type": "code",
   "execution_count": 33,
   "metadata": {},
   "outputs": [
    {
     "name": "stderr",
     "output_type": "stream",
     "text": [
      "C:\\Users\\cryst\\anaconda3\\envs\\email-env\\lib\\site-packages\\sklearn\\utils\\deprecation.py:87: FutureWarning: Function get_feature_names is deprecated; get_feature_names is deprecated in 1.0 and will be removed in 1.2. Please use get_feature_names_out instead.\n",
      "  warnings.warn(msg, category=FutureWarning)\n"
     ]
    },
    {
     "data": {
      "text/html": [
       "<div>\n",
       "<style scoped>\n",
       "    .dataframe tbody tr th:only-of-type {\n",
       "        vertical-align: middle;\n",
       "    }\n",
       "\n",
       "    .dataframe tbody tr th {\n",
       "        vertical-align: top;\n",
       "    }\n",
       "\n",
       "    .dataframe thead th {\n",
       "        text-align: right;\n",
       "    }\n",
       "</style>\n",
       "<table border=\"1\" class=\"dataframe\">\n",
       "  <thead>\n",
       "    <tr style=\"text-align: right;\">\n",
       "      <th></th>\n",
       "      <th>features</th>\n",
       "      <th>values</th>\n",
       "      <th>abs_val</th>\n",
       "    </tr>\n",
       "  </thead>\n",
       "  <tbody>\n",
       "    <tr>\n",
       "      <th>33048</th>\n",
       "      <td>inc</td>\n",
       "      <td>-1.128757</td>\n",
       "      <td>1.128757</td>\n",
       "    </tr>\n",
       "    <tr>\n",
       "      <th>10325</th>\n",
       "      <td>castle</td>\n",
       "      <td>-1.108382</td>\n",
       "      <td>1.108382</td>\n",
       "    </tr>\n",
       "    <tr>\n",
       "      <th>39233</th>\n",
       "      <td>liberal</td>\n",
       "      <td>-1.047258</td>\n",
       "      <td>1.047258</td>\n",
       "    </tr>\n",
       "    <tr>\n",
       "      <th>48731</th>\n",
       "      <td>opt</td>\n",
       "      <td>-0.982059</td>\n",
       "      <td>0.982059</td>\n",
       "    </tr>\n",
       "    <tr>\n",
       "      <th>22386</th>\n",
       "      <td>error</td>\n",
       "      <td>0.925010</td>\n",
       "      <td>0.925010</td>\n",
       "    </tr>\n",
       "    <tr>\n",
       "      <th>61704</th>\n",
       "      <td>shaun</td>\n",
       "      <td>-0.904636</td>\n",
       "      <td>0.904636</td>\n",
       "    </tr>\n",
       "    <tr>\n",
       "      <th>16932</th>\n",
       "      <td>deductible</td>\n",
       "      <td>0.900561</td>\n",
       "      <td>0.900561</td>\n",
       "    </tr>\n",
       "    <tr>\n",
       "      <th>46125</th>\n",
       "      <td>nbs</td>\n",
       "      <td>0.892411</td>\n",
       "      <td>0.892411</td>\n",
       "    </tr>\n",
       "    <tr>\n",
       "      <th>20837</th>\n",
       "      <td>edit</td>\n",
       "      <td>-0.892411</td>\n",
       "      <td>0.892411</td>\n",
       "    </tr>\n",
       "    <tr>\n",
       "      <th>45857</th>\n",
       "      <td>nan</td>\n",
       "      <td>0.888336</td>\n",
       "      <td>0.888336</td>\n",
       "    </tr>\n",
       "    <tr>\n",
       "      <th>74685</th>\n",
       "      <td>weld</td>\n",
       "      <td>-0.876111</td>\n",
       "      <td>0.876111</td>\n",
       "    </tr>\n",
       "    <tr>\n",
       "      <th>39250</th>\n",
       "      <td>libertarian</td>\n",
       "      <td>-0.876111</td>\n",
       "      <td>0.876111</td>\n",
       "    </tr>\n",
       "    <tr>\n",
       "      <th>27440</th>\n",
       "      <td>gifts</td>\n",
       "      <td>0.778313</td>\n",
       "      <td>0.778313</td>\n",
       "    </tr>\n",
       "    <tr>\n",
       "      <th>63510</th>\n",
       "      <td>socialist</td>\n",
       "      <td>-0.757938</td>\n",
       "      <td>0.757938</td>\n",
       "    </tr>\n",
       "    <tr>\n",
       "      <th>24368</th>\n",
       "      <td>fewer</td>\n",
       "      <td>0.757938</td>\n",
       "      <td>0.757938</td>\n",
       "    </tr>\n",
       "    <tr>\n",
       "      <th>13864</th>\n",
       "      <td>conservative</td>\n",
       "      <td>-0.741638</td>\n",
       "      <td>0.741638</td>\n",
       "    </tr>\n",
       "    <tr>\n",
       "      <th>6906</th>\n",
       "      <td>bless</td>\n",
       "      <td>-0.733488</td>\n",
       "      <td>0.733488</td>\n",
       "    </tr>\n",
       "    <tr>\n",
       "      <th>50459</th>\n",
       "      <td>patriot</td>\n",
       "      <td>-0.721263</td>\n",
       "      <td>0.721263</td>\n",
       "    </tr>\n",
       "    <tr>\n",
       "      <th>63638</th>\n",
       "      <td>solidarity</td>\n",
       "      <td>0.713114</td>\n",
       "      <td>0.713114</td>\n",
       "    </tr>\n",
       "    <tr>\n",
       "      <th>76714</th>\n",
       "      <td>youngkimca</td>\n",
       "      <td>-0.709039</td>\n",
       "      <td>0.709039</td>\n",
       "    </tr>\n",
       "  </tbody>\n",
       "</table>\n",
       "</div>"
      ],
      "text/plain": [
       "           features    values   abs_val\n",
       "33048           inc -1.128757  1.128757\n",
       "10325        castle -1.108382  1.108382\n",
       "39233       liberal -1.047258  1.047258\n",
       "48731           opt -0.982059  0.982059\n",
       "22386         error  0.925010  0.925010\n",
       "61704         shaun -0.904636  0.904636\n",
       "16932    deductible  0.900561  0.900561\n",
       "46125           nbs  0.892411  0.892411\n",
       "20837          edit -0.892411  0.892411\n",
       "45857           nan  0.888336  0.888336\n",
       "74685          weld -0.876111  0.876111\n",
       "39250   libertarian -0.876111  0.876111\n",
       "27440         gifts  0.778313  0.778313\n",
       "63510     socialist -0.757938  0.757938\n",
       "24368         fewer  0.757938  0.757938\n",
       "13864  conservative -0.741638  0.741638\n",
       "6906          bless -0.733488  0.733488\n",
       "50459       patriot -0.721263  0.721263\n",
       "63638    solidarity  0.713114  0.713114\n",
       "76714    youngkimca -0.709039  0.709039"
      ]
     },
     "execution_count": 33,
     "metadata": {},
     "output_type": "execute_result"
    }
   ],
   "source": [
    "#Finding the feature importances\n",
    "features = sgdc_binary['countvectorizer'].get_feature_names()\n",
    "coefficients = sgdc_binary['sgdclassifier'].coef_.flatten()\n",
    "\n",
    "#zip features and coefficients to form a dataframe\n",
    "feature_importances = pd.DataFrame(zip(features, coefficients), columns=['features', 'values'])\n",
    "\n",
    "#find absolute value of values\n",
    "feature_importances['abs_val'] = feature_importances['values'].apply(lambda x: abs(x))\n",
    "\n",
    "#sort values\n",
    "feature_importances.sort_values(by='abs_val', ascending=False)[:20]"
   ]
  },
  {
   "cell_type": "markdown",
   "metadata": {},
   "source": [
    "The top features of this list are different from the multi-class target. It contains fewer names and more politically-charged words. \n",
    "\n",
    "In the next model I will tune the vectorizer to reduce the demensionality of the words. "
   ]
  },
  {
   "cell_type": "code",
   "execution_count": 40,
   "metadata": {},
   "outputs": [
    {
     "name": "stdout",
     "output_type": "stream",
     "text": [
      "0.973324096891786\n"
     ]
    },
    {
     "data": {
      "text/plain": [
       "<sklearn.metrics._plot.confusion_matrix.ConfusionMatrixDisplay at 0x20480b40430>"
      ]
     },
     "execution_count": 40,
     "metadata": {},
     "output_type": "execute_result"
    },
    {
     "data": {
      "image/png": "[encoded data removed]",
      "text/plain": [
       "<Figure size 432x288 with 2 Axes>"
      ]
     },
     "metadata": {
      "needs_background": "light"
     },
     "output_type": "display_data"
    }
   ],
   "source": [
    "#Set parameter\n",
    "sgdc_binary.set_params(countvectorizer__min_df=0.02, countvectorizer__max_df=0.99)\n",
    "\n",
    "#Fit\n",
    "sgdc_binary.fit(X_train2, y_train_enc2)\n",
    "\n",
    "#Evaluation\n",
    "#model_evaluation('sgdc_binary2', sgdc_binary, X_train2, y_train_enc2, X_test2, y_test_enc2)\n",
    "print (sgdc_binary.score(X_test2, y_test_enc2))\n",
    "\n",
    "ConfusionMatrixDisplay.from_estimator(sgdc_binary, X_test2, y_test_enc2, normalize='true', cmap='Blues', display_labels=le.classes_)"
   ]
  },
  {
   "cell_type": "code",
   "execution_count": 41,
   "metadata": {},
   "outputs": [
    {
     "name": "stderr",
     "output_type": "stream",
     "text": [
      "C:\\Users\\cryst\\anaconda3\\envs\\email-env\\lib\\site-packages\\sklearn\\utils\\deprecation.py:87: FutureWarning: Function get_feature_names is deprecated; get_feature_names is deprecated in 1.0 and will be removed in 1.2. Please use get_feature_names_out instead.\n",
      "  warnings.warn(msg, category=FutureWarning)\n"
     ]
    },
    {
     "data": {
      "text/html": [
       "<div>\n",
       "<style scoped>\n",
       "    .dataframe tbody tr th:only-of-type {\n",
       "        vertical-align: middle;\n",
       "    }\n",
       "\n",
       "    .dataframe tbody tr th {\n",
       "        vertical-align: top;\n",
       "    }\n",
       "\n",
       "    .dataframe thead th {\n",
       "        text-align: right;\n",
       "    }\n",
       "</style>\n",
       "<table border=\"1\" class=\"dataframe\">\n",
       "  <thead>\n",
       "    <tr style=\"text-align: right;\">\n",
       "      <th></th>\n",
       "      <th>features</th>\n",
       "      <th>values</th>\n",
       "      <th>abs_val</th>\n",
       "    </tr>\n",
       "  </thead>\n",
       "  <tbody>\n",
       "    <tr>\n",
       "      <th>629</th>\n",
       "      <td>liberal</td>\n",
       "      <td>-1.782929</td>\n",
       "      <td>1.782929</td>\n",
       "    </tr>\n",
       "    <tr>\n",
       "      <th>282</th>\n",
       "      <td>deductible</td>\n",
       "      <td>1.565065</td>\n",
       "      <td>1.565065</td>\n",
       "    </tr>\n",
       "    <tr>\n",
       "      <th>9</th>\n",
       "      <td>actblue</td>\n",
       "      <td>1.505041</td>\n",
       "      <td>1.505041</td>\n",
       "    </tr>\n",
       "    <tr>\n",
       "      <th>796</th>\n",
       "      <td>patriot</td>\n",
       "      <td>-1.391663</td>\n",
       "      <td>1.391663</td>\n",
       "    </tr>\n",
       "    <tr>\n",
       "      <th>466</th>\n",
       "      <td>gifts</td>\n",
       "      <td>1.389439</td>\n",
       "      <td>1.389439</td>\n",
       "    </tr>\n",
       "    <tr>\n",
       "      <th>797</th>\n",
       "      <td>patriots</td>\n",
       "      <td>-1.349424</td>\n",
       "      <td>1.349424</td>\n",
       "    </tr>\n",
       "    <tr>\n",
       "      <th>772</th>\n",
       "      <td>opt</td>\n",
       "      <td>-1.313854</td>\n",
       "      <td>1.313854</td>\n",
       "    </tr>\n",
       "    <tr>\n",
       "      <th>168</th>\n",
       "      <td>charitable</td>\n",
       "      <td>-1.282730</td>\n",
       "      <td>1.282730</td>\n",
       "    </tr>\n",
       "    <tr>\n",
       "      <th>1033</th>\n",
       "      <td>socialist</td>\n",
       "      <td>-1.273838</td>\n",
       "      <td>1.273838</td>\n",
       "    </tr>\n",
       "    <tr>\n",
       "      <th>220</th>\n",
       "      <td>conservatives</td>\n",
       "      <td>-1.167129</td>\n",
       "      <td>1.167129</td>\n",
       "    </tr>\n",
       "    <tr>\n",
       "      <th>219</th>\n",
       "      <td>conservative</td>\n",
       "      <td>-1.133783</td>\n",
       "      <td>1.133783</td>\n",
       "    </tr>\n",
       "    <tr>\n",
       "      <th>365</th>\n",
       "      <td>error</td>\n",
       "      <td>1.109328</td>\n",
       "      <td>1.109328</td>\n",
       "    </tr>\n",
       "    <tr>\n",
       "      <th>556</th>\n",
       "      <td>inc</td>\n",
       "      <td>-1.055974</td>\n",
       "      <td>1.055974</td>\n",
       "    </tr>\n",
       "    <tr>\n",
       "      <th>233</th>\n",
       "      <td>copyright</td>\n",
       "      <td>-1.024851</td>\n",
       "      <td>1.024851</td>\n",
       "    </tr>\n",
       "    <tr>\n",
       "      <th>291</th>\n",
       "      <td>democracy</td>\n",
       "      <td>0.960381</td>\n",
       "      <td>0.960381</td>\n",
       "    </tr>\n",
       "    <tr>\n",
       "      <th>859</th>\n",
       "      <td>progressive</td>\n",
       "      <td>0.955934</td>\n",
       "      <td>0.955934</td>\n",
       "    </tr>\n",
       "    <tr>\n",
       "      <th>408</th>\n",
       "      <td>fewer</td>\n",
       "      <td>0.949265</td>\n",
       "      <td>0.949265</td>\n",
       "    </tr>\n",
       "    <tr>\n",
       "      <th>855</th>\n",
       "      <td>profile</td>\n",
       "      <td>-0.929257</td>\n",
       "      <td>0.929257</td>\n",
       "    </tr>\n",
       "    <tr>\n",
       "      <th>844</th>\n",
       "      <td>prefer</td>\n",
       "      <td>-0.924811</td>\n",
       "      <td>0.924811</td>\n",
       "    </tr>\n",
       "    <tr>\n",
       "      <th>845</th>\n",
       "      <td>preferences</td>\n",
       "      <td>-0.922588</td>\n",
       "      <td>0.922588</td>\n",
       "    </tr>\n",
       "  </tbody>\n",
       "</table>\n",
       "</div>"
      ],
      "text/plain": [
       "           features    values   abs_val\n",
       "629         liberal -1.782929  1.782929\n",
       "282      deductible  1.565065  1.565065\n",
       "9           actblue  1.505041  1.505041\n",
       "796         patriot -1.391663  1.391663\n",
       "466           gifts  1.389439  1.389439\n",
       "797        patriots -1.349424  1.349424\n",
       "772             opt -1.313854  1.313854\n",
       "168      charitable -1.282730  1.282730\n",
       "1033      socialist -1.273838  1.273838\n",
       "220   conservatives -1.167129  1.167129\n",
       "219    conservative -1.133783  1.133783\n",
       "365           error  1.109328  1.109328\n",
       "556             inc -1.055974  1.055974\n",
       "233       copyright -1.024851  1.024851\n",
       "291       democracy  0.960381  0.960381\n",
       "859     progressive  0.955934  0.955934\n",
       "408           fewer  0.949265  0.949265\n",
       "855         profile -0.929257  0.929257\n",
       "844          prefer -0.924811  0.924811\n",
       "845     preferences -0.922588  0.922588"
      ]
     },
     "execution_count": 41,
     "metadata": {},
     "output_type": "execute_result"
    }
   ],
   "source": [
    "#Finding the feature importances\n",
    "features = sgdc_binary['countvectorizer'].get_feature_names()\n",
    "coefficients = sgdc_binary['sgdclassifier'].coef_.flatten()\n",
    "\n",
    "#zip features and coefficients to form a dataframe\n",
    "feature_importances = pd.DataFrame(zip(features, coefficients), columns=['features', 'values'])\n",
    "\n",
    "#find absolute value of values\n",
    "feature_importances['abs_val'] = feature_importances['values'].apply(lambda x: abs(x))\n",
    "\n",
    "#sort values\n",
    "feature_importances.sort_values(by='abs_val', ascending=False)[:20]"
   ]
  },
  {
   "cell_type": "code",
   "execution_count": 42,
   "metadata": {},
   "outputs": [
    {
     "name": "stdout",
     "output_type": "stream",
     "text": [
      "1266 features in sgdc_binary2\n"
     ]
    }
   ],
   "source": [
    "print(f'{len(feature_importances)} features in sgdc_binary2')"
   ]
  },
  {
   "cell_type": "markdown",
   "metadata": {},
   "source": [
    "Reducing the number of features decreased the accuracy score from 99% to 97%. The model continues to perform well and better than the baseline. For the next model I will tune the CountVectorizer to allow for more features with the aim of increasing the accuracy score. "
   ]
  },
  {
   "cell_type": "code",
   "execution_count": 43,
   "metadata": {},
   "outputs": [
    {
     "name": "stdout",
     "output_type": "stream",
     "text": [
      "0.9782754352294537\n"
     ]
    },
    {
     "data": {
      "text/plain": [
       "<sklearn.metrics._plot.confusion_matrix.ConfusionMatrixDisplay at 0x2048081fd60>"
      ]
     },
     "execution_count": 43,
     "metadata": {},
     "output_type": "execute_result"
    },
    {
     "data": {
      "image/png": "[encoded data removed]",
      "text/plain": [
       "<Figure size 432x288 with 2 Axes>"
      ]
     },
     "metadata": {
      "needs_background": "light"
     },
     "output_type": "display_data"
    }
   ],
   "source": [
    "#adjust max_df parameter\n",
    "sgdc_binary.set_params(countvectorizer__max_df=1.0, countvectorizer__min_df=0.01)\n",
    "\n",
    "#Fit\n",
    "sgdc_binary.fit(X_train2, y_train_enc2)\n",
    "\n",
    "#Evaluation\n",
    "#model_evaluation('sgdc_binary3', sgdc_binary, X_train2, y_train_enc2, X_test2, y_test_enc2)\n",
    "print(sgdc_binary.score(X_test2, y_test_enc2))\n",
    "ConfusionMatrixDisplay.from_estimator(sgdc_binary, X_test2, y_test_enc2, normalize='true', cmap='Blues', display_labels=le.classes_)"
   ]
  },
  {
   "cell_type": "code",
   "execution_count": 44,
   "metadata": {},
   "outputs": [
    {
     "name": "stderr",
     "output_type": "stream",
     "text": [
      "C:\\Users\\cryst\\anaconda3\\envs\\email-env\\lib\\site-packages\\sklearn\\utils\\deprecation.py:87: FutureWarning: Function get_feature_names is deprecated; get_feature_names is deprecated in 1.0 and will be removed in 1.2. Please use get_feature_names_out instead.\n",
      "  warnings.warn(msg, category=FutureWarning)\n"
     ]
    },
    {
     "data": {
      "text/html": [
       "<div>\n",
       "<style scoped>\n",
       "    .dataframe tbody tr th:only-of-type {\n",
       "        vertical-align: middle;\n",
       "    }\n",
       "\n",
       "    .dataframe tbody tr th {\n",
       "        vertical-align: top;\n",
       "    }\n",
       "\n",
       "    .dataframe thead th {\n",
       "        text-align: right;\n",
       "    }\n",
       "</style>\n",
       "<table border=\"1\" class=\"dataframe\">\n",
       "  <thead>\n",
       "    <tr style=\"text-align: right;\">\n",
       "      <th></th>\n",
       "      <th>features</th>\n",
       "      <th>values</th>\n",
       "      <th>abs_val</th>\n",
       "    </tr>\n",
       "  </thead>\n",
       "  <tbody>\n",
       "    <tr>\n",
       "      <th>442</th>\n",
       "      <td>deductible</td>\n",
       "      <td>1.627311</td>\n",
       "      <td>1.627311</td>\n",
       "    </tr>\n",
       "    <tr>\n",
       "      <th>972</th>\n",
       "      <td>liberal</td>\n",
       "      <td>-1.573957</td>\n",
       "      <td>1.573957</td>\n",
       "    </tr>\n",
       "    <tr>\n",
       "      <th>1204</th>\n",
       "      <td>opt</td>\n",
       "      <td>-1.362762</td>\n",
       "      <td>1.362762</td>\n",
       "    </tr>\n",
       "    <tr>\n",
       "      <th>16</th>\n",
       "      <td>actblue</td>\n",
       "      <td>1.318300</td>\n",
       "      <td>1.318300</td>\n",
       "    </tr>\n",
       "    <tr>\n",
       "      <th>1242</th>\n",
       "      <td>patriots</td>\n",
       "      <td>-1.293846</td>\n",
       "      <td>1.293846</td>\n",
       "    </tr>\n",
       "    <tr>\n",
       "      <th>1593</th>\n",
       "      <td>socialist</td>\n",
       "      <td>-1.262723</td>\n",
       "      <td>1.262723</td>\n",
       "    </tr>\n",
       "    <tr>\n",
       "      <th>1241</th>\n",
       "      <td>patriot</td>\n",
       "      <td>-1.260499</td>\n",
       "      <td>1.260499</td>\n",
       "    </tr>\n",
       "    <tr>\n",
       "      <th>344</th>\n",
       "      <td>conservative</td>\n",
       "      <td>-1.220484</td>\n",
       "      <td>1.220484</td>\n",
       "    </tr>\n",
       "    <tr>\n",
       "      <th>257</th>\n",
       "      <td>charitable</td>\n",
       "      <td>-1.193806</td>\n",
       "      <td>1.193806</td>\n",
       "    </tr>\n",
       "    <tr>\n",
       "      <th>723</th>\n",
       "      <td>gifts</td>\n",
       "      <td>1.184914</td>\n",
       "      <td>1.184914</td>\n",
       "    </tr>\n",
       "    <tr>\n",
       "      <th>1449</th>\n",
       "      <td>reproductive</td>\n",
       "      <td>1.160460</td>\n",
       "      <td>1.160460</td>\n",
       "    </tr>\n",
       "    <tr>\n",
       "      <th>567</th>\n",
       "      <td>error</td>\n",
       "      <td>1.129336</td>\n",
       "      <td>1.129336</td>\n",
       "    </tr>\n",
       "    <tr>\n",
       "      <th>855</th>\n",
       "      <td>inc</td>\n",
       "      <td>-1.109328</td>\n",
       "      <td>1.109328</td>\n",
       "    </tr>\n",
       "    <tr>\n",
       "      <th>881</th>\n",
       "      <td>intended</td>\n",
       "      <td>-1.082651</td>\n",
       "      <td>1.082651</td>\n",
       "    </tr>\n",
       "    <tr>\n",
       "      <th>345</th>\n",
       "      <td>conservatives</td>\n",
       "      <td>-1.078205</td>\n",
       "      <td>1.078205</td>\n",
       "    </tr>\n",
       "    <tr>\n",
       "      <th>1595</th>\n",
       "      <td>solidarity</td>\n",
       "      <td>1.073759</td>\n",
       "      <td>1.073759</td>\n",
       "    </tr>\n",
       "    <tr>\n",
       "      <th>975</th>\n",
       "      <td>liberty</td>\n",
       "      <td>-1.058197</td>\n",
       "      <td>1.058197</td>\n",
       "    </tr>\n",
       "    <tr>\n",
       "      <th>1320</th>\n",
       "      <td>privacy</td>\n",
       "      <td>-1.029297</td>\n",
       "      <td>1.029297</td>\n",
       "    </tr>\n",
       "    <tr>\n",
       "      <th>453</th>\n",
       "      <td>democracy</td>\n",
       "      <td>1.018181</td>\n",
       "      <td>1.018181</td>\n",
       "    </tr>\n",
       "    <tr>\n",
       "      <th>1305</th>\n",
       "      <td>preferences</td>\n",
       "      <td>-1.004843</td>\n",
       "      <td>1.004843</td>\n",
       "    </tr>\n",
       "  </tbody>\n",
       "</table>\n",
       "</div>"
      ],
      "text/plain": [
       "           features    values   abs_val\n",
       "442      deductible  1.627311  1.627311\n",
       "972         liberal -1.573957  1.573957\n",
       "1204            opt -1.362762  1.362762\n",
       "16          actblue  1.318300  1.318300\n",
       "1242       patriots -1.293846  1.293846\n",
       "1593      socialist -1.262723  1.262723\n",
       "1241        patriot -1.260499  1.260499\n",
       "344    conservative -1.220484  1.220484\n",
       "257      charitable -1.193806  1.193806\n",
       "723           gifts  1.184914  1.184914\n",
       "1449   reproductive  1.160460  1.160460\n",
       "567           error  1.129336  1.129336\n",
       "855             inc -1.109328  1.109328\n",
       "881        intended -1.082651  1.082651\n",
       "345   conservatives -1.078205  1.078205\n",
       "1595     solidarity  1.073759  1.073759\n",
       "975         liberty -1.058197  1.058197\n",
       "1320        privacy -1.029297  1.029297\n",
       "453       democracy  1.018181  1.018181\n",
       "1305    preferences -1.004843  1.004843"
      ]
     },
     "execution_count": 44,
     "metadata": {},
     "output_type": "execute_result"
    }
   ],
   "source": [
    "#Finding the feature importances\n",
    "features = sgdc_binary['countvectorizer'].get_feature_names()\n",
    "coefficients = sgdc_binary['sgdclassifier'].coef_.flatten()\n",
    "\n",
    "#zip features and coefficients to form a dataframe\n",
    "feature_importances = pd.DataFrame(zip(features, coefficients), columns=['features', 'values'])\n",
    "\n",
    "#find absolute value of values\n",
    "feature_importances['abs_val'] = feature_importances['values'].apply(lambda x: abs(x))\n",
    "\n",
    "#sort values\n",
    "feature_importances.sort_values(by='abs_val', ascending=False)[:20]"
   ]
  },
  {
   "cell_type": "markdown",
   "metadata": {},
   "source": [
    "# FINAL WITH VAL"
   ]
  },
  {
   "cell_type": "code",
   "execution_count": 67,
   "metadata": {},
   "outputs": [
    {
     "name": "stdout",
     "output_type": "stream",
     "text": [
      "0.9791051555757438\n"
     ]
    },
    {
     "data": {
      "text/plain": [
       "<sklearn.metrics._plot.confusion_matrix.ConfusionMatrixDisplay at 0x2048369ab50>"
      ]
     },
     "execution_count": 67,
     "metadata": {},
     "output_type": "execute_result"
    },
    {
     "data": {
      "image/png": "[encoded data removed]",
      "text/plain": [
       "<Figure size 432x288 with 2 Axes>"
      ]
     },
     "metadata": {
      "needs_background": "light"
     },
     "output_type": "display_data"
    }
   ],
   "source": [
    "#adjust max_df parameter\n",
    "sgdc_binary.set_params(countvectorizer__max_df=1.0, countvectorizer__min_df=0.01)\n",
    "\n",
    "#Fit\n",
    "sgdc_binary.fit(X_train2, y_train_enc2)\n",
    "\n",
    "#Evaluation\n",
    "#model_evaluation('sgdc_binary3', sgdc_binary, X_train2, y_train_enc2, X_test2, y_test_enc2)\n",
    "print(sgdc_binary.score(X_val2, y_val_enc2))\n",
    "ConfusionMatrixDisplay.from_estimator(sgdc_binary, X_val2, y_val_enc2, normalize='true', cmap='Blues', display_labels=le.classes_)"
   ]
  },
  {
   "cell_type": "code",
   "execution_count": 68,
   "metadata": {},
   "outputs": [
    {
     "name": "stderr",
     "output_type": "stream",
     "text": [
      "C:\\Users\\cryst\\anaconda3\\envs\\email-env\\lib\\site-packages\\sklearn\\utils\\deprecation.py:87: FutureWarning: Function get_feature_names is deprecated; get_feature_names is deprecated in 1.0 and will be removed in 1.2. Please use get_feature_names_out instead.\n",
      "  warnings.warn(msg, category=FutureWarning)\n"
     ]
    },
    {
     "data": {
      "text/html": [
       "<div>\n",
       "<style scoped>\n",
       "    .dataframe tbody tr th:only-of-type {\n",
       "        vertical-align: middle;\n",
       "    }\n",
       "\n",
       "    .dataframe tbody tr th {\n",
       "        vertical-align: top;\n",
       "    }\n",
       "\n",
       "    .dataframe thead th {\n",
       "        text-align: right;\n",
       "    }\n",
       "</style>\n",
       "<table border=\"1\" class=\"dataframe\">\n",
       "  <thead>\n",
       "    <tr style=\"text-align: right;\">\n",
       "      <th></th>\n",
       "      <th>features</th>\n",
       "      <th>values</th>\n",
       "      <th>abs_val</th>\n",
       "    </tr>\n",
       "  </thead>\n",
       "  <tbody>\n",
       "    <tr>\n",
       "      <th>442</th>\n",
       "      <td>deductible</td>\n",
       "      <td>1.627311</td>\n",
       "      <td>1.627311</td>\n",
       "    </tr>\n",
       "    <tr>\n",
       "      <th>972</th>\n",
       "      <td>liberal</td>\n",
       "      <td>-1.573957</td>\n",
       "      <td>1.573957</td>\n",
       "    </tr>\n",
       "    <tr>\n",
       "      <th>1204</th>\n",
       "      <td>opt</td>\n",
       "      <td>-1.362762</td>\n",
       "      <td>1.362762</td>\n",
       "    </tr>\n",
       "    <tr>\n",
       "      <th>16</th>\n",
       "      <td>actblue</td>\n",
       "      <td>1.318300</td>\n",
       "      <td>1.318300</td>\n",
       "    </tr>\n",
       "    <tr>\n",
       "      <th>1242</th>\n",
       "      <td>patriots</td>\n",
       "      <td>-1.293846</td>\n",
       "      <td>1.293846</td>\n",
       "    </tr>\n",
       "    <tr>\n",
       "      <th>1593</th>\n",
       "      <td>socialist</td>\n",
       "      <td>-1.262723</td>\n",
       "      <td>1.262723</td>\n",
       "    </tr>\n",
       "    <tr>\n",
       "      <th>1241</th>\n",
       "      <td>patriot</td>\n",
       "      <td>-1.260499</td>\n",
       "      <td>1.260499</td>\n",
       "    </tr>\n",
       "    <tr>\n",
       "      <th>344</th>\n",
       "      <td>conservative</td>\n",
       "      <td>-1.220484</td>\n",
       "      <td>1.220484</td>\n",
       "    </tr>\n",
       "    <tr>\n",
       "      <th>257</th>\n",
       "      <td>charitable</td>\n",
       "      <td>-1.193806</td>\n",
       "      <td>1.193806</td>\n",
       "    </tr>\n",
       "    <tr>\n",
       "      <th>723</th>\n",
       "      <td>gifts</td>\n",
       "      <td>1.184914</td>\n",
       "      <td>1.184914</td>\n",
       "    </tr>\n",
       "    <tr>\n",
       "      <th>1449</th>\n",
       "      <td>reproductive</td>\n",
       "      <td>1.160460</td>\n",
       "      <td>1.160460</td>\n",
       "    </tr>\n",
       "    <tr>\n",
       "      <th>567</th>\n",
       "      <td>error</td>\n",
       "      <td>1.129336</td>\n",
       "      <td>1.129336</td>\n",
       "    </tr>\n",
       "    <tr>\n",
       "      <th>855</th>\n",
       "      <td>inc</td>\n",
       "      <td>-1.109328</td>\n",
       "      <td>1.109328</td>\n",
       "    </tr>\n",
       "    <tr>\n",
       "      <th>881</th>\n",
       "      <td>intended</td>\n",
       "      <td>-1.082651</td>\n",
       "      <td>1.082651</td>\n",
       "    </tr>\n",
       "    <tr>\n",
       "      <th>345</th>\n",
       "      <td>conservatives</td>\n",
       "      <td>-1.078205</td>\n",
       "      <td>1.078205</td>\n",
       "    </tr>\n",
       "    <tr>\n",
       "      <th>1595</th>\n",
       "      <td>solidarity</td>\n",
       "      <td>1.073759</td>\n",
       "      <td>1.073759</td>\n",
       "    </tr>\n",
       "    <tr>\n",
       "      <th>975</th>\n",
       "      <td>liberty</td>\n",
       "      <td>-1.058197</td>\n",
       "      <td>1.058197</td>\n",
       "    </tr>\n",
       "    <tr>\n",
       "      <th>1320</th>\n",
       "      <td>privacy</td>\n",
       "      <td>-1.029297</td>\n",
       "      <td>1.029297</td>\n",
       "    </tr>\n",
       "    <tr>\n",
       "      <th>453</th>\n",
       "      <td>democracy</td>\n",
       "      <td>1.018181</td>\n",
       "      <td>1.018181</td>\n",
       "    </tr>\n",
       "    <tr>\n",
       "      <th>1305</th>\n",
       "      <td>preferences</td>\n",
       "      <td>-1.004843</td>\n",
       "      <td>1.004843</td>\n",
       "    </tr>\n",
       "  </tbody>\n",
       "</table>\n",
       "</div>"
      ],
      "text/plain": [
       "           features    values   abs_val\n",
       "442      deductible  1.627311  1.627311\n",
       "972         liberal -1.573957  1.573957\n",
       "1204            opt -1.362762  1.362762\n",
       "16          actblue  1.318300  1.318300\n",
       "1242       patriots -1.293846  1.293846\n",
       "1593      socialist -1.262723  1.262723\n",
       "1241        patriot -1.260499  1.260499\n",
       "344    conservative -1.220484  1.220484\n",
       "257      charitable -1.193806  1.193806\n",
       "723           gifts  1.184914  1.184914\n",
       "1449   reproductive  1.160460  1.160460\n",
       "567           error  1.129336  1.129336\n",
       "855             inc -1.109328  1.109328\n",
       "881        intended -1.082651  1.082651\n",
       "345   conservatives -1.078205  1.078205\n",
       "1595     solidarity  1.073759  1.073759\n",
       "975         liberty -1.058197  1.058197\n",
       "1320        privacy -1.029297  1.029297\n",
       "453       democracy  1.018181  1.018181\n",
       "1305    preferences -1.004843  1.004843"
      ]
     },
     "execution_count": 68,
     "metadata": {},
     "output_type": "execute_result"
    }
   ],
   "source": [
    "#Finding the feature importances\n",
    "features = sgdc_binary['countvectorizer'].get_feature_names()\n",
    "coefficients = sgdc_binary['sgdclassifier'].coef_.flatten()\n",
    "\n",
    "#zip features and coefficients to form a dataframe\n",
    "feature_importances = pd.DataFrame(zip(features, coefficients), columns=['features', 'values'])\n",
    "\n",
    "#find absolute value of values\n",
    "feature_importances['abs_val'] = feature_importances['values'].apply(lambda x: abs(x))\n",
    "\n",
    "#sort values\n",
    "feature_importances.sort_values(by='abs_val', ascending=False)[:20]"
   ]
  },
  {
   "cell_type": "code",
   "execution_count": 69,
   "metadata": {},
   "outputs": [
    {
     "name": "stdout",
     "output_type": "stream",
     "text": [
      "0.9743356802180332\n"
     ]
    },
    {
     "data": {
      "text/plain": [
       "<sklearn.metrics._plot.confusion_matrix.ConfusionMatrixDisplay at 0x2048183d2b0>"
      ]
     },
     "execution_count": 69,
     "metadata": {},
     "output_type": "execute_result"
    },
    {
     "data": {
      "image/png": "[encoded data removed]",
      "text/plain": [
       "<Figure size 432x288 with 2 Axes>"
      ]
     },
     "metadata": {
      "needs_background": "light"
     },
     "output_type": "display_data"
    }
   ],
   "source": [
    "#Set parameter\n",
    "sgdc_binary.set_params(countvectorizer__min_df=0.02, countvectorizer__max_df=0.99)\n",
    "\n",
    "#Fit\n",
    "sgdc_binary.fit(X_train2, y_train_enc2)\n",
    "\n",
    "#Evaluation\n",
    "#model_evaluation('sgdc_binary2', sgdc_binary, X_train2, y_train_enc2, X_test2, y_test_enc2)\n",
    "print (sgdc_binary.score(X_val2, y_val_enc2))\n",
    "\n",
    "ConfusionMatrixDisplay.from_estimator(sgdc_binary, X_val2, y_val_enc2, normalize='true', cmap='Blues', display_labels=le.classes_)"
   ]
  },
  {
   "cell_type": "code",
   "execution_count": 70,
   "metadata": {},
   "outputs": [
    {
     "name": "stderr",
     "output_type": "stream",
     "text": [
      "C:\\Users\\cryst\\anaconda3\\envs\\email-env\\lib\\site-packages\\sklearn\\utils\\deprecation.py:87: FutureWarning: Function get_feature_names is deprecated; get_feature_names is deprecated in 1.0 and will be removed in 1.2. Please use get_feature_names_out instead.\n",
      "  warnings.warn(msg, category=FutureWarning)\n"
     ]
    },
    {
     "data": {
      "text/html": [
       "<div>\n",
       "<style scoped>\n",
       "    .dataframe tbody tr th:only-of-type {\n",
       "        vertical-align: middle;\n",
       "    }\n",
       "\n",
       "    .dataframe tbody tr th {\n",
       "        vertical-align: top;\n",
       "    }\n",
       "\n",
       "    .dataframe thead th {\n",
       "        text-align: right;\n",
       "    }\n",
       "</style>\n",
       "<table border=\"1\" class=\"dataframe\">\n",
       "  <thead>\n",
       "    <tr style=\"text-align: right;\">\n",
       "      <th></th>\n",
       "      <th>features</th>\n",
       "      <th>values</th>\n",
       "      <th>abs_val</th>\n",
       "    </tr>\n",
       "  </thead>\n",
       "  <tbody>\n",
       "    <tr>\n",
       "      <th>629</th>\n",
       "      <td>liberal</td>\n",
       "      <td>-1.782929</td>\n",
       "      <td>1.782929</td>\n",
       "    </tr>\n",
       "    <tr>\n",
       "      <th>282</th>\n",
       "      <td>deductible</td>\n",
       "      <td>1.565065</td>\n",
       "      <td>1.565065</td>\n",
       "    </tr>\n",
       "    <tr>\n",
       "      <th>9</th>\n",
       "      <td>actblue</td>\n",
       "      <td>1.505041</td>\n",
       "      <td>1.505041</td>\n",
       "    </tr>\n",
       "    <tr>\n",
       "      <th>796</th>\n",
       "      <td>patriot</td>\n",
       "      <td>-1.391663</td>\n",
       "      <td>1.391663</td>\n",
       "    </tr>\n",
       "    <tr>\n",
       "      <th>466</th>\n",
       "      <td>gifts</td>\n",
       "      <td>1.389439</td>\n",
       "      <td>1.389439</td>\n",
       "    </tr>\n",
       "    <tr>\n",
       "      <th>797</th>\n",
       "      <td>patriots</td>\n",
       "      <td>-1.349424</td>\n",
       "      <td>1.349424</td>\n",
       "    </tr>\n",
       "    <tr>\n",
       "      <th>772</th>\n",
       "      <td>opt</td>\n",
       "      <td>-1.313854</td>\n",
       "      <td>1.313854</td>\n",
       "    </tr>\n",
       "    <tr>\n",
       "      <th>168</th>\n",
       "      <td>charitable</td>\n",
       "      <td>-1.282730</td>\n",
       "      <td>1.282730</td>\n",
       "    </tr>\n",
       "    <tr>\n",
       "      <th>1033</th>\n",
       "      <td>socialist</td>\n",
       "      <td>-1.273838</td>\n",
       "      <td>1.273838</td>\n",
       "    </tr>\n",
       "    <tr>\n",
       "      <th>220</th>\n",
       "      <td>conservatives</td>\n",
       "      <td>-1.167129</td>\n",
       "      <td>1.167129</td>\n",
       "    </tr>\n",
       "    <tr>\n",
       "      <th>219</th>\n",
       "      <td>conservative</td>\n",
       "      <td>-1.133783</td>\n",
       "      <td>1.133783</td>\n",
       "    </tr>\n",
       "    <tr>\n",
       "      <th>365</th>\n",
       "      <td>error</td>\n",
       "      <td>1.109328</td>\n",
       "      <td>1.109328</td>\n",
       "    </tr>\n",
       "    <tr>\n",
       "      <th>556</th>\n",
       "      <td>inc</td>\n",
       "      <td>-1.055974</td>\n",
       "      <td>1.055974</td>\n",
       "    </tr>\n",
       "    <tr>\n",
       "      <th>233</th>\n",
       "      <td>copyright</td>\n",
       "      <td>-1.024851</td>\n",
       "      <td>1.024851</td>\n",
       "    </tr>\n",
       "    <tr>\n",
       "      <th>291</th>\n",
       "      <td>democracy</td>\n",
       "      <td>0.960381</td>\n",
       "      <td>0.960381</td>\n",
       "    </tr>\n",
       "    <tr>\n",
       "      <th>859</th>\n",
       "      <td>progressive</td>\n",
       "      <td>0.955934</td>\n",
       "      <td>0.955934</td>\n",
       "    </tr>\n",
       "    <tr>\n",
       "      <th>408</th>\n",
       "      <td>fewer</td>\n",
       "      <td>0.949265</td>\n",
       "      <td>0.949265</td>\n",
       "    </tr>\n",
       "    <tr>\n",
       "      <th>855</th>\n",
       "      <td>profile</td>\n",
       "      <td>-0.929257</td>\n",
       "      <td>0.929257</td>\n",
       "    </tr>\n",
       "    <tr>\n",
       "      <th>844</th>\n",
       "      <td>prefer</td>\n",
       "      <td>-0.924811</td>\n",
       "      <td>0.924811</td>\n",
       "    </tr>\n",
       "    <tr>\n",
       "      <th>845</th>\n",
       "      <td>preferences</td>\n",
       "      <td>-0.922588</td>\n",
       "      <td>0.922588</td>\n",
       "    </tr>\n",
       "  </tbody>\n",
       "</table>\n",
       "</div>"
      ],
      "text/plain": [
       "           features    values   abs_val\n",
       "629         liberal -1.782929  1.782929\n",
       "282      deductible  1.565065  1.565065\n",
       "9           actblue  1.505041  1.505041\n",
       "796         patriot -1.391663  1.391663\n",
       "466           gifts  1.389439  1.389439\n",
       "797        patriots -1.349424  1.349424\n",
       "772             opt -1.313854  1.313854\n",
       "168      charitable -1.282730  1.282730\n",
       "1033      socialist -1.273838  1.273838\n",
       "220   conservatives -1.167129  1.167129\n",
       "219    conservative -1.133783  1.133783\n",
       "365           error  1.109328  1.109328\n",
       "556             inc -1.055974  1.055974\n",
       "233       copyright -1.024851  1.024851\n",
       "291       democracy  0.960381  0.960381\n",
       "859     progressive  0.955934  0.955934\n",
       "408           fewer  0.949265  0.949265\n",
       "855         profile -0.929257  0.929257\n",
       "844          prefer -0.924811  0.924811\n",
       "845     preferences -0.922588  0.922588"
      ]
     },
     "execution_count": 70,
     "metadata": {},
     "output_type": "execute_result"
    }
   ],
   "source": [
    "#Finding the feature importances\n",
    "features = sgdc_binary['countvectorizer'].get_feature_names()\n",
    "coefficients = sgdc_binary['sgdclassifier'].coef_.flatten()\n",
    "\n",
    "#zip features and coefficients to form a dataframe\n",
    "feature_importances = pd.DataFrame(zip(features, coefficients), columns=['features', 'values'])\n",
    "\n",
    "#find absolute value of values\n",
    "feature_importances['abs_val'] = feature_importances['values'].apply(lambda x: abs(x))\n",
    "\n",
    "#sort values\n",
    "feature_importances.sort_values(by='abs_val', ascending=False)[:20]"
   ]
  },
  {
   "cell_type": "code",
   "execution_count": 71,
   "metadata": {},
   "outputs": [
    {
     "name": "stdout",
     "output_type": "stream",
     "text": [
      "0.9743356802180332\n"
     ]
    },
    {
     "name": "stderr",
     "output_type": "stream",
     "text": [
      "C:\\Users\\cryst\\anaconda3\\envs\\email-env\\lib\\site-packages\\sklearn\\utils\\deprecation.py:87: FutureWarning: Function get_feature_names is deprecated; get_feature_names is deprecated in 1.0 and will be removed in 1.2. Please use get_feature_names_out instead.\n",
      "  warnings.warn(msg, category=FutureWarning)\n"
     ]
    },
    {
     "data": {
      "text/html": [
       "<div>\n",
       "<style scoped>\n",
       "    .dataframe tbody tr th:only-of-type {\n",
       "        vertical-align: middle;\n",
       "    }\n",
       "\n",
       "    .dataframe tbody tr th {\n",
       "        vertical-align: top;\n",
       "    }\n",
       "\n",
       "    .dataframe thead th {\n",
       "        text-align: right;\n",
       "    }\n",
       "</style>\n",
       "<table border=\"1\" class=\"dataframe\">\n",
       "  <thead>\n",
       "    <tr style=\"text-align: right;\">\n",
       "      <th></th>\n",
       "      <th>features</th>\n",
       "      <th>values</th>\n",
       "      <th>abs_val</th>\n",
       "    </tr>\n",
       "  </thead>\n",
       "  <tbody>\n",
       "    <tr>\n",
       "      <th>530</th>\n",
       "      <td>liberal</td>\n",
       "      <td>-1.816275</td>\n",
       "      <td>1.816275</td>\n",
       "    </tr>\n",
       "    <tr>\n",
       "      <th>239</th>\n",
       "      <td>deductible</td>\n",
       "      <td>1.627311</td>\n",
       "      <td>1.627311</td>\n",
       "    </tr>\n",
       "    <tr>\n",
       "      <th>677</th>\n",
       "      <td>patriots</td>\n",
       "      <td>-1.507264</td>\n",
       "      <td>1.507264</td>\n",
       "    </tr>\n",
       "    <tr>\n",
       "      <th>9</th>\n",
       "      <td>actblue</td>\n",
       "      <td>1.493925</td>\n",
       "      <td>1.493925</td>\n",
       "    </tr>\n",
       "    <tr>\n",
       "      <th>392</th>\n",
       "      <td>gifts</td>\n",
       "      <td>1.420563</td>\n",
       "      <td>1.420563</td>\n",
       "    </tr>\n",
       "    <tr>\n",
       "      <th>658</th>\n",
       "      <td>opt</td>\n",
       "      <td>-1.264946</td>\n",
       "      <td>1.264946</td>\n",
       "    </tr>\n",
       "    <tr>\n",
       "      <th>306</th>\n",
       "      <td>error</td>\n",
       "      <td>1.249384</td>\n",
       "      <td>1.249384</td>\n",
       "    </tr>\n",
       "    <tr>\n",
       "      <th>189</th>\n",
       "      <td>conservatives</td>\n",
       "      <td>-1.164906</td>\n",
       "      <td>1.164906</td>\n",
       "    </tr>\n",
       "    <tr>\n",
       "      <th>469</th>\n",
       "      <td>inc</td>\n",
       "      <td>-1.153790</td>\n",
       "      <td>1.153790</td>\n",
       "    </tr>\n",
       "    <tr>\n",
       "      <th>144</th>\n",
       "      <td>charitable</td>\n",
       "      <td>-1.098213</td>\n",
       "      <td>1.098213</td>\n",
       "    </tr>\n",
       "    <tr>\n",
       "      <th>188</th>\n",
       "      <td>conservative</td>\n",
       "      <td>-1.071536</td>\n",
       "      <td>1.071536</td>\n",
       "    </tr>\n",
       "    <tr>\n",
       "      <th>245</th>\n",
       "      <td>democracy</td>\n",
       "      <td>1.029297</td>\n",
       "      <td>1.029297</td>\n",
       "    </tr>\n",
       "    <tr>\n",
       "      <th>201</th>\n",
       "      <td>copyright</td>\n",
       "      <td>-0.991504</td>\n",
       "      <td>0.991504</td>\n",
       "    </tr>\n",
       "    <tr>\n",
       "      <th>345</th>\n",
       "      <td>fewer</td>\n",
       "      <td>0.955934</td>\n",
       "      <td>0.955934</td>\n",
       "    </tr>\n",
       "    <tr>\n",
       "      <th>732</th>\n",
       "      <td>progressive</td>\n",
       "      <td>0.951488</td>\n",
       "      <td>0.951488</td>\n",
       "    </tr>\n",
       "    <tr>\n",
       "      <th>729</th>\n",
       "      <td>profile</td>\n",
       "      <td>-0.947042</td>\n",
       "      <td>0.947042</td>\n",
       "    </tr>\n",
       "    <tr>\n",
       "      <th>720</th>\n",
       "      <td>prefer</td>\n",
       "      <td>-0.873680</td>\n",
       "      <td>0.873680</td>\n",
       "    </tr>\n",
       "    <tr>\n",
       "      <th>726</th>\n",
       "      <td>privacy</td>\n",
       "      <td>-0.847002</td>\n",
       "      <td>0.847002</td>\n",
       "    </tr>\n",
       "    <tr>\n",
       "      <th>759</th>\n",
       "      <td>radical</td>\n",
       "      <td>-0.824771</td>\n",
       "      <td>0.824771</td>\n",
       "    </tr>\n",
       "    <tr>\n",
       "      <th>721</th>\n",
       "      <td>preferences</td>\n",
       "      <td>-0.820325</td>\n",
       "      <td>0.820325</td>\n",
       "    </tr>\n",
       "  </tbody>\n",
       "</table>\n",
       "</div>"
      ],
      "text/plain": [
       "          features    values   abs_val\n",
       "530        liberal -1.816275  1.816275\n",
       "239     deductible  1.627311  1.627311\n",
       "677       patriots -1.507264  1.507264\n",
       "9          actblue  1.493925  1.493925\n",
       "392          gifts  1.420563  1.420563\n",
       "658            opt -1.264946  1.264946\n",
       "306          error  1.249384  1.249384\n",
       "189  conservatives -1.164906  1.164906\n",
       "469            inc -1.153790  1.153790\n",
       "144     charitable -1.098213  1.098213\n",
       "188   conservative -1.071536  1.071536\n",
       "245      democracy  1.029297  1.029297\n",
       "201      copyright -0.991504  0.991504\n",
       "345          fewer  0.955934  0.955934\n",
       "732    progressive  0.951488  0.951488\n",
       "729        profile -0.947042  0.947042\n",
       "720         prefer -0.873680  0.873680\n",
       "726        privacy -0.847002  0.847002\n",
       "759        radical -0.824771  0.824771\n",
       "721    preferences -0.820325  0.820325"
      ]
     },
     "execution_count": 71,
     "metadata": {},
     "output_type": "execute_result"
    },
    {
     "data": {
      "image/png": "[encoded data removed]",
      "text/plain": [
       "<Figure size 432x288 with 2 Axes>"
      ]
     },
     "metadata": {
      "needs_background": "light"
     },
     "output_type": "display_data"
    }
   ],
   "source": [
    "#Set parameter\n",
    "sgdc_binary.set_params(countvectorizer__min_df=0.025, countvectorizer__max_df=1.0)\n",
    "\n",
    "#Fit\n",
    "sgdc_binary.fit(X_train2, y_train_enc2)\n",
    "\n",
    "#Evaluation\n",
    "#model_evaluation('sgdc_binary2', sgdc_binary, X_train2, y_train_enc2, X_test2, y_test_enc2)\n",
    "print (sgdc_binary.score(X_val2, y_val_enc2))\n",
    "\n",
    "ConfusionMatrixDisplay.from_estimator(sgdc_binary, X_val2, y_val_enc2, normalize='true', cmap='Blues', display_labels=le.classes_)\n",
    "\n",
    "#Finding the feature importances\n",
    "features = sgdc_binary['countvectorizer'].get_feature_names()\n",
    "coefficients = sgdc_binary['sgdclassifier'].coef_.flatten()\n",
    "\n",
    "#zip features and coefficients to form a dataframe\n",
    "feature_importances = pd.DataFrame(zip(features, coefficients), columns=['features', 'values'])\n",
    "\n",
    "#find absolute value of values\n",
    "feature_importances['abs_val'] = feature_importances['values'].apply(lambda x: abs(x))\n",
    "\n",
    "#sort values\n",
    "feature_importances.sort_values(by='abs_val', ascending=False)[:20]"
   ]
  },
  {
   "cell_type": "code",
   "execution_count": 86,
   "metadata": {},
   "outputs": [],
   "source": [
    "coefficients = sgdc_binary['sgdclassifier'].coef_"
   ]
  },
  {
   "cell_type": "code",
   "execution_count": 87,
   "metadata": {},
   "outputs": [
    {
     "data": {
      "text/plain": [
       "array([[-0.05335447, -0.09337033,  0.12671687, ...,  0.10226274,\n",
       "        -0.0755855 , -0.2200872 ]])"
      ]
     },
     "execution_count": 87,
     "metadata": {},
     "output_type": "execute_result"
    }
   ],
   "source": [
    "coefficients"
   ]
  },
  {
   "cell_type": "code",
   "execution_count": 91,
   "metadata": {},
   "outputs": [
    {
     "name": "stdout",
     "output_type": "stream",
     "text": [
      "0.6619123325005678\n"
     ]
    },
    {
     "data": {
      "text/plain": [
       "<sklearn.metrics._plot.confusion_matrix.ConfusionMatrixDisplay at 0x20480525670>"
      ]
     },
     "execution_count": 91,
     "metadata": {},
     "output_type": "execute_result"
    },
    {
     "data": {
      "image/png": "[encoded data removed]",
      "text/plain": [
       "<Figure size 432x288 with 2 Axes>"
      ]
     },
     "metadata": {
      "needs_background": "light"
     },
     "output_type": "display_data"
    }
   ],
   "source": [
    "from sklearn.dummy import DummyClassifier\n",
    "\n",
    "dummy_pipe = make_pipeline(CountVectorizer(), DummyClassifier(random_state=42, strategy='stratified'))\n",
    "\n",
    "dummy_pipe.fit(X_train2, y_train_enc2)\n",
    "\n",
    "print(dummy_pipe.score(X_val2, y_val_enc2))\n",
    "\n",
    "ConfusionMatrixDisplay.from_estimator(dummy_pipe, X_val2, y_val_enc2)"
   ]
  },
  {
   "cell_type": "code",
   "execution_count": 94,
   "metadata": {},
   "outputs": [
    {
     "data": {
      "text/plain": [
       "0.6619123325005678"
      ]
     },
     "execution_count": 94,
     "metadata": {},
     "output_type": "execute_result"
    }
   ],
   "source": [
    "accuracy_score(y_val_enc2, dummy_pipe.predict(X_val2))"
   ]
  },
  {
   "cell_type": "code",
   "execution_count": 93,
   "metadata": {},
   "outputs": [
    {
     "data": {
      "text/plain": [
       "<sklearn.metrics._plot.confusion_matrix.ConfusionMatrixDisplay at 0x2048183d220>"
      ]
     },
     "execution_count": 93,
     "metadata": {},
     "output_type": "execute_result"
    },
    {
     "data": {
      "image/png": "[encoded data removed]",
      "text/plain": [
       "<Figure size 432x288 with 2 Axes>"
      ]
     },
     "metadata": {
      "needs_background": "light"
     },
     "output_type": "display_data"
    }
   ],
   "source": [
    "ConfusionMatrixDisplay.from_estimator(dummy_pipe, X_val2, y_val_enc2, normalize='true')"
   ]
  },
  {
   "cell_type": "code",
   "execution_count": 95,
   "metadata": {},
   "outputs": [
    {
     "data": {
      "text/plain": [
       "0.6619123325005678"
      ]
     },
     "execution_count": 95,
     "metadata": {},
     "output_type": "execute_result"
    }
   ],
   "source": [
    "dummy_pipe.set_params(dummyclassifier__strategy='most frequent')\n",
    "dummy_pipe.score(X_val2, y_val_enc2)"
   ]
  },
  {
   "cell_type": "code",
   "execution_count": 96,
   "metadata": {},
   "outputs": [
    {
     "data": {
      "text/plain": [
       "0.7852693505594648"
      ]
     },
     "execution_count": 96,
     "metadata": {},
     "output_type": "execute_result"
    }
   ],
   "source": [
    "recall_score(y_val_enc2, dummy_pipe.predict(X_val2))"
   ]
  },
  {
   "cell_type": "code",
   "execution_count": 97,
   "metadata": {},
   "outputs": [
    {
     "data": {
      "text/plain": [
       "0.7854052494952408"
      ]
     },
     "execution_count": 97,
     "metadata": {},
     "output_type": "execute_result"
    }
   ],
   "source": [
    "precision_score(y_val_enc2, dummy_pipe.predict(X_val2))"
   ]
  },
  {
   "cell_type": "code",
   "execution_count": 98,
   "metadata": {},
   "outputs": [
    {
     "data": {
      "text/plain": [
       "253553    trump hoover tenth dems newsletter may message...\n",
       "191747    debate watch parties days go friend days left ...\n",
       "213940    last time ask five times matched hey emailing ...\n",
       "16903     cnn announced stop republicans proudly dedicat...\n",
       "17154     trump freaking end citizens united dedicated e...\n",
       "Name: text, dtype: object"
      ]
     },
     "execution_count": 98,
     "metadata": {},
     "output_type": "execute_result"
    }
   ],
   "source": [
    "X_test.head()"
   ]
  },
  {
   "cell_type": "code",
   "execution_count": 99,
   "metadata": {},
   "outputs": [
    {
     "data": {
      "text/plain": [
       "0.7853372941481844"
      ]
     },
     "execution_count": 99,
     "metadata": {},
     "output_type": "execute_result"
    }
   ],
   "source": [
    "f1_score(y_val_enc2, dummy_pipe.predict(X_val2))"
   ]
  },
  {
   "cell_type": "code",
   "execution_count": null,
   "metadata": {},
   "outputs": [],
   "source": []
  }
 ],
 "metadata": {
  "interpreter": {
   "hash": "c273e92b90d28d3e4b67f22c19062817ead2d21a5feee39ce00d5f6ffaa4685b"
  },
  "kernelspec": {
   "display_name": "Python 3.8.5 64-bit ('learn-env': conda)",
   "language": "python",
   "name": "python3"
  },
  "language_info": {
   "codemirror_mode": {
    "name": "ipython",
    "version": 3
   },
   "file_extension": ".py",
   "mimetype": "text/x-python",
   "name": "python",
   "nbconvert_exporter": "python",
   "pygments_lexer": "ipython3",
   "version": "3.8.5"
  },
  "orig_nbformat": 4
 },
 "nbformat": 4,
 "nbformat_minor": 2
}
