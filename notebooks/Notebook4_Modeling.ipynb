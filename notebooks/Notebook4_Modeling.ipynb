{
 "cells": [
  {
   "cell_type": "markdown",
   "metadata": {},
   "source": [
    "# Modeling"
   ]
  },
  {
   "cell_type": "code",
   "execution_count": 9,
   "metadata": {},
   "outputs": [],
   "source": [
    "#standard imports\n",
    "import pandas as pd\n",
    "import matplotlib.pyplot as plt"
   ]
  },
  {
   "cell_type": "code",
   "execution_count": 3,
   "metadata": {},
   "outputs": [
    {
     "data": {
      "text/html": [
       "<div>\n",
       "<style scoped>\n",
       "    .dataframe tbody tr th:only-of-type {\n",
       "        vertical-align: middle;\n",
       "    }\n",
       "\n",
       "    .dataframe tbody tr th {\n",
       "        vertical-align: top;\n",
       "    }\n",
       "\n",
       "    .dataframe thead th {\n",
       "        text-align: right;\n",
       "    }\n",
       "</style>\n",
       "<table border=\"1\" class=\"dataframe\">\n",
       "  <thead>\n",
       "    <tr style=\"text-align: right;\">\n",
       "      <th></th>\n",
       "      <th>text</th>\n",
       "      <th>target</th>\n",
       "    </tr>\n",
       "  </thead>\n",
       "  <tbody>\n",
       "    <tr>\n",
       "      <th>0</th>\n",
       "      <td>welcome team thanks joining team name kathleen...</td>\n",
       "      <td>Liberal</td>\n",
       "    </tr>\n",
       "  </tbody>\n",
       "</table>\n",
       "</div>"
      ],
      "text/plain": [
       "                                                text   target\n",
       "0  welcome team thanks joining team name kathleen...  Liberal"
      ]
     },
     "execution_count": 3,
     "metadata": {},
     "output_type": "execute_result"
    }
   ],
   "source": [
    "#load data\n",
    "data = pd.read_csv('data.csv', index_col=0)\n",
    "data.head(1)"
   ]
  },
  {
   "cell_type": "markdown",
   "metadata": {},
   "source": [
    "# Train Test Split\n",
    "* Conduct train, test, validation split early to prevent leakage\n",
    "* Stratify target within test and validation sets to account for imbalance"
   ]
  },
  {
   "cell_type": "code",
   "execution_count": 4,
   "metadata": {},
   "outputs": [
    {
     "name": "stdout",
     "output_type": "stream",
     "text": [
      "Sizes: \n",
      "X_train:  {(205725,)}\n",
      "X_test:  {(88620,)}\n",
      "X_val:  {(22156,)}\n"
     ]
    }
   ],
   "source": [
    "from sklearn.model_selection import train_test_split\n",
    "\n",
    "X = data['text'].astype(str)\n",
    "y = data['target']\n",
    "\n",
    "X_train, X_test, y_train, y_test = train_test_split(X, y, random_state=42, test_size=0.35, stratify=y)\n",
    "X_test, X_val, y_test, y_val = train_test_split(X_test, y_test, random_state=42, test_size = 0.2, stratify=y_test)\n",
    "\n",
    "print('Sizes: ')\n",
    "print('X_train: ', {X_train.shape})\n",
    "print('X_test: ', {X_test.shape})\n",
    "print('X_val: ', {X_val.shape})"
   ]
  },
  {
   "cell_type": "code",
   "execution_count": 18,
   "metadata": {},
   "outputs": [],
   "source": [
    "from sklearn.preprocessing import LabelEncoder\n",
    "\n",
    "le = LabelEncoder()\n",
    "y_train_enc= le.fit_transform(y_train)\n",
    "y_test_enc= le.transform(y_test)\n",
    "\n",
    "target_classes = le.classes_"
   ]
  },
  {
   "cell_type": "markdown",
   "metadata": {},
   "source": [
    "# Baseline Model\n",
    "Baseline is the average occurance of the target variables. Meaning, if a model was to guess the majority class it would be correct ~78% of the time. "
   ]
  },
  {
   "cell_type": "code",
   "execution_count": 5,
   "metadata": {},
   "outputs": [
    {
     "data": {
      "text/plain": [
       "Liberal         0.782545\n",
       "Conservative    0.211107\n",
       "Center          0.006348\n",
       "Name: target, dtype: float64"
      ]
     },
     "execution_count": 5,
     "metadata": {},
     "output_type": "execute_result"
    }
   ],
   "source": [
    "y_train.value_counts(normalize=True)"
   ]
  },
  {
   "cell_type": "markdown",
   "metadata": {},
   "source": [
    "# Modeling\n",
    "When approaching modeling I will use an iterative approach: model, evaluate, parameter tuning, further modeling. When turning does not improve scores, I will adjust my the transformer or modeling methods. \n",
    "\n",
    "### Imports"
   ]
  },
  {
   "cell_type": "code",
   "execution_count": 105,
   "metadata": {},
   "outputs": [],
   "source": [
    "#Pipleine\n",
    "from sklearn.pipeline import Pipeline\n",
    "from sklearn.pipeline import make_pipeline\n",
    "from sklearn.model_selection import GridSearchCV\n",
    "\n",
    "from sklearn.feature_extraction.text import CountVectorizer\n",
    "from sklearn.naive_bayes import MultinomialNB\n",
    "from sklearn.tree import DecisionTreeClassifier\n",
    "from sklearn import tree\n",
    "from graphviz import *\n",
    "from sklearn.linear_model import SGDClassifier\n",
    "\n",
    "#Evaluation Imports\n",
    "from sklearn.model_selection import cross_val_score\n",
    "from sklearn.metrics import accuracy_score, precision_score, recall_score, f1_score, \\\n",
    "                            cohen_kappa_score, plot_confusion_matrix"
   ]
  },
  {
   "cell_type": "markdown",
   "metadata": {},
   "source": [
    "### Evaluation Functions"
   ]
  },
  {
   "cell_type": "code",
   "execution_count": 10,
   "metadata": {},
   "outputs": [],
   "source": [
    "eval_scores_tracker = pd.DataFrame(columns=['iteration', 'model', 'cross_val', 'accuracy','precision','recall','f1','cohen-kappa'])"
   ]
  },
  {
   "cell_type": "code",
   "execution_count": 68,
   "metadata": {},
   "outputs": [],
   "source": [
    "#evaluation functions\n",
    "def model_evaluation(iteration, model, X_tr, y_tr, X_te, y_te): \n",
    "    '''\n",
    "    Evaluates model and returns accuracy, precision, recall, F1, roc-auc scores, \n",
    "    plots a confusion matrix and ROC-AUC graph.\n",
    "    \n",
    "    Inputs: \n",
    "    model: model fitted to X_tr\n",
    "    X_tr: Training variable\n",
    "    y_tr: Training target\n",
    "    X_te: Test variable\n",
    "    y_te: Test target\n",
    "    '''\n",
    "\n",
    "    preds = model.predict(X_te)\n",
    "\n",
    "    #score model from metrics\n",
    "    avg_cros_val = cross_val_score(model, X_tr, y_tr, cv=3).mean()\n",
    "    accuracy = accuracy_score(y_te, preds)\n",
    "    precision = precision_score(y_te, preds, average='micro')\n",
    "    recall = recall_score(y_te, preds, average='micro')\n",
    "    f1 = f1_score(y_te, preds, average='micro')\n",
    "    cohen_kappa = cohen_kappa_score(y_te, preds)\n",
    "\n",
    "    #store scores\n",
    "    scores = [[iteration, model, avg_cros_val, accuracy, precision, recall, f1, cohen_kappa]]\n",
    "    scores_df = pd.DataFrame(scores, columns=['iteration', 'model', 'cross_val', 'accuracy','precision','recall','f1','cohen-kappa'])\n",
    "    eval_scores_tracker.append(scores_df)\n",
    "\n",
    "    #plot confusion matrix\n",
    "    plot_confusion_matrix(model, X_te, y_te, display_labels=target_classes, normalize='true')\n",
    "\n",
    "    return scores_df\n",
    "\n",
    "def evaluaton_tracker(scores_df):\n",
    "    '''Inputs a model's scores captured in a dataframe. \n",
    "       Appends scores to with other scores for comparison'''\n",
    "    eval_scores_tracker.append(scores_df)\n",
    "    return eval_scores_tracker"
   ]
  },
  {
   "cell_type": "markdown",
   "metadata": {},
   "source": [
    "## Models"
   ]
  },
  {
   "cell_type": "markdown",
   "metadata": {},
   "source": [
    "### MultinomialNB with CountVectorizer"
   ]
  },
  {
   "cell_type": "code",
   "execution_count": 19,
   "metadata": {},
   "outputs": [
    {
     "data": {
      "text/plain": [
       "Pipeline(steps=[('countvectorizer', CountVectorizer()),\n",
       "                ('multinomialnb', MultinomialNB())])"
      ]
     },
     "execution_count": 19,
     "metadata": {},
     "output_type": "execute_result"
    }
   ],
   "source": [
    "#Create a MultinomialNB modeling pipeline with Count Vectorizer\n",
    "ctvec_bayes_pipe = make_pipeline(CountVectorizer(),\n",
    "                                 MultinomialNB())\n",
    "\n",
    "#Fit model\n",
    "ctvec_bayes_pipe.fit(X_train, y_train_enc)                               "
   ]
  },
  {
   "cell_type": "code",
   "execution_count": 39,
   "metadata": {},
   "outputs": [
    {
     "data": {
      "text/html": [
       "<div>\n",
       "<style scoped>\n",
       "    .dataframe tbody tr th:only-of-type {\n",
       "        vertical-align: middle;\n",
       "    }\n",
       "\n",
       "    .dataframe tbody tr th {\n",
       "        vertical-align: top;\n",
       "    }\n",
       "\n",
       "    .dataframe thead th {\n",
       "        text-align: right;\n",
       "    }\n",
       "</style>\n",
       "<table border=\"1\" class=\"dataframe\">\n",
       "  <thead>\n",
       "    <tr style=\"text-align: right;\">\n",
       "      <th></th>\n",
       "      <th>iteration</th>\n",
       "      <th>model</th>\n",
       "      <th>cross_val</th>\n",
       "      <th>accuracy</th>\n",
       "      <th>precision</th>\n",
       "      <th>recall</th>\n",
       "      <th>f1</th>\n",
       "      <th>cohen-kappa</th>\n",
       "    </tr>\n",
       "  </thead>\n",
       "  <tbody>\n",
       "    <tr>\n",
       "      <th>0</th>\n",
       "      <td>1</td>\n",
       "      <td>(CountVectorizer(), MultinomialNB())</td>\n",
       "      <td>0.94079</td>\n",
       "      <td>0.937508</td>\n",
       "      <td>0.937508</td>\n",
       "      <td>0.937508</td>\n",
       "      <td>0.937508</td>\n",
       "      <td>0.834296</td>\n",
       "    </tr>\n",
       "  </tbody>\n",
       "</table>\n",
       "</div>"
      ],
      "text/plain": [
       "   iteration                                 model  cross_val  accuracy  \\\n",
       "0          1  (CountVectorizer(), MultinomialNB())    0.94079  0.937508   \n",
       "\n",
       "   precision    recall        f1  cohen-kappa  \n",
       "0   0.937508  0.937508  0.937508     0.834296  "
      ]
     },
     "execution_count": 39,
     "metadata": {},
     "output_type": "execute_result"
    },
    {
     "data": {
      "image/png": "[encoded data removed]",
      "text/plain": [
       "<Figure size 432x288 with 2 Axes>"
      ]
     },
     "metadata": {
      "needs_background": "light"
     },
     "output_type": "display_data"
    }
   ],
   "source": [
    "#Evaluate model\n",
    "model_evaluation(1, ctvec_bayes_pipe, X_train, y_train_enc, X_test, y_test_enc)"
   ]
  },
  {
   "cell_type": "markdown",
   "metadata": {},
   "source": [
    "The model accurately identifies the idology of emails ~93.8% of the time. It is most accurate with identifying conservative ideology, followed by liberal, and center. Next I will tune parameters with the aim of improving the accuracy of the `center` targets."
   ]
  },
  {
   "cell_type": "code",
   "execution_count": 67,
   "metadata": {},
   "outputs": [
    {
     "data": {
      "text/html": [
       "<div>\n",
       "<style scoped>\n",
       "    .dataframe tbody tr th:only-of-type {\n",
       "        vertical-align: middle;\n",
       "    }\n",
       "\n",
       "    .dataframe tbody tr th {\n",
       "        vertical-align: top;\n",
       "    }\n",
       "\n",
       "    .dataframe thead th {\n",
       "        text-align: right;\n",
       "    }\n",
       "</style>\n",
       "<table border=\"1\" class=\"dataframe\">\n",
       "  <thead>\n",
       "    <tr style=\"text-align: right;\">\n",
       "      <th></th>\n",
       "      <th>iteration</th>\n",
       "      <th>model</th>\n",
       "      <th>cross_val</th>\n",
       "      <th>accuracy</th>\n",
       "      <th>precision</th>\n",
       "      <th>recall</th>\n",
       "      <th>f1</th>\n",
       "      <th>cohen-kappa</th>\n",
       "    </tr>\n",
       "  </thead>\n",
       "  <tbody>\n",
       "    <tr>\n",
       "      <th>0</th>\n",
       "      <td>2</td>\n",
       "      <td>(CountVectorizer(), MultinomialNB(alpha=0.5))</td>\n",
       "      <td>0.932721</td>\n",
       "      <td>0.93005</td>\n",
       "      <td>0.93005</td>\n",
       "      <td>0.93005</td>\n",
       "      <td>0.93005</td>\n",
       "      <td>0.817566</td>\n",
       "    </tr>\n",
       "  </tbody>\n",
       "</table>\n",
       "</div>"
      ],
      "text/plain": [
       "   iteration                                          model  cross_val  \\\n",
       "0          2  (CountVectorizer(), MultinomialNB(alpha=0.5))   0.932721   \n",
       "\n",
       "   accuracy  precision   recall       f1  cohen-kappa  \n",
       "0   0.93005    0.93005  0.93005  0.93005     0.817566  "
      ]
     },
     "execution_count": 67,
     "metadata": {},
     "output_type": "execute_result"
    },
    {
     "data": {
      "image/png": "[encoded data removed]",
      "text/plain": [
       "<Figure size 432x288 with 2 Axes>"
      ]
     },
     "metadata": {
      "needs_background": "light"
     },
     "output_type": "display_data"
    }
   ],
   "source": [
    "#Tune alpha parameter\n",
    "ctvec_bayes_pipe.set_params(multinomialnb__alpha=0.5) \n",
    "\n",
    "#fit model\n",
    "ctvec_bayes_pipe.fit(X_train, y_train_enc) \n",
    "\n",
    "#Evaluate\n",
    "model_evaluation(2, ctvec_bayes_pipe, X_train, y_train_enc, X_test, y_test_enc)"
   ]
  },
  {
   "cell_type": "markdown",
   "metadata": {},
   "source": [
    "Tuning alpha to 0.5 decreased the overall accuracy score, but increased the accuracy of classifying `center` targets, which was my initial goal. This model is most likely to confuse `center` as `conservative`. The accuracy of the `liberal` target also decreased with more `liberal` emails being classified as `center` than before.\n",
    "\n",
    "I will conduct a GridSearch of parameters on the pipleine to find the `best_params_` that produce the highest accuracy score. Code guide for GridSearch in pipeline: [https://scikit-learn.org/stable/tutorial/statistical_inference/putting_together.html](https://scikit-learn.org/stable/tutorial/statistical_inference/putting_together.html)"
   ]
  },
  {
   "cell_type": "code",
   "execution_count": 74,
   "metadata": {},
   "outputs": [
    {
     "name": "stdout",
     "output_type": "stream",
     "text": [
      "{'countvectorizer__max_features': None, 'countvectorizer__min_df': 1, 'multinomialnb__alpha': 1}\n"
     ]
    }
   ],
   "source": [
    "#reset params of model\n",
    "ctvec_bayes_pipe.set_params(multinomialnb__alpha=None)\n",
    "\n",
    "#create param grid to search\n",
    "param_grid = {'countvectorizer__min_df': [1, 2, 5, 50],\n",
    "          'countvectorizer__max_features': [None, 1000, 2000],\n",
    "          'multinomialnb__alpha': [0.75, 1]}\n",
    "\n",
    "\n",
    "#gridsearch and pring best_param results\n",
    "search = GridSearchCV(ctvec_bayes_pipe, param_grid=param_grid)\n",
    "search.fit(X_train, y_train_enc)\n",
    "print(search.best_params_)"
   ]
  },
  {
   "cell_type": "code",
   "execution_count": 78,
   "metadata": {},
   "outputs": [
    {
     "data": {
      "text/plain": [
       "Pipeline(steps=[('countvectorizer', CountVectorizer()),\n",
       "                ('multinomialnb', MultinomialNB(alpha=1))])"
      ]
     },
     "execution_count": 78,
     "metadata": {},
     "output_type": "execute_result"
    }
   ],
   "source": [
    "ctvec_bayes_pipe.set_params(multinomialnb__alpha=1)\n",
    "ctvec_bayes_pipe.fit(X_train, y_train_enc)"
   ]
  },
  {
   "cell_type": "code",
   "execution_count": 79,
   "metadata": {},
   "outputs": [
    {
     "data": {
      "text/html": [
       "<div>\n",
       "<style scoped>\n",
       "    .dataframe tbody tr th:only-of-type {\n",
       "        vertical-align: middle;\n",
       "    }\n",
       "\n",
       "    .dataframe tbody tr th {\n",
       "        vertical-align: top;\n",
       "    }\n",
       "\n",
       "    .dataframe thead th {\n",
       "        text-align: right;\n",
       "    }\n",
       "</style>\n",
       "<table border=\"1\" class=\"dataframe\">\n",
       "  <thead>\n",
       "    <tr style=\"text-align: right;\">\n",
       "      <th></th>\n",
       "      <th>iteration</th>\n",
       "      <th>model</th>\n",
       "      <th>cross_val</th>\n",
       "      <th>accuracy</th>\n",
       "      <th>precision</th>\n",
       "      <th>recall</th>\n",
       "      <th>f1</th>\n",
       "      <th>cohen-kappa</th>\n",
       "    </tr>\n",
       "  </thead>\n",
       "  <tbody>\n",
       "    <tr>\n",
       "      <th>0</th>\n",
       "      <td>NB2</td>\n",
       "      <td>(CountVectorizer(), MultinomialNB(alpha=1))</td>\n",
       "      <td>0.94079</td>\n",
       "      <td>0.937508</td>\n",
       "      <td>0.937508</td>\n",
       "      <td>0.937508</td>\n",
       "      <td>0.937508</td>\n",
       "      <td>0.834296</td>\n",
       "    </tr>\n",
       "  </tbody>\n",
       "</table>\n",
       "</div>"
      ],
      "text/plain": [
       "  iteration                                        model  cross_val  accuracy  \\\n",
       "0       NB2  (CountVectorizer(), MultinomialNB(alpha=1))    0.94079  0.937508   \n",
       "\n",
       "   precision    recall        f1  cohen-kappa  \n",
       "0   0.937508  0.937508  0.937508     0.834296  "
      ]
     },
     "execution_count": 79,
     "metadata": {},
     "output_type": "execute_result"
    },
    {
     "data": {
      "image/png": "[encoded data removed]",
      "text/plain": [
       "<Figure size 432x288 with 2 Axes>"
      ]
     },
     "metadata": {
      "needs_background": "light"
     },
     "output_type": "display_data"
    }
   ],
   "source": [
    "model_evaluation(\"NB2\", ctvec_bayes_pipe, X_train, y_train_enc, X_test, y_test_enc)"
   ]
  },
  {
   "cell_type": "markdown",
   "metadata": {},
   "source": [
    "### DecisionTree with Count Vectorizer"
   ]
  },
  {
   "cell_type": "code",
   "execution_count": 84,
   "metadata": {},
   "outputs": [
    {
     "data": {
      "text/html": [
       "<div>\n",
       "<style scoped>\n",
       "    .dataframe tbody tr th:only-of-type {\n",
       "        vertical-align: middle;\n",
       "    }\n",
       "\n",
       "    .dataframe tbody tr th {\n",
       "        vertical-align: top;\n",
       "    }\n",
       "\n",
       "    .dataframe thead th {\n",
       "        text-align: right;\n",
       "    }\n",
       "</style>\n",
       "<table border=\"1\" class=\"dataframe\">\n",
       "  <thead>\n",
       "    <tr style=\"text-align: right;\">\n",
       "      <th></th>\n",
       "      <th>iteration</th>\n",
       "      <th>model</th>\n",
       "      <th>cross_val</th>\n",
       "      <th>accuracy</th>\n",
       "      <th>precision</th>\n",
       "      <th>recall</th>\n",
       "      <th>f1</th>\n",
       "      <th>cohen-kappa</th>\n",
       "    </tr>\n",
       "  </thead>\n",
       "  <tbody>\n",
       "    <tr>\n",
       "      <th>0</th>\n",
       "      <td>tree1</td>\n",
       "      <td>(CountVectorizer(min_df=0.02), DecisionTreeCla...</td>\n",
       "      <td>0.941252</td>\n",
       "      <td>0.943049</td>\n",
       "      <td>0.943049</td>\n",
       "      <td>0.943049</td>\n",
       "      <td>0.943049</td>\n",
       "      <td>0.821123</td>\n",
       "    </tr>\n",
       "  </tbody>\n",
       "</table>\n",
       "</div>"
      ],
      "text/plain": [
       "  iteration                                              model  cross_val  \\\n",
       "0     tree1  (CountVectorizer(min_df=0.02), DecisionTreeCla...   0.941252   \n",
       "\n",
       "   accuracy  precision    recall        f1  cohen-kappa  \n",
       "0  0.943049   0.943049  0.943049  0.943049     0.821123  "
      ]
     },
     "execution_count": 84,
     "metadata": {},
     "output_type": "execute_result"
    },
    {
     "data": {
      "image/png": "[encoded data removed]",
      "text/plain": [
       "<Figure size 432x288 with 2 Axes>"
      ]
     },
     "metadata": {
      "needs_background": "light"
     },
     "output_type": "display_data"
    }
   ],
   "source": [
    "#Create a DecisionTree with CountVectorizer\n",
    "tree_pipe = Pipeline([('vectorizer', CountVectorizer(min_df=0.02)),\n",
    "                      ('tree', DecisionTreeClassifier(random_state=42, max_depth=10))])\n",
    "\n",
    "#Fit to model\n",
    "tree_pipe.fit(X_train, y_train_enc)\n",
    "\n",
    "#Evaluate model\n",
    "model_evaluation('tree1', tree_pipe, X_train, y_train_enc, X_test, y_test_enc)"
   ]
  },
  {
   "cell_type": "code",
   "execution_count": 89,
   "metadata": {},
   "outputs": [
    {
     "data": {
      "image/png": "[encoded data removed]",
      "text/plain": [
       "<Figure size 720x720 with 1 Axes>"
      ]
     },
     "metadata": {
      "needs_background": "light"
     },
     "output_type": "display_data"
    }
   ],
   "source": [
    "#Plot Tree\n",
    "fig, axes = plt.subplots(figsize = (10, 10))\n",
    "\n",
    "tree.plot_tree(tree_pipe['tree'], \n",
    "               feature_names = tree_pipe['vectorizer'].get_feature_names(), \n",
    "               class_names= target_classes, \n",
    "               filled = True)\n",
    "\n",
    "plt.show();"
   ]
  },
  {
   "cell_type": "code",
   "execution_count": 98,
   "metadata": {},
   "outputs": [
    {
     "data": {
      "text/html": [
       "<div>\n",
       "<style scoped>\n",
       "    .dataframe tbody tr th:only-of-type {\n",
       "        vertical-align: middle;\n",
       "    }\n",
       "\n",
       "    .dataframe tbody tr th {\n",
       "        vertical-align: top;\n",
       "    }\n",
       "\n",
       "    .dataframe thead th {\n",
       "        text-align: right;\n",
       "    }\n",
       "</style>\n",
       "<table border=\"1\" class=\"dataframe\">\n",
       "  <thead>\n",
       "    <tr style=\"text-align: right;\">\n",
       "      <th></th>\n",
       "      <th>0</th>\n",
       "    </tr>\n",
       "  </thead>\n",
       "  <tbody>\n",
       "    <tr>\n",
       "      <th>fewer</th>\n",
       "      <td>0.284083</td>\n",
       "    </tr>\n",
       "    <tr>\n",
       "      <th>privacy</th>\n",
       "      <td>0.126273</td>\n",
       "    </tr>\n",
       "    <tr>\n",
       "      <th>conservative</th>\n",
       "      <td>0.095600</td>\n",
       "    </tr>\n",
       "    <tr>\n",
       "      <th>actblue</th>\n",
       "      <td>0.058074</td>\n",
       "    </tr>\n",
       "    <tr>\n",
       "      <th>believe</th>\n",
       "      <td>0.047825</td>\n",
       "    </tr>\n",
       "  </tbody>\n",
       "</table>\n",
       "</div>"
      ],
      "text/plain": [
       "                     0\n",
       "fewer         0.284083\n",
       "privacy       0.126273\n",
       "conservative  0.095600\n",
       "actblue       0.058074\n",
       "believe       0.047825"
      ]
     },
     "execution_count": 98,
     "metadata": {},
     "output_type": "execute_result"
    }
   ],
   "source": [
    "#Finding the feature importances\n",
    "features = dict(zip(tree_pipe['vectorizer'].get_feature_names(), tree_pipe['tree'].feature_importances_))\n",
    "\n",
    "pd.DataFrame.from_dict(features, orient='index').sort_values(by=0, ascending=False).head(5)"
   ]
  },
  {
   "cell_type": "markdown",
   "metadata": {},
   "source": [
    "The first decison tree had an accuracy score of ~94%. It performed well in classifying `liberal` ideology of emails with 99% accuracy. It was less accurate when predicting `center`  and emails, they were only correctly predicted 5% of the time. Correctly predicting`conservative` emails with this decision tree were also less acurate than previous Naive Bayes models. \n",
    "\n",
    "A benifit of DecisionTrees is the ability to learn the feature importances the model used. The word 'privacy` was considered as the most important feature in this model. \n",
    "\n",
    "Moving forward in decision tree modeling, I will I will pass through a `class_weight` parameter with the goal of improving the accuracy of classifiying `center` and `conservative`"
   ]
  },
  {
   "cell_type": "code",
   "execution_count": 96,
   "metadata": {},
   "outputs": [
    {
     "data": {
      "text/html": [
       "<div>\n",
       "<style scoped>\n",
       "    .dataframe tbody tr th:only-of-type {\n",
       "        vertical-align: middle;\n",
       "    }\n",
       "\n",
       "    .dataframe tbody tr th {\n",
       "        vertical-align: top;\n",
       "    }\n",
       "\n",
       "    .dataframe thead th {\n",
       "        text-align: right;\n",
       "    }\n",
       "</style>\n",
       "<table border=\"1\" class=\"dataframe\">\n",
       "  <thead>\n",
       "    <tr style=\"text-align: right;\">\n",
       "      <th></th>\n",
       "      <th>iteration</th>\n",
       "      <th>model</th>\n",
       "      <th>cross_val</th>\n",
       "      <th>accuracy</th>\n",
       "      <th>precision</th>\n",
       "      <th>recall</th>\n",
       "      <th>f1</th>\n",
       "      <th>cohen-kappa</th>\n",
       "    </tr>\n",
       "  </thead>\n",
       "  <tbody>\n",
       "    <tr>\n",
       "      <th>0</th>\n",
       "      <td>tree2</td>\n",
       "      <td>(CountVectorizer(min_df=0.02), DecisionTreeCla...</td>\n",
       "      <td>0.791571</td>\n",
       "      <td>0.791627</td>\n",
       "      <td>0.791627</td>\n",
       "      <td>0.791627</td>\n",
       "      <td>0.791627</td>\n",
       "      <td>0.547441</td>\n",
       "    </tr>\n",
       "  </tbody>\n",
       "</table>\n",
       "</div>"
      ],
      "text/plain": [
       "  iteration                                              model  cross_val  \\\n",
       "0     tree2  (CountVectorizer(min_df=0.02), DecisionTreeCla...   0.791571   \n",
       "\n",
       "   accuracy  precision    recall        f1  cohen-kappa  \n",
       "0  0.791627   0.791627  0.791627  0.791627     0.547441  "
      ]
     },
     "execution_count": 96,
     "metadata": {},
     "output_type": "execute_result"
    },
    {
     "data": {
      "image/png": "[encoded data removed]",
      "text/plain": [
       "<Figure size 432x288 with 2 Axes>"
      ]
     },
     "metadata": {
      "needs_background": "light"
     },
     "output_type": "display_data"
    }
   ],
   "source": [
    "#tune parameters\n",
    "tree_pipe.set_params(tree__class_weight ='balanced')\n",
    "\n",
    "#fit\n",
    "tree_pipe.fit(X_train, y_train_enc)\n",
    "\n",
    "model_evaluation('tree2', tree_pipe, X_train, y_train_enc, X_test, y_test_enc)"
   ]
  },
  {
   "cell_type": "markdown",
   "metadata": {},
   "source": [
    "Tuning the parameter `class_weights` to balanced had the desired effect of correctly predicting more `center` and `conservative` emails. This came at the cost of accuracy within the `liberal` and target. The accuracy score dropped to 79% which is only slightly better than our baseline (guessing) model. "
   ]
  },
  {
   "cell_type": "code",
   "execution_count": 97,
   "metadata": {},
   "outputs": [
    {
     "data": {
      "text/html": [
       "<div>\n",
       "<style scoped>\n",
       "    .dataframe tbody tr th:only-of-type {\n",
       "        vertical-align: middle;\n",
       "    }\n",
       "\n",
       "    .dataframe tbody tr th {\n",
       "        vertical-align: top;\n",
       "    }\n",
       "\n",
       "    .dataframe thead th {\n",
       "        text-align: right;\n",
       "    }\n",
       "</style>\n",
       "<table border=\"1\" class=\"dataframe\">\n",
       "  <thead>\n",
       "    <tr style=\"text-align: right;\">\n",
       "      <th></th>\n",
       "      <th>0</th>\n",
       "    </tr>\n",
       "  </thead>\n",
       "  <tbody>\n",
       "    <tr>\n",
       "      <th>fewer</th>\n",
       "      <td>0.284083</td>\n",
       "    </tr>\n",
       "    <tr>\n",
       "      <th>privacy</th>\n",
       "      <td>0.126273</td>\n",
       "    </tr>\n",
       "    <tr>\n",
       "      <th>conservative</th>\n",
       "      <td>0.095600</td>\n",
       "    </tr>\n",
       "    <tr>\n",
       "      <th>actblue</th>\n",
       "      <td>0.058074</td>\n",
       "    </tr>\n",
       "    <tr>\n",
       "      <th>believe</th>\n",
       "      <td>0.047825</td>\n",
       "    </tr>\n",
       "  </tbody>\n",
       "</table>\n",
       "</div>"
      ],
      "text/plain": [
       "                     0\n",
       "fewer         0.284083\n",
       "privacy       0.126273\n",
       "conservative  0.095600\n",
       "actblue       0.058074\n",
       "believe       0.047825"
      ]
     },
     "execution_count": 97,
     "metadata": {},
     "output_type": "execute_result"
    }
   ],
   "source": [
    "#Finding the feature importances\n",
    "features = dict(zip(tree_pipe['vectorizer'].get_feature_names(), tree_pipe['tree'].feature_importances_))\n",
    "\n",
    "pd.DataFrame.from_dict(features, orient='index').sort_values(by=0, ascending=False).head(5)"
   ]
  },
  {
   "cell_type": "markdown",
   "metadata": {},
   "source": [
    "'fewer' is considered the most important feature in this model, as compared to 'privacy' from the previous decision tree model. Interstinly, The top words in both cases are not intuative! In future modeling, I would like to include feature engineered variables into the decision tree. \n",
    "\n",
    "In the next phase of modling, I will tune the vectorizer rather than the decision tree. "
   ]
  },
  {
   "cell_type": "code",
   "execution_count": 111,
   "metadata": {},
   "outputs": [
    {
     "data": {
      "text/html": [
       "<div>\n",
       "<style scoped>\n",
       "    .dataframe tbody tr th:only-of-type {\n",
       "        vertical-align: middle;\n",
       "    }\n",
       "\n",
       "    .dataframe tbody tr th {\n",
       "        vertical-align: top;\n",
       "    }\n",
       "\n",
       "    .dataframe thead th {\n",
       "        text-align: right;\n",
       "    }\n",
       "</style>\n",
       "<table border=\"1\" class=\"dataframe\">\n",
       "  <thead>\n",
       "    <tr style=\"text-align: right;\">\n",
       "      <th></th>\n",
       "      <th>iteration</th>\n",
       "      <th>model</th>\n",
       "      <th>cross_val</th>\n",
       "      <th>accuracy</th>\n",
       "      <th>precision</th>\n",
       "      <th>recall</th>\n",
       "      <th>f1</th>\n",
       "      <th>cohen-kappa</th>\n",
       "    </tr>\n",
       "  </thead>\n",
       "  <tbody>\n",
       "    <tr>\n",
       "      <th>0</th>\n",
       "      <td>tree3</td>\n",
       "      <td>(CountVectorizer(max_df=0.99, min_df=0.05), De...</td>\n",
       "      <td>0.95862</td>\n",
       "      <td>0.962469</td>\n",
       "      <td>0.962469</td>\n",
       "      <td>0.962469</td>\n",
       "      <td>0.962469</td>\n",
       "      <td>0.890453</td>\n",
       "    </tr>\n",
       "  </tbody>\n",
       "</table>\n",
       "</div>"
      ],
      "text/plain": [
       "  iteration                                              model  cross_val  \\\n",
       "0     tree3  (CountVectorizer(max_df=0.99, min_df=0.05), De...    0.95862   \n",
       "\n",
       "   accuracy  precision    recall        f1  cohen-kappa  \n",
       "0  0.962469   0.962469  0.962469  0.962469     0.890453  "
      ]
     },
     "execution_count": 111,
     "metadata": {},
     "output_type": "execute_result"
    },
    {
     "data": {
      "image/png": "[encoded data removed]",
      "text/plain": [
       "<Figure size 432x288 with 2 Axes>"
      ]
     },
     "metadata": {
      "needs_background": "light"
     },
     "output_type": "display_data"
    }
   ],
   "source": [
    "#remove tree parameters and adjust vectorizer\n",
    "tree_pipe.set_params(tree__max_depth=None, tree__class_weight=None,\n",
    "                     vectorizer__min_df=0.05, vectorizer__max_df=0.99)\n",
    "\n",
    "#Fit\n",
    "tree_pipe.fit(X_train, y_train_enc)\n",
    "\n",
    "#Evaluate\n",
    "model_evaluation('tree3', tree_pipe, X_train, y_train_enc, X_test, y_test_enc)"
   ]
  },
  {
   "cell_type": "code",
   "execution_count": 103,
   "metadata": {},
   "outputs": [
    {
     "data": {
      "text/plain": [
       "<sklearn.metrics._plot.confusion_matrix.ConfusionMatrixDisplay at 0x1f4cc632a60>"
      ]
     },
     "execution_count": 103,
     "metadata": {},
     "output_type": "execute_result"
    },
    {
     "data": {
      "image/png": "[encoded data removed]",
      "text/plain": [
       "<Figure size 432x288 with 2 Axes>"
      ]
     },
     "metadata": {
      "needs_background": "light"
     },
     "output_type": "display_data"
    }
   ],
   "source": [
    "plot_confusion_matrix(tree_pipe, X_test, y_test_enc, display_labels=target_classes) #no normalizatoin"
   ]
  },
  {
   "cell_type": "markdown",
   "metadata": {},
   "source": [
    "This tree is the most accurate so far with a 96% accuracy score. It improves from tree1 in in its `center` and `conservative` target predictions while only suffering 1% decrease accuracy of `liberal` email predictions. As with tree1 model the model was most likely to make an error by classifying `center` emails as `liberal`. \n",
    "\n",
    "When observing the nonnormalized confusion matrix, the class imabalnce becomes apparent as there are so few `center` emails compared to `liberal` emails. While 7% of conservative emails are mis-identified, compared to 32% of `center` emails, 7% of conservative emails represents a greater proportion of the corpus overall (1,422 emails compared to 181 emails). "
   ]
  },
  {
   "cell_type": "code",
   "execution_count": 101,
   "metadata": {},
   "outputs": [
    {
     "data": {
      "text/html": [
       "<div>\n",
       "<style scoped>\n",
       "    .dataframe tbody tr th:only-of-type {\n",
       "        vertical-align: middle;\n",
       "    }\n",
       "\n",
       "    .dataframe tbody tr th {\n",
       "        vertical-align: top;\n",
       "    }\n",
       "\n",
       "    .dataframe thead th {\n",
       "        text-align: right;\n",
       "    }\n",
       "</style>\n",
       "<table border=\"1\" class=\"dataframe\">\n",
       "  <thead>\n",
       "    <tr style=\"text-align: right;\">\n",
       "      <th></th>\n",
       "      <th>0</th>\n",
       "    </tr>\n",
       "  </thead>\n",
       "  <tbody>\n",
       "    <tr>\n",
       "      <th>privacy</th>\n",
       "      <td>0.265888</td>\n",
       "    </tr>\n",
       "    <tr>\n",
       "      <th>conservative</th>\n",
       "      <td>0.133553</td>\n",
       "    </tr>\n",
       "    <tr>\n",
       "      <th>liberal</th>\n",
       "      <td>0.056164</td>\n",
       "    </tr>\n",
       "    <tr>\n",
       "      <th>fewer</th>\n",
       "      <td>0.053462</td>\n",
       "    </tr>\n",
       "    <tr>\n",
       "      <th>paid</th>\n",
       "      <td>0.038439</td>\n",
       "    </tr>\n",
       "  </tbody>\n",
       "</table>\n",
       "</div>"
      ],
      "text/plain": [
       "                     0\n",
       "privacy       0.265888\n",
       "conservative  0.133553\n",
       "liberal       0.056164\n",
       "fewer         0.053462\n",
       "paid          0.038439"
      ]
     },
     "execution_count": 101,
     "metadata": {},
     "output_type": "execute_result"
    }
   ],
   "source": [
    "#Finding the feature importances\n",
    "features = dict(zip(tree_pipe['vectorizer'].get_feature_names(), tree_pipe['tree'].feature_importances_))\n",
    "\n",
    "pd.DataFrame.from_dict(features, orient='index').sort_values(by=0, ascending=False).head(5)"
   ]
  },
  {
   "cell_type": "markdown",
   "metadata": {},
   "source": [
    "### Stochastic Gradient Descent (SGD)"
   ]
  },
  {
   "cell_type": "code",
   "execution_count": 130,
   "metadata": {},
   "outputs": [
    {
     "data": {
      "text/html": [
       "<div>\n",
       "<style scoped>\n",
       "    .dataframe tbody tr th:only-of-type {\n",
       "        vertical-align: middle;\n",
       "    }\n",
       "\n",
       "    .dataframe tbody tr th {\n",
       "        vertical-align: top;\n",
       "    }\n",
       "\n",
       "    .dataframe thead th {\n",
       "        text-align: right;\n",
       "    }\n",
       "</style>\n",
       "<table border=\"1\" class=\"dataframe\">\n",
       "  <thead>\n",
       "    <tr style=\"text-align: right;\">\n",
       "      <th></th>\n",
       "      <th>iteration</th>\n",
       "      <th>model</th>\n",
       "      <th>cross_val</th>\n",
       "      <th>accuracy</th>\n",
       "      <th>precision</th>\n",
       "      <th>recall</th>\n",
       "      <th>f1</th>\n",
       "      <th>cohen-kappa</th>\n",
       "    </tr>\n",
       "  </thead>\n",
       "  <tbody>\n",
       "    <tr>\n",
       "      <th>0</th>\n",
       "      <td>sgdc1</td>\n",
       "      <td>(CountVectorizer(), SGDClassifier())</td>\n",
       "      <td>0.989316</td>\n",
       "      <td>0.990702</td>\n",
       "      <td>0.990702</td>\n",
       "      <td>0.990702</td>\n",
       "      <td>0.990702</td>\n",
       "      <td>0.972851</td>\n",
       "    </tr>\n",
       "  </tbody>\n",
       "</table>\n",
       "</div>"
      ],
      "text/plain": [
       "  iteration                                 model  cross_val  accuracy  \\\n",
       "0     sgdc1  (CountVectorizer(), SGDClassifier())   0.989316  0.990702   \n",
       "\n",
       "   precision    recall        f1  cohen-kappa  \n",
       "0   0.990702  0.990702  0.990702     0.972851  "
      ]
     },
     "execution_count": 130,
     "metadata": {},
     "output_type": "execute_result"
    },
    {
     "data": {
      "image/png": "[encoded data removed]",
      "text/plain": [
       "<Figure size 432x288 with 2 Axes>"
      ]
     },
     "metadata": {
      "needs_background": "light"
     },
     "output_type": "display_data"
    }
   ],
   "source": [
    "#Make SGDC pipline\n",
    "sgdc_pipe = make_pipeline(CountVectorizer(),\n",
    "                          SGDClassifier())\n",
    "\n",
    "#Fit\n",
    "sgdc_pipe.fit(X_train, y_train_enc)\n",
    "\n",
    "#Evaluation\n",
    "model_evaluation('sgdc1', sgdc_pipe, X_train, y_train_enc, X_test, y_test_enc)"
   ]
  },
  {
   "cell_type": "code",
   "execution_count": 132,
   "metadata": {},
   "outputs": [],
   "source": [
    "#Finding the feature importances\n",
    "features = sgdc_pipe['countvectorizer'].get_feature_names()\n",
    "coefficients = sgdc_pipe['sgdclassifier'].coef_.flatten()\n",
    "\n",
    "#zip features and coefficients to form a dataframe\n",
    "feature_importances = pd.DataFrame(zip(features, coefficients), columns=['features', 'values'])\n",
    "\n",
    "#find absolute value of values\n",
    "feature_importances['abs_val'] = feature_importances['values'].apply(lambda x: abs(x))\n",
    "\n",
    "#sort values\n",
    "feature_importances.sort_values(by='abs_val', ascending=False)[:20]"
   ]
  },
  {
   "cell_type": "markdown",
   "metadata": {},
   "source": [
    "This model performed very well! With 99% accuracy! The model accurately classifyies both `liberal` and `conservative` emails, and captures a majority of the `center` ideology emails. The accuracy of each target corresponds with the proportion of the target within the dataset (liberal is the highest accuracy and the most observed label in the dataset, vice versa with center.) Perhaps the imbalance within the target partially contributes to the results. In the next model I will tune the class_weights of the SGDClassifier to 'balanced'."
   ]
  },
  {
   "cell_type": "code",
   "execution_count": 137,
   "metadata": {},
   "outputs": [
    {
     "data": {
      "text/html": [
       "<div>\n",
       "<style scoped>\n",
       "    .dataframe tbody tr th:only-of-type {\n",
       "        vertical-align: middle;\n",
       "    }\n",
       "\n",
       "    .dataframe tbody tr th {\n",
       "        vertical-align: top;\n",
       "    }\n",
       "\n",
       "    .dataframe thead th {\n",
       "        text-align: right;\n",
       "    }\n",
       "</style>\n",
       "<table border=\"1\" class=\"dataframe\">\n",
       "  <thead>\n",
       "    <tr style=\"text-align: right;\">\n",
       "      <th></th>\n",
       "      <th>iteration</th>\n",
       "      <th>model</th>\n",
       "      <th>cross_val</th>\n",
       "      <th>accuracy</th>\n",
       "      <th>precision</th>\n",
       "      <th>recall</th>\n",
       "      <th>f1</th>\n",
       "      <th>cohen-kappa</th>\n",
       "    </tr>\n",
       "  </thead>\n",
       "  <tbody>\n",
       "    <tr>\n",
       "      <th>0</th>\n",
       "      <td>sgdc2</td>\n",
       "      <td>(CountVectorizer(), SGDClassifier(class_weight...</td>\n",
       "      <td>0.987678</td>\n",
       "      <td>0.988479</td>\n",
       "      <td>0.988479</td>\n",
       "      <td>0.988479</td>\n",
       "      <td>0.988479</td>\n",
       "      <td>0.966688</td>\n",
       "    </tr>\n",
       "  </tbody>\n",
       "</table>\n",
       "</div>"
      ],
      "text/plain": [
       "  iteration                                              model  cross_val  \\\n",
       "0     sgdc2  (CountVectorizer(), SGDClassifier(class_weight...   0.987678   \n",
       "\n",
       "   accuracy  precision    recall        f1  cohen-kappa  \n",
       "0  0.988479   0.988479  0.988479  0.988479     0.966688  "
      ]
     },
     "execution_count": 137,
     "metadata": {},
     "output_type": "execute_result"
    },
    {
     "data": {
      "image/png": "[encoded data removed]",
      "text/plain": [
       "<Figure size 432x288 with 2 Axes>"
      ]
     },
     "metadata": {
      "needs_background": "light"
     },
     "output_type": "display_data"
    }
   ],
   "source": [
    "#Make SGDC2 pipline\n",
    "sgdc_pipe = make_pipeline(CountVectorizer(),\n",
    "                          SGDClassifier(class_weight='balanced',\n",
    "                                        random_state=42))\n",
    "\n",
    "#Fit\n",
    "sgdc_pipe.fit(X_train, y_train_enc)\n",
    "\n",
    "#Evaluation\n",
    "model_evaluation('sgdc2', sgdc_pipe, X_train, y_train_enc, X_test, y_test_enc)"
   ]
  },
  {
   "cell_type": "code",
   "execution_count": 140,
   "metadata": {},
   "outputs": [
    {
     "data": {
      "text/plain": [
       "<sklearn.metrics._plot.confusion_matrix.ConfusionMatrixDisplay at 0x1f4ab2685e0>"
      ]
     },
     "execution_count": 140,
     "metadata": {},
     "output_type": "execute_result"
    },
    {
     "data": {
      "image/png": "[encoded data removed]",
      "text/plain": [
       "<Figure size 432x288 with 2 Axes>"
      ]
     },
     "metadata": {
      "needs_background": "light"
     },
     "output_type": "display_data"
    }
   ],
   "source": [
    "plot_confusion_matrix(sgdc_pipe, X_test, y_test_enc, display_labels=target_classes) #not normalized"
   ]
  },
  {
   "cell_type": "code",
   "execution_count": 138,
   "metadata": {},
   "outputs": [
    {
     "data": {
      "text/html": [
       "<div>\n",
       "<style scoped>\n",
       "    .dataframe tbody tr th:only-of-type {\n",
       "        vertical-align: middle;\n",
       "    }\n",
       "\n",
       "    .dataframe tbody tr th {\n",
       "        vertical-align: top;\n",
       "    }\n",
       "\n",
       "    .dataframe thead th {\n",
       "        text-align: right;\n",
       "    }\n",
       "</style>\n",
       "<table border=\"1\" class=\"dataframe\">\n",
       "  <thead>\n",
       "    <tr style=\"text-align: right;\">\n",
       "      <th></th>\n",
       "      <th>features</th>\n",
       "      <th>values</th>\n",
       "      <th>abs_val</th>\n",
       "    </tr>\n",
       "  </thead>\n",
       "  <tbody>\n",
       "    <tr>\n",
       "      <th>27167</th>\n",
       "      <td>garbarino</td>\n",
       "      <td>3.823415</td>\n",
       "      <td>3.823415</td>\n",
       "    </tr>\n",
       "    <tr>\n",
       "      <th>38435</th>\n",
       "      <td>labels</td>\n",
       "      <td>3.664436</td>\n",
       "      <td>3.664436</td>\n",
       "    </tr>\n",
       "    <tr>\n",
       "      <th>50707</th>\n",
       "      <td>palzewicz</td>\n",
       "      <td>3.535424</td>\n",
       "      <td>3.535424</td>\n",
       "    </tr>\n",
       "    <tr>\n",
       "      <th>39078</th>\n",
       "      <td>lawler</td>\n",
       "      <td>3.245631</td>\n",
       "      <td>3.245631</td>\n",
       "    </tr>\n",
       "    <tr>\n",
       "      <th>33733</th>\n",
       "      <td>independent</td>\n",
       "      <td>2.957484</td>\n",
       "      <td>2.957484</td>\n",
       "    </tr>\n",
       "    <tr>\n",
       "      <th>16238</th>\n",
       "      <td>cwa</td>\n",
       "      <td>2.842450</td>\n",
       "      <td>2.842450</td>\n",
       "    </tr>\n",
       "    <tr>\n",
       "      <th>46580</th>\n",
       "      <td>nan</td>\n",
       "      <td>-2.828916</td>\n",
       "      <td>2.828916</td>\n",
       "    </tr>\n",
       "    <tr>\n",
       "      <th>59304</th>\n",
       "      <td>rock</td>\n",
       "      <td>2.608237</td>\n",
       "      <td>2.608237</td>\n",
       "    </tr>\n",
       "    <tr>\n",
       "      <th>9374</th>\n",
       "      <td>byrne</td>\n",
       "      <td>2.599994</td>\n",
       "      <td>2.599994</td>\n",
       "    </tr>\n",
       "    <tr>\n",
       "      <th>75740</th>\n",
       "      <td>weber</td>\n",
       "      <td>2.522172</td>\n",
       "      <td>2.522172</td>\n",
       "    </tr>\n",
       "    <tr>\n",
       "      <th>37292</th>\n",
       "      <td>khamis</td>\n",
       "      <td>2.486569</td>\n",
       "      <td>2.486569</td>\n",
       "    </tr>\n",
       "    <tr>\n",
       "      <th>15257</th>\n",
       "      <td>cpa</td>\n",
       "      <td>2.470368</td>\n",
       "      <td>2.470368</td>\n",
       "    </tr>\n",
       "    <tr>\n",
       "      <th>1572</th>\n",
       "      <td>albany</td>\n",
       "      <td>2.277357</td>\n",
       "      <td>2.277357</td>\n",
       "    </tr>\n",
       "    <tr>\n",
       "      <th>11336</th>\n",
       "      <td>charles</td>\n",
       "      <td>2.182164</td>\n",
       "      <td>2.182164</td>\n",
       "    </tr>\n",
       "    <tr>\n",
       "      <th>29243</th>\n",
       "      <td>gross</td>\n",
       "      <td>2.020693</td>\n",
       "      <td>2.020693</td>\n",
       "    </tr>\n",
       "    <tr>\n",
       "      <th>32459</th>\n",
       "      <td>humane</td>\n",
       "      <td>1.968085</td>\n",
       "      <td>1.968085</td>\n",
       "    </tr>\n",
       "    <tr>\n",
       "      <th>76980</th>\n",
       "      <td>woerner</td>\n",
       "      <td>1.963081</td>\n",
       "      <td>1.963081</td>\n",
       "    </tr>\n",
       "    <tr>\n",
       "      <th>26464</th>\n",
       "      <td>friend</td>\n",
       "      <td>-1.951085</td>\n",
       "      <td>1.951085</td>\n",
       "    </tr>\n",
       "    <tr>\n",
       "      <th>61388</th>\n",
       "      <td>scoop</td>\n",
       "      <td>1.909531</td>\n",
       "      <td>1.909531</td>\n",
       "    </tr>\n",
       "    <tr>\n",
       "      <th>61196</th>\n",
       "      <td>schmitt</td>\n",
       "      <td>1.906445</td>\n",
       "      <td>1.906445</td>\n",
       "    </tr>\n",
       "  </tbody>\n",
       "</table>\n",
       "</div>"
      ],
      "text/plain": [
       "          features    values   abs_val\n",
       "27167    garbarino  3.823415  3.823415\n",
       "38435       labels  3.664436  3.664436\n",
       "50707    palzewicz  3.535424  3.535424\n",
       "39078       lawler  3.245631  3.245631\n",
       "33733  independent  2.957484  2.957484\n",
       "16238          cwa  2.842450  2.842450\n",
       "46580          nan -2.828916  2.828916\n",
       "59304         rock  2.608237  2.608237\n",
       "9374         byrne  2.599994  2.599994\n",
       "75740        weber  2.522172  2.522172\n",
       "37292       khamis  2.486569  2.486569\n",
       "15257          cpa  2.470368  2.470368\n",
       "1572        albany  2.277357  2.277357\n",
       "11336      charles  2.182164  2.182164\n",
       "29243        gross  2.020693  2.020693\n",
       "32459       humane  1.968085  1.968085\n",
       "76980      woerner  1.963081  1.963081\n",
       "26464       friend -1.951085  1.951085\n",
       "61388        scoop  1.909531  1.909531\n",
       "61196      schmitt  1.906445  1.906445"
      ]
     },
     "execution_count": 138,
     "metadata": {},
     "output_type": "execute_result"
    }
   ],
   "source": [
    "#Finding the feature importances\n",
    "features = sgdc_pipe['countvectorizer'].get_feature_names()\n",
    "coefficients = sgdc_pipe['sgdclassifier'].coef_.flatten()\n",
    "\n",
    "#zip features and coefficients to form a dataframe\n",
    "feature_importances = pd.DataFrame(zip(features, coefficients), columns=['features', 'values'])\n",
    "\n",
    "#find absolute value of values\n",
    "feature_importances['abs_val'] = feature_importances['values'].apply(lambda x: abs(x))\n",
    "\n",
    "#sort values\n",
    "feature_importances.sort_values(by='abs_val', ascending=False)[:20]"
   ]
  },
  {
   "cell_type": "markdown",
   "metadata": {},
   "source": [
    "So far, the SGDClassifier models are accurate on training and testing data. However, after inspecting the important features of the model many are names which may not be generalizeable to future classification situations and impact how this model performs on unseen data. "
   ]
  },
  {
   "cell_type": "markdown",
   "metadata": {},
   "source": [
    "##  SGDClassifier with binary variable\n",
    "In this series of modeling, I am to explore if the features of a SGDClassifer model would be more generalizable using a binary target. I will train/test/split the data again after creating a binary target then model again with SGDClassifier and CountVectorizer."
   ]
  },
  {
   "cell_type": "code",
   "execution_count": 169,
   "metadata": {},
   "outputs": [],
   "source": [
    "#create new dataframe of only Liberal and Conservative emails\n",
    "data2 = data.loc[data['target'] != \"Center\"].copy() \n",
    "\n",
    "#reproduce train/test/split with binary target\n",
    "X2 = data2['text'].astype(str)\n",
    "y2 = data2['target']\n",
    "\n",
    "X_train2, X_test2, y_train2, y_test2 = train_test_split(X2, y2, random_state=42, test_size=0.35, stratify=y2)\n",
    "X_test2, X_val2, y_test2, y_val2 = train_test_split(X_test2, y_test2, random_state=42, test_size = 0.2, stratify=y_test2)\n",
    "\n",
    "#encode binary target\n",
    "y_train_enc2= le.fit_transform(y_train2)\n",
    "y_test_enc2= le.transform(y_test2)\n",
    "\n",
    "target_classes = le.classes_ #keeping this as 'target_classes' for use in model_evaluation function"
   ]
  },
  {
   "cell_type": "code",
   "execution_count": 167,
   "metadata": {},
   "outputs": [
    {
     "data": {
      "text/html": [
       "<div>\n",
       "<style scoped>\n",
       "    .dataframe tbody tr th:only-of-type {\n",
       "        vertical-align: middle;\n",
       "    }\n",
       "\n",
       "    .dataframe tbody tr th {\n",
       "        vertical-align: top;\n",
       "    }\n",
       "\n",
       "    .dataframe thead th {\n",
       "        text-align: right;\n",
       "    }\n",
       "</style>\n",
       "<table border=\"1\" class=\"dataframe\">\n",
       "  <thead>\n",
       "    <tr style=\"text-align: right;\">\n",
       "      <th></th>\n",
       "      <th>iteration</th>\n",
       "      <th>model</th>\n",
       "      <th>cross_val</th>\n",
       "      <th>accuracy</th>\n",
       "      <th>precision</th>\n",
       "      <th>recall</th>\n",
       "      <th>f1</th>\n",
       "      <th>cohen-kappa</th>\n",
       "    </tr>\n",
       "  </thead>\n",
       "  <tbody>\n",
       "    <tr>\n",
       "      <th>0</th>\n",
       "      <td>sgdc_binary</td>\n",
       "      <td>(CountVectorizer(), SGDClassifier())</td>\n",
       "      <td>0.990921</td>\n",
       "      <td>0.99196</td>\n",
       "      <td>0.99196</td>\n",
       "      <td>0.99196</td>\n",
       "      <td>0.99196</td>\n",
       "      <td>0.975898</td>\n",
       "    </tr>\n",
       "  </tbody>\n",
       "</table>\n",
       "</div>"
      ],
      "text/plain": [
       "     iteration                                 model  cross_val  accuracy  \\\n",
       "0  sgdc_binary  (CountVectorizer(), SGDClassifier())   0.990921   0.99196   \n",
       "\n",
       "   precision   recall       f1  cohen-kappa  \n",
       "0    0.99196  0.99196  0.99196     0.975898  "
      ]
     },
     "execution_count": 167,
     "metadata": {},
     "output_type": "execute_result"
    },
    {
     "data": {
      "image/png": "[encoded data removed]",
      "text/plain": [
       "<Figure size 432x288 with 2 Axes>"
      ]
     },
     "metadata": {
      "needs_background": "light"
     },
     "output_type": "display_data"
    }
   ],
   "source": [
    "#Make SGDC pipline for binary target. Use same parameters as before\n",
    "sgdc_binary = make_pipeline(CountVectorizer(),\n",
    "                           SGDClassifier(random_state=42))\n",
    "\n",
    "#Fit\n",
    "sgdc_binary.fit(X_train2, y_train_enc2)\n",
    "\n",
    "#Evaluation\n",
    "model_evaluation('sgdc_binary', sgdc_binary, X_train2, y_train_enc2, X_test2, y_test_enc2)"
   ]
  },
  {
   "cell_type": "code",
   "execution_count": 168,
   "metadata": {},
   "outputs": [
    {
     "data": {
      "text/html": [
       "<div>\n",
       "<style scoped>\n",
       "    .dataframe tbody tr th:only-of-type {\n",
       "        vertical-align: middle;\n",
       "    }\n",
       "\n",
       "    .dataframe tbody tr th {\n",
       "        vertical-align: top;\n",
       "    }\n",
       "\n",
       "    .dataframe thead th {\n",
       "        text-align: right;\n",
       "    }\n",
       "</style>\n",
       "<table border=\"1\" class=\"dataframe\">\n",
       "  <thead>\n",
       "    <tr style=\"text-align: right;\">\n",
       "      <th></th>\n",
       "      <th>features</th>\n",
       "      <th>values</th>\n",
       "      <th>abs_val</th>\n",
       "    </tr>\n",
       "  </thead>\n",
       "  <tbody>\n",
       "    <tr>\n",
       "      <th>48731</th>\n",
       "      <td>opt</td>\n",
       "      <td>-1.167156</td>\n",
       "      <td>1.167156</td>\n",
       "    </tr>\n",
       "    <tr>\n",
       "      <th>33048</th>\n",
       "      <td>inc</td>\n",
       "      <td>-1.049789</td>\n",
       "      <td>1.049789</td>\n",
       "    </tr>\n",
       "    <tr>\n",
       "      <th>10325</th>\n",
       "      <td>castle</td>\n",
       "      <td>-0.984584</td>\n",
       "      <td>0.984584</td>\n",
       "    </tr>\n",
       "    <tr>\n",
       "      <th>39233</th>\n",
       "      <td>liberal</td>\n",
       "      <td>-0.919380</td>\n",
       "      <td>0.919380</td>\n",
       "    </tr>\n",
       "    <tr>\n",
       "      <th>20837</th>\n",
       "      <td>edit</td>\n",
       "      <td>-0.906339</td>\n",
       "      <td>0.906339</td>\n",
       "    </tr>\n",
       "    <tr>\n",
       "      <th>22386</th>\n",
       "      <td>error</td>\n",
       "      <td>0.870477</td>\n",
       "      <td>0.870477</td>\n",
       "    </tr>\n",
       "    <tr>\n",
       "      <th>16932</th>\n",
       "      <td>deductible</td>\n",
       "      <td>0.854176</td>\n",
       "      <td>0.854176</td>\n",
       "    </tr>\n",
       "    <tr>\n",
       "      <th>61704</th>\n",
       "      <td>shaun</td>\n",
       "      <td>-0.844395</td>\n",
       "      <td>0.844395</td>\n",
       "    </tr>\n",
       "    <tr>\n",
       "      <th>74685</th>\n",
       "      <td>weld</td>\n",
       "      <td>-0.834615</td>\n",
       "      <td>0.834615</td>\n",
       "    </tr>\n",
       "    <tr>\n",
       "      <th>39250</th>\n",
       "      <td>libertarian</td>\n",
       "      <td>-0.831354</td>\n",
       "      <td>0.831354</td>\n",
       "    </tr>\n",
       "    <tr>\n",
       "      <th>27440</th>\n",
       "      <td>gifts</td>\n",
       "      <td>0.746589</td>\n",
       "      <td>0.746589</td>\n",
       "    </tr>\n",
       "    <tr>\n",
       "      <th>63510</th>\n",
       "      <td>socialist</td>\n",
       "      <td>-0.713987</td>\n",
       "      <td>0.713987</td>\n",
       "    </tr>\n",
       "    <tr>\n",
       "      <th>24368</th>\n",
       "      <td>fewer</td>\n",
       "      <td>0.707466</td>\n",
       "      <td>0.707466</td>\n",
       "    </tr>\n",
       "    <tr>\n",
       "      <th>13864</th>\n",
       "      <td>conservative</td>\n",
       "      <td>-0.691165</td>\n",
       "      <td>0.691165</td>\n",
       "    </tr>\n",
       "    <tr>\n",
       "      <th>46125</th>\n",
       "      <td>nbs</td>\n",
       "      <td>0.691165</td>\n",
       "      <td>0.691165</td>\n",
       "    </tr>\n",
       "    <tr>\n",
       "      <th>63638</th>\n",
       "      <td>solidarity</td>\n",
       "      <td>0.678124</td>\n",
       "      <td>0.678124</td>\n",
       "    </tr>\n",
       "    <tr>\n",
       "      <th>50459</th>\n",
       "      <td>patriot</td>\n",
       "      <td>-0.671604</td>\n",
       "      <td>0.671604</td>\n",
       "    </tr>\n",
       "    <tr>\n",
       "      <th>50463</th>\n",
       "      <td>patriots</td>\n",
       "      <td>-0.652043</td>\n",
       "      <td>0.652043</td>\n",
       "    </tr>\n",
       "    <tr>\n",
       "      <th>53225</th>\n",
       "      <td>preferences</td>\n",
       "      <td>-0.652043</td>\n",
       "      <td>0.652043</td>\n",
       "    </tr>\n",
       "    <tr>\n",
       "      <th>17402</th>\n",
       "      <td>democracy</td>\n",
       "      <td>0.652043</td>\n",
       "      <td>0.652043</td>\n",
       "    </tr>\n",
       "  </tbody>\n",
       "</table>\n",
       "</div>"
      ],
      "text/plain": [
       "           features    values   abs_val\n",
       "48731           opt -1.167156  1.167156\n",
       "33048           inc -1.049789  1.049789\n",
       "10325        castle -0.984584  0.984584\n",
       "39233       liberal -0.919380  0.919380\n",
       "20837          edit -0.906339  0.906339\n",
       "22386         error  0.870477  0.870477\n",
       "16932    deductible  0.854176  0.854176\n",
       "61704         shaun -0.844395  0.844395\n",
       "74685          weld -0.834615  0.834615\n",
       "39250   libertarian -0.831354  0.831354\n",
       "27440         gifts  0.746589  0.746589\n",
       "63510     socialist -0.713987  0.713987\n",
       "24368         fewer  0.707466  0.707466\n",
       "13864  conservative -0.691165  0.691165\n",
       "46125           nbs  0.691165  0.691165\n",
       "63638    solidarity  0.678124  0.678124\n",
       "50459       patriot -0.671604  0.671604\n",
       "50463      patriots -0.652043  0.652043\n",
       "53225   preferences -0.652043  0.652043\n",
       "17402     democracy  0.652043  0.652043"
      ]
     },
     "execution_count": 168,
     "metadata": {},
     "output_type": "execute_result"
    }
   ],
   "source": [
    "#Finding the feature importances\n",
    "features = sgdc_binary['countvectorizer'].get_feature_names()\n",
    "coefficients = sgdc_binary['sgdclassifier'].coef_.flatten()\n",
    "\n",
    "#zip features and coefficients to form a dataframe\n",
    "feature_importances = pd.DataFrame(zip(features, coefficients), columns=['features', 'values'])\n",
    "\n",
    "#find absolute value of values\n",
    "feature_importances['abs_val'] = feature_importances['values'].apply(lambda x: abs(x))\n",
    "\n",
    "#sort values\n",
    "feature_importances.sort_values(by='abs_val', ascending=False)[:20]"
   ]
  },
  {
   "cell_type": "markdown",
   "metadata": {},
   "source": [
    "The top features of this list are different from the multi-class target. It contains fewer names and more politically-charged words. \n",
    "\n",
    "In the next model I will tune the vectorizer to reduce the demensionality of the words. "
   ]
  },
  {
   "cell_type": "code",
   "execution_count": 172,
   "metadata": {},
   "outputs": [
    {
     "data": {
      "text/html": [
       "<div>\n",
       "<style scoped>\n",
       "    .dataframe tbody tr th:only-of-type {\n",
       "        vertical-align: middle;\n",
       "    }\n",
       "\n",
       "    .dataframe tbody tr th {\n",
       "        vertical-align: top;\n",
       "    }\n",
       "\n",
       "    .dataframe thead th {\n",
       "        text-align: right;\n",
       "    }\n",
       "</style>\n",
       "<table border=\"1\" class=\"dataframe\">\n",
       "  <thead>\n",
       "    <tr style=\"text-align: right;\">\n",
       "      <th></th>\n",
       "      <th>iteration</th>\n",
       "      <th>model</th>\n",
       "      <th>cross_val</th>\n",
       "      <th>accuracy</th>\n",
       "      <th>precision</th>\n",
       "      <th>recall</th>\n",
       "      <th>f1</th>\n",
       "      <th>cohen-kappa</th>\n",
       "    </tr>\n",
       "  </thead>\n",
       "  <tbody>\n",
       "    <tr>\n",
       "      <th>0</th>\n",
       "      <td>sgdc_binary2</td>\n",
       "      <td>(CountVectorizer(max_df=0.99, min_df=0.02), SG...</td>\n",
       "      <td>0.973437</td>\n",
       "      <td>0.973347</td>\n",
       "      <td>0.973347</td>\n",
       "      <td>0.973347</td>\n",
       "      <td>0.973347</td>\n",
       "      <td>0.919019</td>\n",
       "    </tr>\n",
       "  </tbody>\n",
       "</table>\n",
       "</div>"
      ],
      "text/plain": [
       "      iteration                                              model  cross_val  \\\n",
       "0  sgdc_binary2  (CountVectorizer(max_df=0.99, min_df=0.02), SG...   0.973437   \n",
       "\n",
       "   accuracy  precision    recall        f1  cohen-kappa  \n",
       "0  0.973347   0.973347  0.973347  0.973347     0.919019  "
      ]
     },
     "execution_count": 172,
     "metadata": {},
     "output_type": "execute_result"
    },
    {
     "data": {
      "image/png": "[encoded data removed]",
      "text/plain": [
       "<Figure size 432x288 with 2 Axes>"
      ]
     },
     "metadata": {
      "needs_background": "light"
     },
     "output_type": "display_data"
    }
   ],
   "source": [
    "#Set parameter\n",
    "sgdc_binary.set_params(countvectorizer__min_df=0.02, countvectorizer__max_df=0.99)\n",
    "\n",
    "#Fit\n",
    "sgdc_binary.fit(X_train2, y_train_enc2)\n",
    "\n",
    "#Evaluation\n",
    "model_evaluation('sgdc_binary2', sgdc_binary, X_train2, y_train_enc2, X_test2, y_test_enc2)"
   ]
  },
  {
   "cell_type": "code",
   "execution_count": 173,
   "metadata": {},
   "outputs": [
    {
     "data": {
      "text/html": [
       "<div>\n",
       "<style scoped>\n",
       "    .dataframe tbody tr th:only-of-type {\n",
       "        vertical-align: middle;\n",
       "    }\n",
       "\n",
       "    .dataframe tbody tr th {\n",
       "        vertical-align: top;\n",
       "    }\n",
       "\n",
       "    .dataframe thead th {\n",
       "        text-align: right;\n",
       "    }\n",
       "</style>\n",
       "<table border=\"1\" class=\"dataframe\">\n",
       "  <thead>\n",
       "    <tr style=\"text-align: right;\">\n",
       "      <th></th>\n",
       "      <th>features</th>\n",
       "      <th>values</th>\n",
       "      <th>abs_val</th>\n",
       "    </tr>\n",
       "  </thead>\n",
       "  <tbody>\n",
       "    <tr>\n",
       "      <th>629</th>\n",
       "      <td>liberal</td>\n",
       "      <td>-1.796267</td>\n",
       "      <td>1.796267</td>\n",
       "    </tr>\n",
       "    <tr>\n",
       "      <th>282</th>\n",
       "      <td>deductible</td>\n",
       "      <td>1.607304</td>\n",
       "      <td>1.607304</td>\n",
       "    </tr>\n",
       "    <tr>\n",
       "      <th>9</th>\n",
       "      <td>actblue</td>\n",
       "      <td>1.529495</td>\n",
       "      <td>1.529495</td>\n",
       "    </tr>\n",
       "    <tr>\n",
       "      <th>772</th>\n",
       "      <td>opt</td>\n",
       "      <td>-1.451686</td>\n",
       "      <td>1.451686</td>\n",
       "    </tr>\n",
       "    <tr>\n",
       "      <th>466</th>\n",
       "      <td>gifts</td>\n",
       "      <td>1.418340</td>\n",
       "      <td>1.418340</td>\n",
       "    </tr>\n",
       "    <tr>\n",
       "      <th>796</th>\n",
       "      <td>patriot</td>\n",
       "      <td>-1.413894</td>\n",
       "      <td>1.413894</td>\n",
       "    </tr>\n",
       "    <tr>\n",
       "      <th>797</th>\n",
       "      <td>patriots</td>\n",
       "      <td>-1.340531</td>\n",
       "      <td>1.340531</td>\n",
       "    </tr>\n",
       "    <tr>\n",
       "      <th>168</th>\n",
       "      <td>charitable</td>\n",
       "      <td>-1.331639</td>\n",
       "      <td>1.331639</td>\n",
       "    </tr>\n",
       "    <tr>\n",
       "      <th>1033</th>\n",
       "      <td>socialist</td>\n",
       "      <td>-1.282730</td>\n",
       "      <td>1.282730</td>\n",
       "    </tr>\n",
       "    <tr>\n",
       "      <th>220</th>\n",
       "      <td>conservatives</td>\n",
       "      <td>-1.182691</td>\n",
       "      <td>1.182691</td>\n",
       "    </tr>\n",
       "    <tr>\n",
       "      <th>365</th>\n",
       "      <td>error</td>\n",
       "      <td>1.136006</td>\n",
       "      <td>1.136006</td>\n",
       "    </tr>\n",
       "    <tr>\n",
       "      <th>219</th>\n",
       "      <td>conservative</td>\n",
       "      <td>-1.075982</td>\n",
       "      <td>1.075982</td>\n",
       "    </tr>\n",
       "    <tr>\n",
       "      <th>556</th>\n",
       "      <td>inc</td>\n",
       "      <td>-1.033743</td>\n",
       "      <td>1.033743</td>\n",
       "    </tr>\n",
       "    <tr>\n",
       "      <th>233</th>\n",
       "      <td>copyright</td>\n",
       "      <td>-1.022627</td>\n",
       "      <td>1.022627</td>\n",
       "    </tr>\n",
       "    <tr>\n",
       "      <th>845</th>\n",
       "      <td>preferences</td>\n",
       "      <td>-0.991504</td>\n",
       "      <td>0.991504</td>\n",
       "    </tr>\n",
       "    <tr>\n",
       "      <th>844</th>\n",
       "      <td>prefer</td>\n",
       "      <td>-0.991504</td>\n",
       "      <td>0.991504</td>\n",
       "    </tr>\n",
       "    <tr>\n",
       "      <th>855</th>\n",
       "      <td>profile</td>\n",
       "      <td>-0.960381</td>\n",
       "      <td>0.960381</td>\n",
       "    </tr>\n",
       "    <tr>\n",
       "      <th>291</th>\n",
       "      <td>democracy</td>\n",
       "      <td>0.958157</td>\n",
       "      <td>0.958157</td>\n",
       "    </tr>\n",
       "    <tr>\n",
       "      <th>859</th>\n",
       "      <td>progressive</td>\n",
       "      <td>0.947042</td>\n",
       "      <td>0.947042</td>\n",
       "    </tr>\n",
       "    <tr>\n",
       "      <th>408</th>\n",
       "      <td>fewer</td>\n",
       "      <td>0.931480</td>\n",
       "      <td>0.931480</td>\n",
       "    </tr>\n",
       "  </tbody>\n",
       "</table>\n",
       "</div>"
      ],
      "text/plain": [
       "           features    values   abs_val\n",
       "629         liberal -1.796267  1.796267\n",
       "282      deductible  1.607304  1.607304\n",
       "9           actblue  1.529495  1.529495\n",
       "772             opt -1.451686  1.451686\n",
       "466           gifts  1.418340  1.418340\n",
       "796         patriot -1.413894  1.413894\n",
       "797        patriots -1.340531  1.340531\n",
       "168      charitable -1.331639  1.331639\n",
       "1033      socialist -1.282730  1.282730\n",
       "220   conservatives -1.182691  1.182691\n",
       "365           error  1.136006  1.136006\n",
       "219    conservative -1.075982  1.075982\n",
       "556             inc -1.033743  1.033743\n",
       "233       copyright -1.022627  1.022627\n",
       "845     preferences -0.991504  0.991504\n",
       "844          prefer -0.991504  0.991504\n",
       "855         profile -0.960381  0.960381\n",
       "291       democracy  0.958157  0.958157\n",
       "859     progressive  0.947042  0.947042\n",
       "408           fewer  0.931480  0.931480"
      ]
     },
     "execution_count": 173,
     "metadata": {},
     "output_type": "execute_result"
    }
   ],
   "source": [
    "#Finding the feature importances\n",
    "features = sgdc_binary['countvectorizer'].get_feature_names()\n",
    "coefficients = sgdc_binary['sgdclassifier'].coef_.flatten()\n",
    "\n",
    "#zip features and coefficients to form a dataframe\n",
    "feature_importances = pd.DataFrame(zip(features, coefficients), columns=['features', 'values'])\n",
    "\n",
    "#find absolute value of values\n",
    "feature_importances['abs_val'] = feature_importances['values'].apply(lambda x: abs(x))\n",
    "\n",
    "#sort values\n",
    "feature_importances.sort_values(by='abs_val', ascending=False)[:20]"
   ]
  },
  {
   "cell_type": "code",
   "execution_count": 174,
   "metadata": {},
   "outputs": [
    {
     "name": "stdout",
     "output_type": "stream",
     "text": [
      "1266 features in sgdc_binary2\n"
     ]
    }
   ],
   "source": [
    "print(f'{len(feature_importances)} features in sgdc_binary2')"
   ]
  },
  {
   "cell_type": "markdown",
   "metadata": {},
   "source": [
    "Reducing the number of features decreased the accuracy score from 99% to 97%. The model continues to perform well and better than the baseline. For the next model I will tune the CountVectorizer to allow for more features with the aim of increasing the accuracy score. "
   ]
  },
  {
   "cell_type": "code",
   "execution_count": null,
   "metadata": {},
   "outputs": [
    {
     "ename": "Error",
     "evalue": "Session cannot generate requests",
     "output_type": "error",
     "traceback": [
      "Error: Session cannot generate requests",
      "at S.executeCodeCell (c:\\Users\\cryst\\.vscode\\extensions\\ms-toolsai.jupyter-2021.10.1101450599\\out\\client\\extension.js:66:301742)",
      "at S.execute (c:\\Users\\cryst\\.vscode\\extensions\\ms-toolsai.jupyter-2021.10.1101450599\\out\\client\\extension.js:66:300732)",
      "at S.start (c:\\Users\\cryst\\.vscode\\extensions\\ms-toolsai.jupyter-2021.10.1101450599\\out\\client\\extension.js:66:296408)",
      "at runMicrotasks (<anonymous>)",
      "at processTicksAndRejections (internal/process/task_queues.js:93:5)",
      "at async t.CellExecutionQueue.executeQueuedCells (c:\\Users\\cryst\\.vscode\\extensions\\ms-toolsai.jupyter-2021.10.1101450599\\out\\client\\extension.js:66:312326)",
      "at async t.CellExecutionQueue.start (c:\\Users\\cryst\\.vscode\\extensions\\ms-toolsai.jupyter-2021.10.1101450599\\out\\client\\extension.js:66:311862)"
     ]
    }
   ],
   "source": [
    "#adjust max_df parameter\n",
    "sgdc_binary.set_params(countvectorizer__max_df=1.0, countvectorizer__min_df=0.01)\n",
    "\n",
    "#Fit\n",
    "sgdc_binary.fit(X_train2, y_train_enc2)\n",
    "\n",
    "#Evaluation\n",
    "model_evaluation('sgdc_binary3', sgdc_binary, X_train2, y_train_enc2, X_test2, y_test_enc2)"
   ]
  },
  {
   "cell_type": "code",
   "execution_count": null,
   "metadata": {},
   "outputs": [],
   "source": []
  }
 ],
 "metadata": {
  "interpreter": {
   "hash": "c273e92b90d28d3e4b67f22c19062817ead2d21a5feee39ce00d5f6ffaa4685b"
  },
  "kernelspec": {
   "display_name": "Python 3.8.5 64-bit ('learn-env': conda)",
   "language": "python",
   "name": "python3"
  },
  "language_info": {
   "codemirror_mode": {
    "name": "ipython",
    "version": 3
   },
   "file_extension": ".py",
   "mimetype": "text/x-python",
   "name": "python",
   "nbconvert_exporter": "python",
   "pygments_lexer": "ipython3",
   "version": "3.8.5"
  },
  "orig_nbformat": 4
 },
 "nbformat": 4,
 "nbformat_minor": 2
}
